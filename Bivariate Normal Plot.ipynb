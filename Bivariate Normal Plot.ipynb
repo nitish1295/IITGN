{
 "cells": [
  {
   "cell_type": "markdown",
   "metadata": {},
   "source": [
    "## Introduction\n",
    "\n",
    "### Understanding Bivariate Normal Distribution\n",
    "\n",
    "Let $U$ and $V$ be two independent normal random variables, and consider two new random variables $X$ and $Y$ of the form\n",
    "$$\n",
    "\\begin{aligned}\n",
    "&X=a U+b V \\\\\n",
    "&Y=c U+d V\n",
    "\\end{aligned}\n",
    "$$\n",
    "where $a, b, c, d$, are some scalars. Each one of the random variables $X$ and $Y$ is normal, since it is a linear function of independent normal random variables.Furthermore, because $X$ and $Y$ are linear functions of the same two independent normal random variables, their joint PDF takes a special form, known as the **bivariate normal PDF**. "
   ]
  },
  {
   "cell_type": "code",
   "execution_count": 1,
   "metadata": {},
   "outputs": [],
   "source": [
    "import ipywidgets as widgets\n",
    "from ipywidgets import interact\n",
    "from IPython.display import display\n",
    "import time\n",
    "import jax\n",
    "from jax.random import multivariate_normal\n",
    "import numpy as np\n",
    "import plotly.graph_objects as go\n",
    "from numpy import linalg as LA"
   ]
  },
  {
   "cell_type": "code",
   "execution_count": 2,
   "metadata": {},
   "outputs": [],
   "source": [
    "# Add Sliders to change parameters\n",
    "var_X = widgets.FloatSlider(description='var_X',min=1,value=1.5,step=0.1,continuous_update=False)\n",
    "var_Y = widgets.FloatSlider(description='var_Y',min=1,value=1.0,step=0.1,continuous_update=False)\n",
    "mean_X = widgets.FloatSlider(description='mean_X',value=0,step=0.1,continuous_update=False)\n",
    "mean_Y = widgets.FloatSlider(description='mean_Y',value=0,step=0.1,continuous_update=False)\n",
    "cov_XY = widgets.FloatSlider(description='cov_XY',value=0.4,step=0.1,continuous_update=False)\n",
    "sample_size = widgets.IntSlider(description='sample_size',min=100,max=1000,continuous_update=False)\n",
    "\n",
    "# Create a dict for easy access\n",
    "slider_dict = {\"var_X\":var_X,\n",
    "               \"var_Y\":var_Y,\n",
    "               \"mean_X\":mean_X,\n",
    "               \"mean_Y\":mean_Y,\n",
    "               \"cov_XY\":cov_XY,\n",
    "               \"sample_size\":sample_size}"
   ]
  },
  {
   "cell_type": "markdown",
   "metadata": {},
   "source": [
    "## Generating Bivariate Normal Data usin JAX\n",
    "\n",
    "$X$ and $Y$ are bivariately normally distributed with mean vector components $\\mu_{1}$ and $\\mu_{2}$ and variance-covariance matrix shown below:\n",
    "$$\n",
    "\\left(\\begin{array}{l}\n",
    "X \\\\\n",
    "Y\n",
    "\\end{array}\\right) \\sim N\\left[\\left(\\begin{array}{l}\n",
    "\\mu_{1} \\\\\n",
    "\\mu_{2}\n",
    "\\end{array}\\right),\\left(\\begin{array}{cc}\n",
    "\\sigma_{1}^{2} & \\rho \\sigma_{1} \\sigma_{2} \\\\\n",
    "\\rho \\sigma_{1} \\sigma_{2} & \\sigma_{2}^{2}\n",
    "\\end{array}\\right)\\right]\n",
    "$$\n",
    "In this case we have the variances for the two variables on the diagonal and on the off-diagonal we have the covariance between the two variables. This covariance is equal to the correlation($\\rho$) times the product of the two standard deviations($\\sigma_{1} and \\ \\sigma_{2}$) "
   ]
  },
  {
   "cell_type": "code",
   "execution_count": 3,
   "metadata": {},
   "outputs": [],
   "source": [
    "def generate_bivariate_norm():\n",
    "    '''\n",
    "    Add Function doc string\n",
    "    '''\n",
    "    \n",
    "    key = jax.random.PRNGKey(0)\n",
    "    cov = np.array([[var_X.value, cov_XY.value], [cov_XY.value, var_Y.value]])\n",
    "    mean = np.array([mean_X.value,mean_Y.value])\n",
    "    \n",
    "    # Ensuirng the variance-covariance matrix is positive semidefinite usin eigen values, if not generate a new random positive \n",
    "    # semidefinite variance-covariance matrix\n",
    "    \n",
    "    cov_eignvals = LA.eigvals(cov)\n",
    "    \n",
    "    if(np.any(cov_eignvals < 0)):\n",
    "        print(f\"The current covariance matrix {cov} is not positive semidefinite hence a new random covariance martrix will be created\")\n",
    "        rand_mat = np.random.rand(2,2)\n",
    "        cov = np.dot(rand_mat, rand_mat.T)\n",
    "        cov_XY.value = cov[:, -1][0]\n",
    "        \n",
    "    x1,x2 = multivariate_normal(key, mean, cov, (sample_size.value,)).T\n",
    "    return x1,x2"
   ]
  },
  {
   "cell_type": "markdown",
   "metadata": {},
   "source": [
    "## Marginal PDF of random variables in Bivariate Normal Distribution\n",
    "\n",
    "The marginal distributions of $N\\left(\\mu_{1}, \\mu_{2}, \\sigma_{1}^{2}, \\sigma_{2}^{2}, \\rho\\right)$ are normal with r.v's $X$ and $Y$ having density functions\n",
    "$$\n",
    "f_{X}(x)=\\frac{1}{\\sqrt{2 \\pi} \\sigma_{1}} e^{-\\frac{\\left(x-\\mu_{1}\\right)^{2}}{2 \\sigma_{1}^{2}}}, \\quad f_{Y}(y)=\\frac{1}{\\sqrt{2 \\pi} \\sigma_{2}} e^{-\\frac{\\left(y-\\mu_{2}\\right)^{2}}{2 \\sigma_{2}^{2}}}\n",
    "$$\n"
   ]
  },
  {
   "cell_type": "code",
   "execution_count": 4,
   "metadata": {},
   "outputs": [],
   "source": [
    "def marginal_PDF(x):\n",
    "    mean = np.mean(x)\n",
    "    var  = np.var(x)\n",
    "    std_dev = np.sqrt(var)\n",
    "    \n",
    "    const = 1/(2.506628274631*std_dev)\n",
    "    \n",
    "    power = 1/np.exp(((x-mean)**2)/(2*var))\n",
    "    return const*power"
   ]
  },
  {
   "cell_type": "markdown",
   "metadata": {},
   "source": [
    "## Graphing and Plotting Data\n",
    "\n",
    "### Intial Graph"
   ]
  },
  {
   "cell_type": "code",
   "execution_count": 5,
   "metadata": {
    "colab": {
     "base_uri": "https://localhost:8080/",
     "height": 66,
     "referenced_widgets": [
      "df206dcfa2474c0f80a2182d6811bb4f",
      "1d111b8f37f14f26b5d1b06440614c98",
      "940a1006854f4e16a4350eb95d9ad642",
      "4a175ed82bc948ca9f89b4b57238afe3",
      "0708841faa5541159ecde5fa81644a11",
      "948fffe0f358418f894fab68ba7aa7af",
      "87bf864c99a74c4195e8975f90253f3a",
      "bf4d35e5e10c488d82e4af721c542c01",
      "e3edd9a90d5f4cb4882e10b40de7800c",
      "c043f02166124c128459138db6abcdea",
      "a3b53a60c06d4dd6a5637ba29476384b",
      "1db368206dbe4592b4bb2ba5bb1baf99",
      "ab27bc3bd26544fcb718f7b1a75e8623",
      "2756afadd0c04a9c8e034f27715e8d5c",
      "46370b770040403891d3bf5685f8e665",
      "3fd902fe0d4248f1b31d659936abbe31",
      "ceedf166ae0f4705a48ca19cbbce20e2",
      "d9e0609b295d407abf201121b25f9515",
      "58939b4b1f544ffdb370a52a02fe059a",
      "c0576f04ba0c4101a600bad3fc31ebc5",
      "6100af7dcd2f404fa24e9a7c29a8b395",
      "55a9a0272f64439aa17034885603124b",
      "d747232b70b54601ab7fa5abc3954f2f"
     ]
    },
    "id": "QTqLj8e9EEPk",
    "outputId": "37e56b2c-1e37-47b7-9f74-13943519b88a"
   },
   "outputs": [
    {
     "name": "stderr",
     "output_type": "stream",
     "text": [
      "WARNING:absl:No GPU/TPU found, falling back to CPU. (Set TF_CPP_MIN_LOG_LEVEL=0 and rerun for more info.)\n"
     ]
    }
   ],
   "source": [
    "# Generate a Bivariate Normal Distribution using JAX\n",
    "x1,x2 = generate_bivariate_norm()\n",
    "\n",
    "# Plot for marginal PDF of rv x1\n",
    "fig_mar_x1 = go.Scatter3d(\n",
    "    x=np.sort(x1),\n",
    "    y=sample_size.value*[np.min(x2)],\n",
    "    z=marginal_PDF(np.sort(x1)),\n",
    "    mode='lines',\n",
    "    marker=dict(\n",
    "        size=2,\n",
    "        # color=z,               \n",
    "        colorscale='Viridis',   \n",
    "        opacity=0.8\n",
    "    ))\n",
    "\n",
    "# Plot for marginal PDF of rv x2\n",
    "fig_mar_x2 = go.Scatter3d(\n",
    "    x=sample_size.value*[np.min(x1)],\n",
    "    y=np.sort(x2),\n",
    "    z=marginal_PDF(np.sort(x2)),\n",
    "    mode='lines',\n",
    "    marker=dict(\n",
    "        size=2,\n",
    "        # color=z,                \n",
    "        colorscale='Viridis',   \n",
    "        opacity=0.8\n",
    "    ))\n",
    "\n",
    "# Scatter Plot for both rv's\n",
    "fig_XY = go.Scatter3d(\n",
    "    x=x1,\n",
    "    y=x2,\n",
    "    z=sample_size.value*[0],\n",
    "    mode='markers',\n",
    "    marker=dict(\n",
    "        size=2,\n",
    "        # color=z,               \n",
    "        colorscale='Viridis',   \n",
    "        opacity=0.8\n",
    "    ))\n",
    "\n",
    "\n",
    "fig = go.FigureWidget(data=[fig_XY,fig_mar_x1,fig_mar_x2])\n",
    "\n",
    "fig.update_layout(margin=dict(l=0, r=0, b=0, t=0),\n",
    "                    scene = dict(\n",
    "                      #  xaxis = dict(nticks=4, range=[-100,100],),\n",
    "                      #  yaxis = dict(nticks=4, range=[-50,100],),\n",
    "                       zaxis = dict(range=[0,1]))\n",
    "                    )\n",
    "\n",
    "\n",
    "container_slider = widgets.VBox(list(slider_dict.values()))"
   ]
  },
  {
   "cell_type": "markdown",
   "metadata": {},
   "source": [
    "### Function to handle parameter updates\n",
    "\n",
    "- Add doc string\n",
    "- Change graph legend\n",
    "- Restrict the space the graph takes"
   ]
  },
  {
   "cell_type": "code",
   "execution_count": 6,
   "metadata": {},
   "outputs": [
    {
     "data": {
      "application/vnd.jupyter.widget-view+json": {
       "model_id": "e4f03d8513c64b81996d7cf93a4b5680",
       "version_major": 2,
       "version_minor": 0
      },
      "text/plain": [
       "VBox(children=(VBox(children=(FloatSlider(value=1.5, continuous_update=False, description='var_X', min=1.0), F…"
      ]
     },
     "metadata": {},
     "output_type": "display_data"
    },
    {
     "name": "stdout",
     "output_type": "stream",
     "text": [
      "The current covariance matrix [[ 1.5 28.6]\n",
      " [28.6  1. ]] is not positive semidefinite hence a new random covariance martrix will be created\n",
      "The current covariance matrix [[1.5 7.4]\n",
      " [7.4 1. ]] is not positive semidefinite hence a new random covariance martrix will be created\n",
      "The current covariance matrix [[ 1.5 42.6]\n",
      " [42.6  1. ]] is not positive semidefinite hence a new random covariance martrix will be created\n"
     ]
    }
   ],
   "source": [
    "def response(v):\n",
    "    '''\n",
    "    v : Add function doc string\n",
    "    \n",
    "    \n",
    "    \n",
    "    \n",
    "    \n",
    "    '''\n",
    "    \n",
    "    ## DEBUG : Remove before sending\n",
    "    #print(var_X.value,var_Y.value,mean_X.value,mean_Y.value,cov_XY.value,sample_size.value)\n",
    "\n",
    "    # Generate a Bivariate Normal Distribution using JAX\n",
    "    x1,x2 = generate_bivariate_norm()\n",
    "    \n",
    "\n",
    "    with fig.batch_update():\n",
    "        fig.data[0].x = x1\n",
    "        fig.data[0].y = x2\n",
    "        fig.data[0].z = sample_size.value*[0]\n",
    "        \n",
    "        fig.data[1].x = np.sort(x1)\n",
    "        fig.data[1].y = sample_size.value*[np.min(x2)]\n",
    "        fig.data[1].z = marginal_PDF(np.sort(x1))\n",
    "        \n",
    "        fig.data[2].x = sample_size.value*[np.min(x1)]\n",
    "        fig.data[2].y = np.sort(x2)\n",
    "        fig.data[2].z = marginal_PDF(np.sort(x2))\n",
    "        \n",
    "\n",
    "\n",
    "for slider in slider_dict.values():\n",
    "    slider.observe(response, names='value')\n",
    "\n",
    "widgets.VBox([container_slider,fig])"
   ]
  },
  {
   "cell_type": "markdown",
   "metadata": {},
   "source": [
    "### Refrences\n",
    "\n",
    "\n",
    "- <a href=\"https://en.wikipedia.org/wiki/Definite_matrix#Negative-definite.2C_semidefinite_and_indefinite_matrices\">Positive Semideifinite Matrix<a/>\n",
    "\n",
    "- <a href=\"https://stackoverflow.com/questions/619335/a-simple-algorithm-for-generating-positive-semidefinite-matrices\">Creating a positive semidefinite matrix</a>\n",
    "    \n",
    "- <a href=\"https://www.cuemath.com/algebra/covariance-matrix/\">Variance Covariance Matrix Info</a>\n",
    "\n",
    "- Bivariate Normal Distribution\n",
    "    - http://athenasc.com/Bivariate-Normal.pdf\n",
    "    - https://webspace.maths.qmul.ac.uk/i.goldsheid/MTH5118/Notes11-09.pdf\n",
    "    \n",
    "**NOTE** : Refrences also include official documentation of JAX,plotly and ipywidgets"
   ]
  },
  {
   "cell_type": "code",
   "execution_count": null,
   "metadata": {},
   "outputs": [],
   "source": []
  }
 ],
 "metadata": {
  "colab": {
   "name": "Untitled2.ipynb",
   "provenance": []
  },
  "kernelspec": {
   "display_name": "Python 3 (ipykernel)",
   "language": "python",
   "name": "python3"
  },
  "language_info": {
   "codemirror_mode": {
    "name": "ipython",
    "version": 3
   },
   "file_extension": ".py",
   "mimetype": "text/x-python",
   "name": "python",
   "nbconvert_exporter": "python",
   "pygments_lexer": "ipython3",
   "version": "3.7.12"
  },
  "widgets": {
   "application/vnd.jupyter.widget-state+json": {
    "0708841faa5541159ecde5fa81644a11": {
     "model_module": "@jupyter-widgets/controls",
     "model_module_version": "1.5.0",
     "model_name": "FloatSliderModel",
     "state": {
      "_dom_classes": [],
      "_model_module": "@jupyter-widgets/controls",
      "_model_module_version": "1.5.0",
      "_model_name": "FloatSliderModel",
      "_view_count": null,
      "_view_module": "@jupyter-widgets/controls",
      "_view_module_version": "1.5.0",
      "_view_name": "FloatSliderView",
      "continuous_update": false,
      "description": "var_X",
      "description_tooltip": null,
      "disabled": false,
      "layout": "IPY_MODEL_1db368206dbe4592b4bb2ba5bb1baf99",
      "max": 100,
      "min": 0,
      "orientation": "horizontal",
      "readout": true,
      "readout_format": ".2f",
      "step": 0.1,
      "style": "IPY_MODEL_ab27bc3bd26544fcb718f7b1a75e8623",
      "value": 14.3
     }
    },
    "1d111b8f37f14f26b5d1b06440614c98": {
     "model_module": "@jupyter-widgets/controls",
     "model_module_version": "1.5.0",
     "model_name": "HBoxModel",
     "state": {
      "_dom_classes": [],
      "_model_module": "@jupyter-widgets/controls",
      "_model_module_version": "1.5.0",
      "_model_name": "HBoxModel",
      "_view_count": null,
      "_view_module": "@jupyter-widgets/controls",
      "_view_module_version": "1.5.0",
      "_view_name": "HBoxView",
      "box_style": "",
      "children": [
       "IPY_MODEL_0708841faa5541159ecde5fa81644a11",
       "IPY_MODEL_948fffe0f358418f894fab68ba7aa7af",
       "IPY_MODEL_87bf864c99a74c4195e8975f90253f3a",
       "IPY_MODEL_bf4d35e5e10c488d82e4af721c542c01",
       "IPY_MODEL_e3edd9a90d5f4cb4882e10b40de7800c",
       "IPY_MODEL_c043f02166124c128459138db6abcdea"
      ],
      "layout": "IPY_MODEL_a3b53a60c06d4dd6a5637ba29476384b"
     }
    },
    "1db368206dbe4592b4bb2ba5bb1baf99": {
     "model_module": "@jupyter-widgets/base",
     "model_module_version": "1.2.0",
     "model_name": "LayoutModel",
     "state": {
      "_model_module": "@jupyter-widgets/base",
      "_model_module_version": "1.2.0",
      "_model_name": "LayoutModel",
      "_view_count": null,
      "_view_module": "@jupyter-widgets/base",
      "_view_module_version": "1.2.0",
      "_view_name": "LayoutView",
      "align_content": null,
      "align_items": null,
      "align_self": null,
      "border": null,
      "bottom": null,
      "display": null,
      "flex": null,
      "flex_flow": null,
      "grid_area": null,
      "grid_auto_columns": null,
      "grid_auto_flow": null,
      "grid_auto_rows": null,
      "grid_column": null,
      "grid_gap": null,
      "grid_row": null,
      "grid_template_areas": null,
      "grid_template_columns": null,
      "grid_template_rows": null,
      "height": null,
      "justify_content": null,
      "justify_items": null,
      "left": null,
      "margin": null,
      "max_height": null,
      "max_width": null,
      "min_height": null,
      "min_width": null,
      "object_fit": null,
      "object_position": null,
      "order": null,
      "overflow": null,
      "overflow_x": null,
      "overflow_y": null,
      "padding": null,
      "right": null,
      "top": null,
      "visibility": null,
      "width": null
     }
    },
    "2756afadd0c04a9c8e034f27715e8d5c": {
     "model_module": "@jupyter-widgets/base",
     "model_module_version": "1.2.0",
     "model_name": "LayoutModel",
     "state": {
      "_model_module": "@jupyter-widgets/base",
      "_model_module_version": "1.2.0",
      "_model_name": "LayoutModel",
      "_view_count": null,
      "_view_module": "@jupyter-widgets/base",
      "_view_module_version": "1.2.0",
      "_view_name": "LayoutView",
      "align_content": null,
      "align_items": null,
      "align_self": null,
      "border": null,
      "bottom": null,
      "display": null,
      "flex": null,
      "flex_flow": null,
      "grid_area": null,
      "grid_auto_columns": null,
      "grid_auto_flow": null,
      "grid_auto_rows": null,
      "grid_column": null,
      "grid_gap": null,
      "grid_row": null,
      "grid_template_areas": null,
      "grid_template_columns": null,
      "grid_template_rows": null,
      "height": null,
      "justify_content": null,
      "justify_items": null,
      "left": null,
      "margin": null,
      "max_height": null,
      "max_width": null,
      "min_height": null,
      "min_width": null,
      "object_fit": null,
      "object_position": null,
      "order": null,
      "overflow": null,
      "overflow_x": null,
      "overflow_y": null,
      "padding": null,
      "right": null,
      "top": null,
      "visibility": null,
      "width": null
     }
    },
    "3fd902fe0d4248f1b31d659936abbe31": {
     "model_module": "@jupyter-widgets/base",
     "model_module_version": "1.2.0",
     "model_name": "LayoutModel",
     "state": {
      "_model_module": "@jupyter-widgets/base",
      "_model_module_version": "1.2.0",
      "_model_name": "LayoutModel",
      "_view_count": null,
      "_view_module": "@jupyter-widgets/base",
      "_view_module_version": "1.2.0",
      "_view_name": "LayoutView",
      "align_content": null,
      "align_items": null,
      "align_self": null,
      "border": null,
      "bottom": null,
      "display": null,
      "flex": null,
      "flex_flow": null,
      "grid_area": null,
      "grid_auto_columns": null,
      "grid_auto_flow": null,
      "grid_auto_rows": null,
      "grid_column": null,
      "grid_gap": null,
      "grid_row": null,
      "grid_template_areas": null,
      "grid_template_columns": null,
      "grid_template_rows": null,
      "height": null,
      "justify_content": null,
      "justify_items": null,
      "left": null,
      "margin": null,
      "max_height": null,
      "max_width": null,
      "min_height": null,
      "min_width": null,
      "object_fit": null,
      "object_position": null,
      "order": null,
      "overflow": null,
      "overflow_x": null,
      "overflow_y": null,
      "padding": null,
      "right": null,
      "top": null,
      "visibility": null,
      "width": null
     }
    },
    "46370b770040403891d3bf5685f8e665": {
     "model_module": "@jupyter-widgets/controls",
     "model_module_version": "1.5.0",
     "model_name": "SliderStyleModel",
     "state": {
      "_model_module": "@jupyter-widgets/controls",
      "_model_module_version": "1.5.0",
      "_model_name": "SliderStyleModel",
      "_view_count": null,
      "_view_module": "@jupyter-widgets/base",
      "_view_module_version": "1.2.0",
      "_view_name": "StyleView",
      "description_width": "",
      "handle_color": null
     }
    },
    "4a175ed82bc948ca9f89b4b57238afe3": {
     "model_module": "@jupyter-widgets/base",
     "model_module_version": "1.2.0",
     "model_name": "LayoutModel",
     "state": {
      "_model_module": "@jupyter-widgets/base",
      "_model_module_version": "1.2.0",
      "_model_name": "LayoutModel",
      "_view_count": null,
      "_view_module": "@jupyter-widgets/base",
      "_view_module_version": "1.2.0",
      "_view_name": "LayoutView",
      "align_content": null,
      "align_items": null,
      "align_self": null,
      "border": null,
      "bottom": null,
      "display": null,
      "flex": null,
      "flex_flow": null,
      "grid_area": null,
      "grid_auto_columns": null,
      "grid_auto_flow": null,
      "grid_auto_rows": null,
      "grid_column": null,
      "grid_gap": null,
      "grid_row": null,
      "grid_template_areas": null,
      "grid_template_columns": null,
      "grid_template_rows": null,
      "height": null,
      "justify_content": null,
      "justify_items": null,
      "left": null,
      "margin": null,
      "max_height": null,
      "max_width": null,
      "min_height": null,
      "min_width": null,
      "object_fit": null,
      "object_position": null,
      "order": null,
      "overflow": null,
      "overflow_x": null,
      "overflow_y": null,
      "padding": null,
      "right": null,
      "top": null,
      "visibility": null,
      "width": null
     }
    },
    "55a9a0272f64439aa17034885603124b": {
     "model_module": "@jupyter-widgets/base",
     "model_module_version": "1.2.0",
     "model_name": "LayoutModel",
     "state": {
      "_model_module": "@jupyter-widgets/base",
      "_model_module_version": "1.2.0",
      "_model_name": "LayoutModel",
      "_view_count": null,
      "_view_module": "@jupyter-widgets/base",
      "_view_module_version": "1.2.0",
      "_view_name": "LayoutView",
      "align_content": null,
      "align_items": null,
      "align_self": null,
      "border": null,
      "bottom": null,
      "display": null,
      "flex": null,
      "flex_flow": null,
      "grid_area": null,
      "grid_auto_columns": null,
      "grid_auto_flow": null,
      "grid_auto_rows": null,
      "grid_column": null,
      "grid_gap": null,
      "grid_row": null,
      "grid_template_areas": null,
      "grid_template_columns": null,
      "grid_template_rows": null,
      "height": null,
      "justify_content": null,
      "justify_items": null,
      "left": null,
      "margin": null,
      "max_height": null,
      "max_width": null,
      "min_height": null,
      "min_width": null,
      "object_fit": null,
      "object_position": null,
      "order": null,
      "overflow": null,
      "overflow_x": null,
      "overflow_y": null,
      "padding": null,
      "right": null,
      "top": null,
      "visibility": null,
      "width": null
     }
    },
    "58939b4b1f544ffdb370a52a02fe059a": {
     "model_module": "@jupyter-widgets/controls",
     "model_module_version": "1.5.0",
     "model_name": "SliderStyleModel",
     "state": {
      "_model_module": "@jupyter-widgets/controls",
      "_model_module_version": "1.5.0",
      "_model_name": "SliderStyleModel",
      "_view_count": null,
      "_view_module": "@jupyter-widgets/base",
      "_view_module_version": "1.2.0",
      "_view_name": "StyleView",
      "description_width": "",
      "handle_color": null
     }
    },
    "6100af7dcd2f404fa24e9a7c29a8b395": {
     "model_module": "@jupyter-widgets/controls",
     "model_module_version": "1.5.0",
     "model_name": "SliderStyleModel",
     "state": {
      "_model_module": "@jupyter-widgets/controls",
      "_model_module_version": "1.5.0",
      "_model_name": "SliderStyleModel",
      "_view_count": null,
      "_view_module": "@jupyter-widgets/base",
      "_view_module_version": "1.2.0",
      "_view_name": "StyleView",
      "description_width": "",
      "handle_color": null
     }
    },
    "87bf864c99a74c4195e8975f90253f3a": {
     "model_module": "@jupyter-widgets/controls",
     "model_module_version": "1.5.0",
     "model_name": "FloatSliderModel",
     "state": {
      "_dom_classes": [],
      "_model_module": "@jupyter-widgets/controls",
      "_model_module_version": "1.5.0",
      "_model_name": "FloatSliderModel",
      "_view_count": null,
      "_view_module": "@jupyter-widgets/controls",
      "_view_module_version": "1.5.0",
      "_view_name": "FloatSliderView",
      "continuous_update": false,
      "description": "mean_X",
      "description_tooltip": null,
      "disabled": false,
      "layout": "IPY_MODEL_3fd902fe0d4248f1b31d659936abbe31",
      "max": 100,
      "min": 0,
      "orientation": "horizontal",
      "readout": true,
      "readout_format": ".2f",
      "step": 0.1,
      "style": "IPY_MODEL_ceedf166ae0f4705a48ca19cbbce20e2",
      "value": 0
     }
    },
    "940a1006854f4e16a4350eb95d9ad642": {
     "model_module": "jupyterlab-plotly",
     "model_module_version": "^5.5.0",
     "model_name": "FigureModel",
     "state": {
      "_config": {
       "plotlyServerURL": "https://plot.ly"
      },
      "_data": [
       {
        "marker": {
         "colorscale": [
          [
           0,
           "#440154"
          ],
          [
           0.1111111111111111,
           "#482878"
          ],
          [
           0.2222222222222222,
           "#3e4989"
          ],
          [
           0.3333333333333333,
           "#31688e"
          ],
          [
           0.4444444444444444,
           "#26828e"
          ],
          [
           0.5555555555555556,
           "#1f9e89"
          ],
          [
           0.6666666666666666,
           "#35b779"
          ],
          [
           0.7777777777777778,
           "#6ece58"
          ],
          [
           0.8888888888888888,
           "#b5de2b"
          ],
          [
           1,
           "#fde725"
          ]
         ],
         "opacity": 0.8,
         "size": 2
        },
        "mode": "markers",
        "type": "scatter3d",
        "uid": "280171cf-e65f-4362-b122-dc0be21d8728",
        "x": {
         "dtype": "float32",
         "shape": [
          100
         ]
        },
        "y": {
         "dtype": "float32",
         "shape": [
          100
         ]
        },
        "z": [
         0,
         0,
         0,
         0,
         0,
         0,
         0,
         0,
         0,
         0,
         0,
         0,
         0,
         0,
         0,
         0,
         0,
         0,
         0,
         0,
         0,
         0,
         0,
         0,
         0,
         0,
         0,
         0,
         0,
         0,
         0,
         0,
         0,
         0,
         0,
         0,
         0,
         0,
         0,
         0,
         0,
         0,
         0,
         0,
         0,
         0,
         0,
         0,
         0,
         0,
         0,
         0,
         0,
         0,
         0,
         0,
         0,
         0,
         0,
         0,
         0,
         0,
         0,
         0,
         0,
         0,
         0,
         0,
         0,
         0,
         0,
         0,
         0,
         0,
         0,
         0,
         0,
         0,
         0,
         0,
         0,
         0,
         0,
         0,
         0,
         0,
         0,
         0,
         0,
         0,
         0,
         0,
         0,
         0,
         0,
         0,
         0,
         0,
         0,
         0
        ]
       }
      ],
      "_dom_classes": [],
      "_js2py_layoutDelta": {},
      "_js2py_pointsCallback": {},
      "_js2py_relayout": {},
      "_js2py_restyle": {},
      "_js2py_traceDeltas": {},
      "_js2py_update": {},
      "_last_layout_edit_id": 3,
      "_last_trace_edit_id": 3,
      "_layout": {
       "template": {
        "data": {
         "bar": [
          {
           "error_x": {
            "color": "#2a3f5f"
           },
           "error_y": {
            "color": "#2a3f5f"
           },
           "marker": {
            "line": {
             "color": "#E5ECF6",
             "width": 0.5
            },
            "pattern": {
             "fillmode": "overlay",
             "size": 10,
             "solidity": 0.2
            }
           },
           "type": "bar"
          }
         ],
         "barpolar": [
          {
           "marker": {
            "line": {
             "color": "#E5ECF6",
             "width": 0.5
            },
            "pattern": {
             "fillmode": "overlay",
             "size": 10,
             "solidity": 0.2
            }
           },
           "type": "barpolar"
          }
         ],
         "carpet": [
          {
           "aaxis": {
            "endlinecolor": "#2a3f5f",
            "gridcolor": "white",
            "linecolor": "white",
            "minorgridcolor": "white",
            "startlinecolor": "#2a3f5f"
           },
           "baxis": {
            "endlinecolor": "#2a3f5f",
            "gridcolor": "white",
            "linecolor": "white",
            "minorgridcolor": "white",
            "startlinecolor": "#2a3f5f"
           },
           "type": "carpet"
          }
         ],
         "choropleth": [
          {
           "colorbar": {
            "outlinewidth": 0,
            "ticks": ""
           },
           "type": "choropleth"
          }
         ],
         "contour": [
          {
           "colorbar": {
            "outlinewidth": 0,
            "ticks": ""
           },
           "colorscale": [
            [
             0,
             "#0d0887"
            ],
            [
             0.1111111111111111,
             "#46039f"
            ],
            [
             0.2222222222222222,
             "#7201a8"
            ],
            [
             0.3333333333333333,
             "#9c179e"
            ],
            [
             0.4444444444444444,
             "#bd3786"
            ],
            [
             0.5555555555555556,
             "#d8576b"
            ],
            [
             0.6666666666666666,
             "#ed7953"
            ],
            [
             0.7777777777777778,
             "#fb9f3a"
            ],
            [
             0.8888888888888888,
             "#fdca26"
            ],
            [
             1,
             "#f0f921"
            ]
           ],
           "type": "contour"
          }
         ],
         "contourcarpet": [
          {
           "colorbar": {
            "outlinewidth": 0,
            "ticks": ""
           },
           "type": "contourcarpet"
          }
         ],
         "heatmap": [
          {
           "colorbar": {
            "outlinewidth": 0,
            "ticks": ""
           },
           "colorscale": [
            [
             0,
             "#0d0887"
            ],
            [
             0.1111111111111111,
             "#46039f"
            ],
            [
             0.2222222222222222,
             "#7201a8"
            ],
            [
             0.3333333333333333,
             "#9c179e"
            ],
            [
             0.4444444444444444,
             "#bd3786"
            ],
            [
             0.5555555555555556,
             "#d8576b"
            ],
            [
             0.6666666666666666,
             "#ed7953"
            ],
            [
             0.7777777777777778,
             "#fb9f3a"
            ],
            [
             0.8888888888888888,
             "#fdca26"
            ],
            [
             1,
             "#f0f921"
            ]
           ],
           "type": "heatmap"
          }
         ],
         "heatmapgl": [
          {
           "colorbar": {
            "outlinewidth": 0,
            "ticks": ""
           },
           "colorscale": [
            [
             0,
             "#0d0887"
            ],
            [
             0.1111111111111111,
             "#46039f"
            ],
            [
             0.2222222222222222,
             "#7201a8"
            ],
            [
             0.3333333333333333,
             "#9c179e"
            ],
            [
             0.4444444444444444,
             "#bd3786"
            ],
            [
             0.5555555555555556,
             "#d8576b"
            ],
            [
             0.6666666666666666,
             "#ed7953"
            ],
            [
             0.7777777777777778,
             "#fb9f3a"
            ],
            [
             0.8888888888888888,
             "#fdca26"
            ],
            [
             1,
             "#f0f921"
            ]
           ],
           "type": "heatmapgl"
          }
         ],
         "histogram": [
          {
           "marker": {
            "pattern": {
             "fillmode": "overlay",
             "size": 10,
             "solidity": 0.2
            }
           },
           "type": "histogram"
          }
         ],
         "histogram2d": [
          {
           "colorbar": {
            "outlinewidth": 0,
            "ticks": ""
           },
           "colorscale": [
            [
             0,
             "#0d0887"
            ],
            [
             0.1111111111111111,
             "#46039f"
            ],
            [
             0.2222222222222222,
             "#7201a8"
            ],
            [
             0.3333333333333333,
             "#9c179e"
            ],
            [
             0.4444444444444444,
             "#bd3786"
            ],
            [
             0.5555555555555556,
             "#d8576b"
            ],
            [
             0.6666666666666666,
             "#ed7953"
            ],
            [
             0.7777777777777778,
             "#fb9f3a"
            ],
            [
             0.8888888888888888,
             "#fdca26"
            ],
            [
             1,
             "#f0f921"
            ]
           ],
           "type": "histogram2d"
          }
         ],
         "histogram2dcontour": [
          {
           "colorbar": {
            "outlinewidth": 0,
            "ticks": ""
           },
           "colorscale": [
            [
             0,
             "#0d0887"
            ],
            [
             0.1111111111111111,
             "#46039f"
            ],
            [
             0.2222222222222222,
             "#7201a8"
            ],
            [
             0.3333333333333333,
             "#9c179e"
            ],
            [
             0.4444444444444444,
             "#bd3786"
            ],
            [
             0.5555555555555556,
             "#d8576b"
            ],
            [
             0.6666666666666666,
             "#ed7953"
            ],
            [
             0.7777777777777778,
             "#fb9f3a"
            ],
            [
             0.8888888888888888,
             "#fdca26"
            ],
            [
             1,
             "#f0f921"
            ]
           ],
           "type": "histogram2dcontour"
          }
         ],
         "mesh3d": [
          {
           "colorbar": {
            "outlinewidth": 0,
            "ticks": ""
           },
           "type": "mesh3d"
          }
         ],
         "parcoords": [
          {
           "line": {
            "colorbar": {
             "outlinewidth": 0,
             "ticks": ""
            }
           },
           "type": "parcoords"
          }
         ],
         "pie": [
          {
           "automargin": true,
           "type": "pie"
          }
         ],
         "scatter": [
          {
           "marker": {
            "colorbar": {
             "outlinewidth": 0,
             "ticks": ""
            }
           },
           "type": "scatter"
          }
         ],
         "scatter3d": [
          {
           "line": {
            "colorbar": {
             "outlinewidth": 0,
             "ticks": ""
            }
           },
           "marker": {
            "colorbar": {
             "outlinewidth": 0,
             "ticks": ""
            }
           },
           "type": "scatter3d"
          }
         ],
         "scattercarpet": [
          {
           "marker": {
            "colorbar": {
             "outlinewidth": 0,
             "ticks": ""
            }
           },
           "type": "scattercarpet"
          }
         ],
         "scattergeo": [
          {
           "marker": {
            "colorbar": {
             "outlinewidth": 0,
             "ticks": ""
            }
           },
           "type": "scattergeo"
          }
         ],
         "scattergl": [
          {
           "marker": {
            "colorbar": {
             "outlinewidth": 0,
             "ticks": ""
            }
           },
           "type": "scattergl"
          }
         ],
         "scattermapbox": [
          {
           "marker": {
            "colorbar": {
             "outlinewidth": 0,
             "ticks": ""
            }
           },
           "type": "scattermapbox"
          }
         ],
         "scatterpolar": [
          {
           "marker": {
            "colorbar": {
             "outlinewidth": 0,
             "ticks": ""
            }
           },
           "type": "scatterpolar"
          }
         ],
         "scatterpolargl": [
          {
           "marker": {
            "colorbar": {
             "outlinewidth": 0,
             "ticks": ""
            }
           },
           "type": "scatterpolargl"
          }
         ],
         "scatterternary": [
          {
           "marker": {
            "colorbar": {
             "outlinewidth": 0,
             "ticks": ""
            }
           },
           "type": "scatterternary"
          }
         ],
         "surface": [
          {
           "colorbar": {
            "outlinewidth": 0,
            "ticks": ""
           },
           "colorscale": [
            [
             0,
             "#0d0887"
            ],
            [
             0.1111111111111111,
             "#46039f"
            ],
            [
             0.2222222222222222,
             "#7201a8"
            ],
            [
             0.3333333333333333,
             "#9c179e"
            ],
            [
             0.4444444444444444,
             "#bd3786"
            ],
            [
             0.5555555555555556,
             "#d8576b"
            ],
            [
             0.6666666666666666,
             "#ed7953"
            ],
            [
             0.7777777777777778,
             "#fb9f3a"
            ],
            [
             0.8888888888888888,
             "#fdca26"
            ],
            [
             1,
             "#f0f921"
            ]
           ],
           "type": "surface"
          }
         ],
         "table": [
          {
           "cells": {
            "fill": {
             "color": "#EBF0F8"
            },
            "line": {
             "color": "white"
            }
           },
           "header": {
            "fill": {
             "color": "#C8D4E3"
            },
            "line": {
             "color": "white"
            }
           },
           "type": "table"
          }
         ]
        },
        "layout": {
         "annotationdefaults": {
          "arrowcolor": "#2a3f5f",
          "arrowhead": 0,
          "arrowwidth": 1
         },
         "autotypenumbers": "strict",
         "coloraxis": {
          "colorbar": {
           "outlinewidth": 0,
           "ticks": ""
          }
         },
         "colorscale": {
          "diverging": [
           [
            0,
            "#8e0152"
           ],
           [
            0.1,
            "#c51b7d"
           ],
           [
            0.2,
            "#de77ae"
           ],
           [
            0.3,
            "#f1b6da"
           ],
           [
            0.4,
            "#fde0ef"
           ],
           [
            0.5,
            "#f7f7f7"
           ],
           [
            0.6,
            "#e6f5d0"
           ],
           [
            0.7,
            "#b8e186"
           ],
           [
            0.8,
            "#7fbc41"
           ],
           [
            0.9,
            "#4d9221"
           ],
           [
            1,
            "#276419"
           ]
          ],
          "sequential": [
           [
            0,
            "#0d0887"
           ],
           [
            0.1111111111111111,
            "#46039f"
           ],
           [
            0.2222222222222222,
            "#7201a8"
           ],
           [
            0.3333333333333333,
            "#9c179e"
           ],
           [
            0.4444444444444444,
            "#bd3786"
           ],
           [
            0.5555555555555556,
            "#d8576b"
           ],
           [
            0.6666666666666666,
            "#ed7953"
           ],
           [
            0.7777777777777778,
            "#fb9f3a"
           ],
           [
            0.8888888888888888,
            "#fdca26"
           ],
           [
            1,
            "#f0f921"
           ]
          ],
          "sequentialminus": [
           [
            0,
            "#0d0887"
           ],
           [
            0.1111111111111111,
            "#46039f"
           ],
           [
            0.2222222222222222,
            "#7201a8"
           ],
           [
            0.3333333333333333,
            "#9c179e"
           ],
           [
            0.4444444444444444,
            "#bd3786"
           ],
           [
            0.5555555555555556,
            "#d8576b"
           ],
           [
            0.6666666666666666,
            "#ed7953"
           ],
           [
            0.7777777777777778,
            "#fb9f3a"
           ],
           [
            0.8888888888888888,
            "#fdca26"
           ],
           [
            1,
            "#f0f921"
           ]
          ]
         },
         "colorway": [
          "#636efa",
          "#EF553B",
          "#00cc96",
          "#ab63fa",
          "#FFA15A",
          "#19d3f3",
          "#FF6692",
          "#B6E880",
          "#FF97FF",
          "#FECB52"
         ],
         "font": {
          "color": "#2a3f5f"
         },
         "geo": {
          "bgcolor": "white",
          "lakecolor": "white",
          "landcolor": "#E5ECF6",
          "showlakes": true,
          "showland": true,
          "subunitcolor": "white"
         },
         "hoverlabel": {
          "align": "left"
         },
         "hovermode": "closest",
         "mapbox": {
          "style": "light"
         },
         "paper_bgcolor": "white",
         "plot_bgcolor": "#E5ECF6",
         "polar": {
          "angularaxis": {
           "gridcolor": "white",
           "linecolor": "white",
           "ticks": ""
          },
          "bgcolor": "#E5ECF6",
          "radialaxis": {
           "gridcolor": "white",
           "linecolor": "white",
           "ticks": ""
          }
         },
         "scene": {
          "xaxis": {
           "backgroundcolor": "#E5ECF6",
           "gridcolor": "white",
           "gridwidth": 2,
           "linecolor": "white",
           "showbackground": true,
           "ticks": "",
           "zerolinecolor": "white"
          },
          "yaxis": {
           "backgroundcolor": "#E5ECF6",
           "gridcolor": "white",
           "gridwidth": 2,
           "linecolor": "white",
           "showbackground": true,
           "ticks": "",
           "zerolinecolor": "white"
          },
          "zaxis": {
           "backgroundcolor": "#E5ECF6",
           "gridcolor": "white",
           "gridwidth": 2,
           "linecolor": "white",
           "showbackground": true,
           "ticks": "",
           "zerolinecolor": "white"
          }
         },
         "shapedefaults": {
          "line": {
           "color": "#2a3f5f"
          }
         },
         "ternary": {
          "aaxis": {
           "gridcolor": "white",
           "linecolor": "white",
           "ticks": ""
          },
          "baxis": {
           "gridcolor": "white",
           "linecolor": "white",
           "ticks": ""
          },
          "bgcolor": "#E5ECF6",
          "caxis": {
           "gridcolor": "white",
           "linecolor": "white",
           "ticks": ""
          }
         },
         "title": {
          "x": 0.05
         },
         "xaxis": {
          "automargin": true,
          "gridcolor": "white",
          "linecolor": "white",
          "ticks": "",
          "title": {
           "standoff": 15
          },
          "zerolinecolor": "white",
          "zerolinewidth": 2
         },
         "yaxis": {
          "automargin": true,
          "gridcolor": "white",
          "linecolor": "white",
          "ticks": "",
          "title": {
           "standoff": 15
          },
          "zerolinecolor": "white",
          "zerolinewidth": 2
         }
        }
       }
      },
      "_model_module": "jupyterlab-plotly",
      "_model_module_version": "^5.5.0",
      "_model_name": "FigureModel",
      "_py2js_addTraces": {},
      "_py2js_animate": {},
      "_py2js_deleteTraces": {},
      "_py2js_moveTraces": {},
      "_py2js_relayout": {},
      "_py2js_removeLayoutProps": {},
      "_py2js_removeTraceProps": {},
      "_py2js_restyle": {},
      "_py2js_update": null,
      "_view_count": 1,
      "_view_module": "jupyterlab-plotly",
      "_view_module_version": "^5.5.0",
      "_view_name": "FigureView"
     }
    },
    "948fffe0f358418f894fab68ba7aa7af": {
     "model_module": "@jupyter-widgets/controls",
     "model_module_version": "1.5.0",
     "model_name": "FloatSliderModel",
     "state": {
      "_dom_classes": [],
      "_model_module": "@jupyter-widgets/controls",
      "_model_module_version": "1.5.0",
      "_model_name": "FloatSliderModel",
      "_view_count": null,
      "_view_module": "@jupyter-widgets/controls",
      "_view_module_version": "1.5.0",
      "_view_name": "FloatSliderView",
      "continuous_update": false,
      "description": "var_Y",
      "description_tooltip": null,
      "disabled": false,
      "layout": "IPY_MODEL_2756afadd0c04a9c8e034f27715e8d5c",
      "max": 100,
      "min": 0,
      "orientation": "horizontal",
      "readout": true,
      "readout_format": ".2f",
      "step": 0.1,
      "style": "IPY_MODEL_46370b770040403891d3bf5685f8e665",
      "value": 1
     }
    },
    "a3b53a60c06d4dd6a5637ba29476384b": {
     "model_module": "@jupyter-widgets/base",
     "model_module_version": "1.2.0",
     "model_name": "LayoutModel",
     "state": {
      "_model_module": "@jupyter-widgets/base",
      "_model_module_version": "1.2.0",
      "_model_name": "LayoutModel",
      "_view_count": null,
      "_view_module": "@jupyter-widgets/base",
      "_view_module_version": "1.2.0",
      "_view_name": "LayoutView",
      "align_content": null,
      "align_items": null,
      "align_self": null,
      "border": null,
      "bottom": null,
      "display": null,
      "flex": null,
      "flex_flow": null,
      "grid_area": null,
      "grid_auto_columns": null,
      "grid_auto_flow": null,
      "grid_auto_rows": null,
      "grid_column": null,
      "grid_gap": null,
      "grid_row": null,
      "grid_template_areas": null,
      "grid_template_columns": null,
      "grid_template_rows": null,
      "height": null,
      "justify_content": null,
      "justify_items": null,
      "left": null,
      "margin": null,
      "max_height": null,
      "max_width": null,
      "min_height": null,
      "min_width": null,
      "object_fit": null,
      "object_position": null,
      "order": null,
      "overflow": null,
      "overflow_x": null,
      "overflow_y": null,
      "padding": null,
      "right": null,
      "top": null,
      "visibility": null,
      "width": null
     }
    },
    "ab27bc3bd26544fcb718f7b1a75e8623": {
     "model_module": "@jupyter-widgets/controls",
     "model_module_version": "1.5.0",
     "model_name": "SliderStyleModel",
     "state": {
      "_model_module": "@jupyter-widgets/controls",
      "_model_module_version": "1.5.0",
      "_model_name": "SliderStyleModel",
      "_view_count": null,
      "_view_module": "@jupyter-widgets/base",
      "_view_module_version": "1.2.0",
      "_view_name": "StyleView",
      "description_width": "",
      "handle_color": null
     }
    },
    "bf4d35e5e10c488d82e4af721c542c01": {
     "model_module": "@jupyter-widgets/controls",
     "model_module_version": "1.5.0",
     "model_name": "FloatSliderModel",
     "state": {
      "_dom_classes": [],
      "_model_module": "@jupyter-widgets/controls",
      "_model_module_version": "1.5.0",
      "_model_name": "FloatSliderModel",
      "_view_count": null,
      "_view_module": "@jupyter-widgets/controls",
      "_view_module_version": "1.5.0",
      "_view_name": "FloatSliderView",
      "continuous_update": false,
      "description": "mean_Y",
      "description_tooltip": null,
      "disabled": false,
      "layout": "IPY_MODEL_d9e0609b295d407abf201121b25f9515",
      "max": 100,
      "min": 0,
      "orientation": "horizontal",
      "readout": true,
      "readout_format": ".2f",
      "step": 0.1,
      "style": "IPY_MODEL_58939b4b1f544ffdb370a52a02fe059a",
      "value": 0
     }
    },
    "c043f02166124c128459138db6abcdea": {
     "model_module": "@jupyter-widgets/controls",
     "model_module_version": "1.5.0",
     "model_name": "IntSliderModel",
     "state": {
      "_dom_classes": [],
      "_model_module": "@jupyter-widgets/controls",
      "_model_module_version": "1.5.0",
      "_model_name": "IntSliderModel",
      "_view_count": null,
      "_view_module": "@jupyter-widgets/controls",
      "_view_module_version": "1.5.0",
      "_view_name": "IntSliderView",
      "continuous_update": false,
      "description": "sample_size",
      "description_tooltip": null,
      "disabled": false,
      "layout": "IPY_MODEL_55a9a0272f64439aa17034885603124b",
      "max": 50000,
      "min": 100,
      "orientation": "horizontal",
      "readout": true,
      "readout_format": "d",
      "step": 1,
      "style": "IPY_MODEL_d747232b70b54601ab7fa5abc3954f2f",
      "value": 100
     }
    },
    "c0576f04ba0c4101a600bad3fc31ebc5": {
     "model_module": "@jupyter-widgets/base",
     "model_module_version": "1.2.0",
     "model_name": "LayoutModel",
     "state": {
      "_model_module": "@jupyter-widgets/base",
      "_model_module_version": "1.2.0",
      "_model_name": "LayoutModel",
      "_view_count": null,
      "_view_module": "@jupyter-widgets/base",
      "_view_module_version": "1.2.0",
      "_view_name": "LayoutView",
      "align_content": null,
      "align_items": null,
      "align_self": null,
      "border": null,
      "bottom": null,
      "display": null,
      "flex": null,
      "flex_flow": null,
      "grid_area": null,
      "grid_auto_columns": null,
      "grid_auto_flow": null,
      "grid_auto_rows": null,
      "grid_column": null,
      "grid_gap": null,
      "grid_row": null,
      "grid_template_areas": null,
      "grid_template_columns": null,
      "grid_template_rows": null,
      "height": null,
      "justify_content": null,
      "justify_items": null,
      "left": null,
      "margin": null,
      "max_height": null,
      "max_width": null,
      "min_height": null,
      "min_width": null,
      "object_fit": null,
      "object_position": null,
      "order": null,
      "overflow": null,
      "overflow_x": null,
      "overflow_y": null,
      "padding": null,
      "right": null,
      "top": null,
      "visibility": null,
      "width": null
     }
    },
    "ceedf166ae0f4705a48ca19cbbce20e2": {
     "model_module": "@jupyter-widgets/controls",
     "model_module_version": "1.5.0",
     "model_name": "SliderStyleModel",
     "state": {
      "_model_module": "@jupyter-widgets/controls",
      "_model_module_version": "1.5.0",
      "_model_name": "SliderStyleModel",
      "_view_count": null,
      "_view_module": "@jupyter-widgets/base",
      "_view_module_version": "1.2.0",
      "_view_name": "StyleView",
      "description_width": "",
      "handle_color": null
     }
    },
    "d747232b70b54601ab7fa5abc3954f2f": {
     "model_module": "@jupyter-widgets/controls",
     "model_module_version": "1.5.0",
     "model_name": "SliderStyleModel",
     "state": {
      "_model_module": "@jupyter-widgets/controls",
      "_model_module_version": "1.5.0",
      "_model_name": "SliderStyleModel",
      "_view_count": null,
      "_view_module": "@jupyter-widgets/base",
      "_view_module_version": "1.2.0",
      "_view_name": "StyleView",
      "description_width": "",
      "handle_color": null
     }
    },
    "d9e0609b295d407abf201121b25f9515": {
     "model_module": "@jupyter-widgets/base",
     "model_module_version": "1.2.0",
     "model_name": "LayoutModel",
     "state": {
      "_model_module": "@jupyter-widgets/base",
      "_model_module_version": "1.2.0",
      "_model_name": "LayoutModel",
      "_view_count": null,
      "_view_module": "@jupyter-widgets/base",
      "_view_module_version": "1.2.0",
      "_view_name": "LayoutView",
      "align_content": null,
      "align_items": null,
      "align_self": null,
      "border": null,
      "bottom": null,
      "display": null,
      "flex": null,
      "flex_flow": null,
      "grid_area": null,
      "grid_auto_columns": null,
      "grid_auto_flow": null,
      "grid_auto_rows": null,
      "grid_column": null,
      "grid_gap": null,
      "grid_row": null,
      "grid_template_areas": null,
      "grid_template_columns": null,
      "grid_template_rows": null,
      "height": null,
      "justify_content": null,
      "justify_items": null,
      "left": null,
      "margin": null,
      "max_height": null,
      "max_width": null,
      "min_height": null,
      "min_width": null,
      "object_fit": null,
      "object_position": null,
      "order": null,
      "overflow": null,
      "overflow_x": null,
      "overflow_y": null,
      "padding": null,
      "right": null,
      "top": null,
      "visibility": null,
      "width": null
     }
    },
    "df206dcfa2474c0f80a2182d6811bb4f": {
     "model_module": "@jupyter-widgets/controls",
     "model_module_version": "1.5.0",
     "model_name": "VBoxModel",
     "state": {
      "_dom_classes": [],
      "_model_module": "@jupyter-widgets/controls",
      "_model_module_version": "1.5.0",
      "_model_name": "VBoxModel",
      "_view_count": null,
      "_view_module": "@jupyter-widgets/controls",
      "_view_module_version": "1.5.0",
      "_view_name": "VBoxView",
      "box_style": "",
      "children": [
       "IPY_MODEL_1d111b8f37f14f26b5d1b06440614c98",
       "IPY_MODEL_940a1006854f4e16a4350eb95d9ad642"
      ],
      "layout": "IPY_MODEL_4a175ed82bc948ca9f89b4b57238afe3"
     }
    },
    "e3edd9a90d5f4cb4882e10b40de7800c": {
     "model_module": "@jupyter-widgets/controls",
     "model_module_version": "1.5.0",
     "model_name": "FloatSliderModel",
     "state": {
      "_dom_classes": [],
      "_model_module": "@jupyter-widgets/controls",
      "_model_module_version": "1.5.0",
      "_model_name": "FloatSliderModel",
      "_view_count": null,
      "_view_module": "@jupyter-widgets/controls",
      "_view_module_version": "1.5.0",
      "_view_name": "FloatSliderView",
      "continuous_update": false,
      "description": "cov_XY",
      "description_tooltip": null,
      "disabled": false,
      "layout": "IPY_MODEL_c0576f04ba0c4101a600bad3fc31ebc5",
      "max": 100,
      "min": 0,
      "orientation": "horizontal",
      "readout": true,
      "readout_format": ".2f",
      "step": 0.1,
      "style": "IPY_MODEL_6100af7dcd2f404fa24e9a7c29a8b395",
      "value": 0.4
     }
    }
   }
  }
 },
 "nbformat": 4,
 "nbformat_minor": 4
}
