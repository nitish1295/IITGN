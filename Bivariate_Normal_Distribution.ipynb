{
  "cells": [
    {
      "cell_type": "markdown",
      "source": [
        "Animate bivariate normal distribution.\n",
        "\n",
        "<img src=\"https://upload.wikimedia.org/wikipedia/commons/thumb/8/8e/MultivariateNormal.png/330px-MultivariateNormal.png\"></img>\n",
        "\n",
        "- Reproduce the above figure showing samples from bivariate normal with marginal PDFs from scratch using JAX and matplotlib.\n",
        "- Add interactivity to the figure by adding sliders with ipywidgets. You should be able to vary the parameters of bivariate normal distribution (mean and covariance matrix) using ipywidgets.\n",
        "\n",
        "---\n",
        "\n"
      ],
      "metadata": {
        "id": "2iU56L9uBw7J"
      }
    },
    {
      "cell_type": "markdown",
      "metadata": {
        "id": "9ixwjOnuRkzc"
      },
      "source": [
        "## Introduction\n",
        "\n",
        "### Understanding Bivariate Normal Distribution\n",
        "\n",
        "Let $U$ and $V$ be two independent normal random variables, and consider two new random variables $X$ and $Y$ of the form\n",
        "$$\n",
        "\\begin{aligned}\n",
        "&X=a U+b V \\\\\n",
        "&Y=c U+d V\n",
        "\\end{aligned}\n",
        "$$\n",
        "where $a, b, c, d$, are some scalars. Each one of the random variables $X$ and $Y$ is normal, since it is a linear function of independent normal random variables.Furthermore, because $X$ and $Y$ are linear functions of the same two independent normal random variables, their joint PDF takes a special form, known as the **bivariate normal PDF**. \n",
        "\n",
        "Refrences:\n",
        "\n",
        "- Bivariate Normal Distribution\n",
        "    - http://athenasc.com/Bivariate-Normal.pdf\n",
        "    - https://webspace.maths.qmul.ac.uk/i.goldsheid/MTH5118/Notes11-09.pdf\n",
        "- <a href=\"https://en.wikipedia.org/wiki/Definite_matrix#Negative-definite.2C_semidefinite_and_indefinite_matrices\">Definite Matrix<a/>\n",
        "\n",
        "- <a href=\"https://stackoverflow.com/questions/619335/a-simple-algorithm-for-generating-positive-semidefinite-matrices\">Creating a positive semidefinite matrix</a>\n",
        "    \n",
        "- <a href=\"https://www.cuemath.com/algebra/covariance-matrix/\">Variance Covariance Matrix Info</a>\n",
        "    \n",
        "- Official documentation of JAX,plotly,ipywidgets and matplotlib"
      ]
    },
    {
      "cell_type": "code",
      "execution_count": 1,
      "metadata": {
        "id": "0JspM7YERkzo"
      },
      "outputs": [],
      "source": [
        "import ipywidgets as widgets\n",
        "from ipywidgets import interact\n",
        "from IPython.display import display\n",
        "import time\n",
        "import jax\n",
        "from jax.random import multivariate_normal\n",
        "from jax import numpy as jnp\n",
        "from jax.numpy import linalg as JLA\n",
        "import random as rand\n",
        "import plotly.graph_objects as go"
      ]
    },
    {
      "cell_type": "code",
      "execution_count": 2,
      "metadata": {
        "id": "t22cOhZ0Rkzs"
      },
      "outputs": [],
      "source": [
        "# Add Sliders to change parameters\n",
        "var_X = widgets.FloatSlider(description='var_X', min=1,\n",
        "                            value=1.5, step=0.1, continuous_update=False)\n",
        "var_Y = widgets.FloatSlider(description='var_Y', min=1,\n",
        "                            value=1.0, step=0.1, continuous_update=False)\n",
        "mean_X = widgets.FloatSlider(description='mean_X', value=0,\n",
        "                             step=0.1, continuous_update=False)\n",
        "mean_Y = widgets.FloatSlider(description='mean_Y', value=0,\n",
        "                             step=0.1, continuous_update=False)\n",
        "corr_XY = widgets.FloatSlider(description='corr_XY', min=-0.9999, max=0.9999, \n",
        "                              value=0.4, step=0.01, continuous_update=False)\n",
        "sample_size = widgets.IntSlider(description='sample_size', min=100,\n",
        "                                max=1000, continuous_update=False)\n",
        "\n",
        "# Create a dict for easy access\n",
        "slider_dict = {\"var_X\": var_X,\n",
        "               \"var_Y\": var_Y,\n",
        "               \"mean_X\": mean_X,\n",
        "               \"mean_Y\": mean_Y,\n",
        "               \"cov_XY\": corr_XY,\n",
        "               \"sample_size\": sample_size}\n"
      ]
    },
    {
      "cell_type": "markdown",
      "metadata": {
        "id": "9Z26yys2Rkzw"
      },
      "source": [
        "## Generating Bivariate Normal Data usin JAX\n",
        "\n",
        "$X$ and $Y$ are bivariately normally distributed with mean vector components $\\mu_{1}$ and $\\mu_{2}$ and variance-covariance matrix shown below:\n",
        "$$\n",
        "\\left(\\begin{array}{l}\n",
        "X \\\\\n",
        "Y\n",
        "\\end{array}\\right) \\sim N\\left[\\left(\\begin{array}{l}\n",
        "\\mu_{1} \\\\\n",
        "\\mu_{2}\n",
        "\\end{array}\\right),\\left(\\begin{array}{cc}\n",
        "\\sigma_{1}^{2} & \\rho \\sigma_{1} \\sigma_{2} \\\\\n",
        "\\rho \\sigma_{1} \\sigma_{2} & \\sigma_{2}^{2}\n",
        "\\end{array}\\right)\\right]\n",
        "$$\n",
        "In this case we have the variances for the two variables on the diagonal and on the off-diagonal we have the covariance between the two variables. This covariance is equal to the correlation($\\rho$) times the product of the two standard deviations($\\sigma_{1} and \\ \\sigma_{2}$) "
      ]
    },
    {
      "cell_type": "code",
      "execution_count": 3,
      "metadata": {
        "id": "QOlINaMyRkzx"
      },
      "outputs": [],
      "source": [
        "def generate_bivariate_norm():\n",
        "    '''\n",
        "        Sample from a Bivariate Normal distribution using the based on the\n",
        "        covariance matrix and mean and return JAX numy arrays\n",
        "\n",
        "        Args:\n",
        "            None\n",
        "        Returns:\n",
        "            x1 - (sample_size, ) JAX Numpy array containing\n",
        "                 values of a Random variable\n",
        "            x2 - (sample_size, ) JAX Numpy array containing\n",
        "                 values of a Random variable\n",
        "    '''\n",
        "\n",
        "    key = jax.random.PRNGKey(0)\n",
        "    covariance = corr_XY.value*jnp.sqrt(var_X.value)*jnp.sqrt(var_Y.value)\n",
        "    cov = jnp.array([[var_X.value, covariance], [covariance, var_Y.value]])\n",
        "    mean = jnp.array([mean_X.value, mean_Y.value])\n",
        "\n",
        "    # Ensuirng the variance-covariance matrix is positive definite\n",
        "    # using eigen values, if not generate a new random positive\n",
        "    # definite variance-covariance matrix\n",
        "\n",
        "    # Calculate eigenvalues\n",
        "    cov_eignvals = JLA.eigvals(cov)\n",
        "\n",
        "    # Check Eigen values\n",
        "    if(jnp.any(cov_eignvals <= 0)):\n",
        "        print(f\"The current covariance matrix {cov} is not positive definite hence a \\\n",
        "             new random covariance martrix will be created\")\n",
        "        rand_int = rand.randint(0, 10000)\n",
        "        rand_mat = jax.random.uniform(jax.random.PRNGKey(rand_int),\n",
        "                                      shape=(2, 2), minval=0.0, maxval=1.0)\n",
        "        cov = jnp.dot(rand_mat, rand_mat.T)\n",
        "        corr_XY.value = cov[:, -1][0]\n",
        "\n",
        "    x1, x2 = multivariate_normal(key, mean, cov, (sample_size.value,)).T\n",
        "    return x1, x2\n"
      ]
    },
    {
      "cell_type": "markdown",
      "metadata": {
        "id": "IcjMFNnzRkz0"
      },
      "source": [
        "## Marginal Distribution of random variables in Bivariate Normal Distribution\n",
        "\n",
        "The marginal distributions of $N\\left(\\mu_{1}, \\mu_{2}, \\sigma_{1}^{2}, \\sigma_{2}^{2}, \\rho\\right)$ are normal with r.v's $X$ and $Y$ having density functions\n",
        "$$\n",
        "f_{X}(x)=\\frac{1}{\\sqrt{2 \\pi} \\sigma_{1}} e^{-\\frac{\\left(x-\\mu_{1}\\right)^{2}}{2 \\sigma_{1}^{2}}}, \\quad f_{Y}(y)=\\frac{1}{\\sqrt{2 \\pi} \\sigma_{2}} e^{-\\frac{\\left(y-\\mu_{2}\\right)^{2}}{2 \\sigma_{2}^{2}}}\n",
        "$$\n"
      ]
    },
    {
      "cell_type": "code",
      "execution_count": 4,
      "metadata": {
        "id": "X2Z_CxwbRkz1"
      },
      "outputs": [],
      "source": [
        "def marginal_PDF(x):\n",
        "    '''\n",
        "        Return Marginal Distribution of a bivariate random variable\n",
        "\n",
        "        Args:\n",
        "            None\n",
        "        Returns:\n",
        "            m_PDF - (sample_size, ) JAX Numpy array containing\n",
        "                    marginal PDF of a Random variable\n",
        "    '''\n",
        "    mean = jnp.mean(x)\n",
        "    var = jnp.var(x)\n",
        "    std_dev = jnp.sqrt(var)\n",
        "    m_PDF = (1/(2.506628274631*std_dev))*(1/jnp.exp(((x-mean)**2)/(2*var)))\n",
        "\n",
        "    return m_PDF\n"
      ]
    },
    {
      "cell_type": "markdown",
      "metadata": {
        "id": "T6FWa8t3Rkz2"
      },
      "source": [
        "## Graphing and Plotting Data\n",
        "\n",
        "### Function to handle updates from ipywidgets"
      ]
    },
    {
      "cell_type": "code",
      "execution_count": 5,
      "metadata": {
        "id": "yldMxWbNRkz3"
      },
      "outputs": [],
      "source": [
        "def response(v):\n",
        "    '''\n",
        "        Updates graph data based on interaactive slider values\n",
        "\n",
        "        Args:\n",
        "            v : Trialets objects, contains new values\n",
        "        Returns:\n",
        "            None\n",
        "    '''\n",
        "\n",
        "    # Generate a Bivariate Normal Distribution again\n",
        "    x1, x2 = generate_bivariate_norm()\n",
        "\n",
        "    # Batch update graph data\n",
        "    with fig.batch_update():\n",
        "        fig.data[0].x = x1\n",
        "        fig.data[0].y = x2\n",
        "        fig.data[0].z = sample_size.value*[0]\n",
        "\n",
        "        fig.data[1].x = jnp.sort(x1)\n",
        "        fig.data[1].y = sample_size.value*[jnp.min(x2)]\n",
        "        fig.data[1].z = marginal_PDF(jnp.sort(x1))\n",
        "\n",
        "        fig.data[2].x = sample_size.value*[jnp.min(x1)]\n",
        "        fig.data[2].y = jnp.sort(x2)\n",
        "        fig.data[2].z = marginal_PDF(jnp.sort(x2))\n"
      ]
    },
    {
      "cell_type": "markdown",
      "metadata": {
        "id": "G4zBDjEoRkz5"
      },
      "source": [
        "### Generate data for default graph"
      ]
    },
    {
      "cell_type": "code",
      "execution_count": null,
      "metadata": {
        "colab": {
          "base_uri": "https://localhost:8080/",
          "height": 66,
          "referenced_widgets": [
            "df206dcfa2474c0f80a2182d6811bb4f",
            "1d111b8f37f14f26b5d1b06440614c98",
            "940a1006854f4e16a4350eb95d9ad642",
            "4a175ed82bc948ca9f89b4b57238afe3",
            "0708841faa5541159ecde5fa81644a11",
            "948fffe0f358418f894fab68ba7aa7af",
            "87bf864c99a74c4195e8975f90253f3a",
            "bf4d35e5e10c488d82e4af721c542c01",
            "e3edd9a90d5f4cb4882e10b40de7800c",
            "c043f02166124c128459138db6abcdea",
            "a3b53a60c06d4dd6a5637ba29476384b",
            "1db368206dbe4592b4bb2ba5bb1baf99",
            "ab27bc3bd26544fcb718f7b1a75e8623",
            "2756afadd0c04a9c8e034f27715e8d5c",
            "46370b770040403891d3bf5685f8e665",
            "3fd902fe0d4248f1b31d659936abbe31",
            "ceedf166ae0f4705a48ca19cbbce20e2",
            "d9e0609b295d407abf201121b25f9515",
            "58939b4b1f544ffdb370a52a02fe059a",
            "c0576f04ba0c4101a600bad3fc31ebc5",
            "6100af7dcd2f404fa24e9a7c29a8b395",
            "55a9a0272f64439aa17034885603124b",
            "d747232b70b54601ab7fa5abc3954f2f",
            "25dbb57c03294a7eaa4c60f4797a90e1",
            "e319641702fc40389b66e3ced5171a36"
          ]
        },
        "id": "QTqLj8e9EEPk",
        "outputId": "37e56b2c-1e37-47b7-9f74-13943519b88a"
      },
      "outputs": [
        {
          "name": "stderr",
          "output_type": "stream",
          "text": [
            "WARNING:absl:No GPU/TPU found, falling back to CPU. (Set TF_CPP_MIN_LOG_LEVEL=0 and rerun for more info.)\n"
          ]
        },
        {
          "data": {
            "application/vnd.jupyter.widget-view+json": {
              "model_id": "e319641702fc40389b66e3ced5171a36",
              "version_major": 2,
              "version_minor": 0
            },
            "text/plain": [
              "HBox(children=(VBox(children=(FloatSlider(value=1.5, continuous_update=False, description='var_X', min=1.0), F…"
            ]
          },
          "metadata": {},
          "output_type": "display_data"
        }
      ],
      "source": [
        "# Generate a Bivariate Normal Distribution using JAX\n",
        "x1, x2 = generate_bivariate_norm()\n",
        "\n",
        "# Plot for marginal PDF of rv x1\n",
        "fig_mar_x1 = go.Scatter3d(\n",
        "    x=jnp.sort(x1),\n",
        "    y=sample_size.value*[jnp.min(x2)],\n",
        "    z=marginal_PDF(jnp.sort(x1)),\n",
        "    mode='lines',\n",
        "    name=\"Marginal Dist of x\",\n",
        "    marker=dict(\n",
        "        size=2,\n",
        "        colorscale='Viridis',\n",
        "        opacity=0.8\n",
        "    ))\n",
        "\n",
        "# Plot for marginal PDF of rv x2\n",
        "fig_mar_x2 = go.Scatter3d(\n",
        "    x=sample_size.value*[jnp.min(x1)],\n",
        "    y=jnp.sort(x2),\n",
        "    z=marginal_PDF(jnp.sort(x2)),\n",
        "    mode='lines',\n",
        "    name=\"Marginal Dist of y\",\n",
        "    marker=dict(\n",
        "        size=2,\n",
        "        colorscale='Viridis',\n",
        "        opacity=0.8\n",
        "    ))\n",
        "\n",
        "# Scatter Plot for both rv's\n",
        "fig_XY = go.Scatter3d(\n",
        "    x=x1,\n",
        "    y=x2,\n",
        "    z=sample_size.value*[0],\n",
        "    mode='markers',\n",
        "    marker=dict(\n",
        "        size=2,\n",
        "        colorscale='Viridis',\n",
        "        opacity=0.8\n",
        "    ))\n",
        "\n",
        "# Add graphs to plotly wiget\n",
        "fig = go.FigureWidget(data=[fig_XY, fig_mar_x1, fig_mar_x2])\n",
        "\n",
        "# Update Layout of graph\n",
        "fig.update_layout(margin=dict(l=0, r=0, b=0, t=0),\n",
        "                  paper_bgcolor=\"rgba(241, 241, 241, 0.8)\",\n",
        "                  width=1000,\n",
        "                  height=600,\n",
        "                  legend=dict(\n",
        "                            bgcolor=\"rgba(241, 241, 241, 1)\",\n",
        "                            bordercolor=\"Black\",\n",
        "                            borderwidth=2),\n",
        "                  scene=dict(\n",
        "                            xaxis_title='R.V x',\n",
        "                            yaxis_title='R.V y',\n",
        "                            zaxis_title='Marginal Dist of R.V',\n",
        "                            zaxis=dict(range=[0, 1]))\n",
        "                  )\n",
        "\n",
        "# Add function to wigets for value changes\n",
        "for slider in slider_dict.values():\n",
        "    slider.observe(response, names='value')\n",
        "\n",
        "# Set alingnment of graph and widgets and display data\n",
        "container_slider = widgets.VBox(list(slider_dict.values()))\n",
        "widgets.VBox([container_slider, fig])\n"
      ]
    },
    {
      "cell_type": "markdown",
      "metadata": {
        "id": "VPNWdVnxRkz9"
      },
      "source": [
        "### MatplotLib graph"
      ]
    },
    {
      "cell_type": "code",
      "execution_count": 6,
      "metadata": {
        "colab": {
          "referenced_widgets": [
            "46183a81c6c94327aa33ea398fe683ba",
            "537fec00f9f948cca7c02c627a9ef7d3",
            "b2c0031ff0764e5db8176b87781707ad",
            "cc05922d368349aaa747151297686f25",
            "bb745469caa048b886ef789f7116b883",
            "e744f5e8a2b2410e945c0ba4ebcdd2a9",
            "fcbf36d2babe4aaf937d85d036f05fd4",
            "ccccbf0cf7674317b5cc5a05face557a",
            "f256e07f93b14eb48c928012b754ba45",
            "e7241da0e96345e7a15b6ecbfb35fa31",
            "aa6f5730b39941e9aa9031c6606e1a8d",
            "7c9c44b88cf24d949469028c6a1bad24",
            "5142b704f2f2477bbed13970bb428755",
            "05f4b77338f54c0eba0b0b193ea50d05",
            "2a0df4e19b0d4c1f9d402e24503d6cc9",
            "c62c030e99fb4645a4bc1363f2b6c6a9",
            "ca45280a95184fbbb06296c9351a41f9",
            "427c75b1584242a8886cbab3f29c700d",
            "9a5da0bea7cd48d5a99943a2858043df",
            "8401f7fc71434cedbf5d88ce1f544f4d",
            "554f80dce80e4fc691a537bdf2018b41",
            "abb4b89dea644c9998c669ea6f12636a"
          ],
          "base_uri": "https://localhost:8080/",
          "height": 802
        },
        "id": "rgZB5lZGRkz-",
        "outputId": "3f5bc526-3bae-4e65-f607-f68fbd09a439"
      },
      "outputs": [
        {
          "output_type": "display_data",
          "data": {
            "text/plain": [
              "interactive(children=(FloatSlider(value=0.0, continuous_update=False, description='mean_X'), FloatSlider(value…"
            ],
            "application/vnd.jupyter.widget-view+json": {
              "version_major": 2,
              "version_minor": 0,
              "model_id": "46183a81c6c94327aa33ea398fe683ba"
            }
          },
          "metadata": {}
        },
        {
          "output_type": "execute_result",
          "data": {
            "text/plain": [
              "<function __main__.update>"
            ]
          },
          "metadata": {},
          "execution_count": 6
        }
      ],
      "source": [
        "from ipywidgets import *\n",
        "import numpy as np\n",
        "import matplotlib.pyplot as plt\n",
        "%matplotlib inline\n",
        "\n",
        "\n",
        "def update(mean_x=mean_X, var_x=var_X, mean_y=mean_Y,\n",
        "           var_y=var_Y, corr_xy=corr_XY, sample_sze=sample_size):\n",
        "\n",
        "    fig = plt.figure()\n",
        "    fig.set_figwidth(10)\n",
        "    fig.set_figheight(10)\n",
        "\n",
        "    ax = fig.add_subplot(1, 1, 1, projection='3d')\n",
        "    ax.set_xlabel('R.V x')\n",
        "    ax.set_ylabel('R.V y')\n",
        "    ax.set_xlabel('Marginal Dist of R.V')\n",
        "\n",
        "    x1, x2 = generate_bivariate_norm()\n",
        "    z = sample_sze*[0]\n",
        "    ax = plt.axes(projection='3d')\n",
        "\n",
        "    x_line_1 = jnp.sort(x1)\n",
        "    y_line_1 = sample_sze*[jnp.min(x2)]\n",
        "    z_line_1 = marginal_PDF(jnp.sort(x1))\n",
        "\n",
        "    x_line_2 = sample_sze*[jnp.min(x1)]\n",
        "    y_line_2 = jnp.sort(x2)\n",
        "    z_line_2 = marginal_PDF(jnp.sort(x2))\n",
        "\n",
        "    ax.scatter3D(x1, x2, z, cmap='Greens')\n",
        "    ax.plot3D(x_line_1, y_line_1, z_line_1)\n",
        "    ax.plot3D(x_line_2, y_line_2, z_line_2)\n",
        "\n",
        "    fig.canvas.draw()\n",
        "\n",
        "interact(update, mean_x=mean_X, var_x=var_X, mean_y=mean_Y,\n",
        "         var_y=var_Y, corr_xy=corr_XY, sample_sze=sample_size)\n"
      ]
    },
    {
      "cell_type": "code",
      "execution_count": null,
      "metadata": {
        "id": "9cYHMBvxBpJk"
      },
      "outputs": [],
      "source": [
        ""
      ]
    }
  ],
  "metadata": {
    "colab": {
      "collapsed_sections": [],
      "name": "Bivariate Normal Distribution.ipynb",
      "provenance": []
    },
    "kernelspec": {
      "display_name": "Python 3 (ipykernel)",
      "language": "python",
      "name": "python3"
    },
    "language_info": {
      "codemirror_mode": {
        "name": "ipython",
        "version": 3
      },
      "file_extension": ".py",
      "mimetype": "text/x-python",
      "name": "python",
      "nbconvert_exporter": "python",
      "pygments_lexer": "ipython3",
      "version": "3.7.12"
    },
    "widgets": {
      "application/vnd.jupyter.widget-state+json": {
        "0708841faa5541159ecde5fa81644a11": {
          "model_module": "@jupyter-widgets/controls",
          "model_module_version": "1.5.0",
          "model_name": "FloatSliderModel",
          "state": {
            "_dom_classes": [],
            "_model_module": "@jupyter-widgets/controls",
            "_model_module_version": "1.5.0",
            "_model_name": "FloatSliderModel",
            "_view_count": null,
            "_view_module": "@jupyter-widgets/controls",
            "_view_module_version": "1.5.0",
            "_view_name": "FloatSliderView",
            "continuous_update": false,
            "description": "var_X",
            "description_tooltip": null,
            "disabled": false,
            "layout": "IPY_MODEL_1db368206dbe4592b4bb2ba5bb1baf99",
            "max": 100,
            "min": 0,
            "orientation": "horizontal",
            "readout": true,
            "readout_format": ".2f",
            "step": 0.1,
            "style": "IPY_MODEL_ab27bc3bd26544fcb718f7b1a75e8623",
            "value": 14.3
          }
        },
        "1d111b8f37f14f26b5d1b06440614c98": {
          "model_module": "@jupyter-widgets/controls",
          "model_module_version": "1.5.0",
          "model_name": "HBoxModel",
          "state": {
            "_dom_classes": [],
            "_model_module": "@jupyter-widgets/controls",
            "_model_module_version": "1.5.0",
            "_model_name": "HBoxModel",
            "_view_count": null,
            "_view_module": "@jupyter-widgets/controls",
            "_view_module_version": "1.5.0",
            "_view_name": "HBoxView",
            "box_style": "",
            "children": [
              "IPY_MODEL_0708841faa5541159ecde5fa81644a11",
              "IPY_MODEL_948fffe0f358418f894fab68ba7aa7af",
              "IPY_MODEL_87bf864c99a74c4195e8975f90253f3a",
              "IPY_MODEL_bf4d35e5e10c488d82e4af721c542c01",
              "IPY_MODEL_e3edd9a90d5f4cb4882e10b40de7800c",
              "IPY_MODEL_c043f02166124c128459138db6abcdea"
            ],
            "layout": "IPY_MODEL_a3b53a60c06d4dd6a5637ba29476384b"
          }
        },
        "1db368206dbe4592b4bb2ba5bb1baf99": {
          "model_module": "@jupyter-widgets/base",
          "model_module_version": "1.2.0",
          "model_name": "LayoutModel",
          "state": {
            "_model_module": "@jupyter-widgets/base",
            "_model_module_version": "1.2.0",
            "_model_name": "LayoutModel",
            "_view_count": null,
            "_view_module": "@jupyter-widgets/base",
            "_view_module_version": "1.2.0",
            "_view_name": "LayoutView",
            "align_content": null,
            "align_items": null,
            "align_self": null,
            "border": null,
            "bottom": null,
            "display": null,
            "flex": null,
            "flex_flow": null,
            "grid_area": null,
            "grid_auto_columns": null,
            "grid_auto_flow": null,
            "grid_auto_rows": null,
            "grid_column": null,
            "grid_gap": null,
            "grid_row": null,
            "grid_template_areas": null,
            "grid_template_columns": null,
            "grid_template_rows": null,
            "height": null,
            "justify_content": null,
            "justify_items": null,
            "left": null,
            "margin": null,
            "max_height": null,
            "max_width": null,
            "min_height": null,
            "min_width": null,
            "object_fit": null,
            "object_position": null,
            "order": null,
            "overflow": null,
            "overflow_x": null,
            "overflow_y": null,
            "padding": null,
            "right": null,
            "top": null,
            "visibility": null,
            "width": null
          }
        },
        "2756afadd0c04a9c8e034f27715e8d5c": {
          "model_module": "@jupyter-widgets/base",
          "model_module_version": "1.2.0",
          "model_name": "LayoutModel",
          "state": {
            "_model_module": "@jupyter-widgets/base",
            "_model_module_version": "1.2.0",
            "_model_name": "LayoutModel",
            "_view_count": null,
            "_view_module": "@jupyter-widgets/base",
            "_view_module_version": "1.2.0",
            "_view_name": "LayoutView",
            "align_content": null,
            "align_items": null,
            "align_self": null,
            "border": null,
            "bottom": null,
            "display": null,
            "flex": null,
            "flex_flow": null,
            "grid_area": null,
            "grid_auto_columns": null,
            "grid_auto_flow": null,
            "grid_auto_rows": null,
            "grid_column": null,
            "grid_gap": null,
            "grid_row": null,
            "grid_template_areas": null,
            "grid_template_columns": null,
            "grid_template_rows": null,
            "height": null,
            "justify_content": null,
            "justify_items": null,
            "left": null,
            "margin": null,
            "max_height": null,
            "max_width": null,
            "min_height": null,
            "min_width": null,
            "object_fit": null,
            "object_position": null,
            "order": null,
            "overflow": null,
            "overflow_x": null,
            "overflow_y": null,
            "padding": null,
            "right": null,
            "top": null,
            "visibility": null,
            "width": null
          }
        },
        "3fd902fe0d4248f1b31d659936abbe31": {
          "model_module": "@jupyter-widgets/base",
          "model_module_version": "1.2.0",
          "model_name": "LayoutModel",
          "state": {
            "_model_module": "@jupyter-widgets/base",
            "_model_module_version": "1.2.0",
            "_model_name": "LayoutModel",
            "_view_count": null,
            "_view_module": "@jupyter-widgets/base",
            "_view_module_version": "1.2.0",
            "_view_name": "LayoutView",
            "align_content": null,
            "align_items": null,
            "align_self": null,
            "border": null,
            "bottom": null,
            "display": null,
            "flex": null,
            "flex_flow": null,
            "grid_area": null,
            "grid_auto_columns": null,
            "grid_auto_flow": null,
            "grid_auto_rows": null,
            "grid_column": null,
            "grid_gap": null,
            "grid_row": null,
            "grid_template_areas": null,
            "grid_template_columns": null,
            "grid_template_rows": null,
            "height": null,
            "justify_content": null,
            "justify_items": null,
            "left": null,
            "margin": null,
            "max_height": null,
            "max_width": null,
            "min_height": null,
            "min_width": null,
            "object_fit": null,
            "object_position": null,
            "order": null,
            "overflow": null,
            "overflow_x": null,
            "overflow_y": null,
            "padding": null,
            "right": null,
            "top": null,
            "visibility": null,
            "width": null
          }
        },
        "46370b770040403891d3bf5685f8e665": {
          "model_module": "@jupyter-widgets/controls",
          "model_module_version": "1.5.0",
          "model_name": "SliderStyleModel",
          "state": {
            "_model_module": "@jupyter-widgets/controls",
            "_model_module_version": "1.5.0",
            "_model_name": "SliderStyleModel",
            "_view_count": null,
            "_view_module": "@jupyter-widgets/base",
            "_view_module_version": "1.2.0",
            "_view_name": "StyleView",
            "description_width": "",
            "handle_color": null
          }
        },
        "4a175ed82bc948ca9f89b4b57238afe3": {
          "model_module": "@jupyter-widgets/base",
          "model_module_version": "1.2.0",
          "model_name": "LayoutModel",
          "state": {
            "_model_module": "@jupyter-widgets/base",
            "_model_module_version": "1.2.0",
            "_model_name": "LayoutModel",
            "_view_count": null,
            "_view_module": "@jupyter-widgets/base",
            "_view_module_version": "1.2.0",
            "_view_name": "LayoutView",
            "align_content": null,
            "align_items": null,
            "align_self": null,
            "border": null,
            "bottom": null,
            "display": null,
            "flex": null,
            "flex_flow": null,
            "grid_area": null,
            "grid_auto_columns": null,
            "grid_auto_flow": null,
            "grid_auto_rows": null,
            "grid_column": null,
            "grid_gap": null,
            "grid_row": null,
            "grid_template_areas": null,
            "grid_template_columns": null,
            "grid_template_rows": null,
            "height": null,
            "justify_content": null,
            "justify_items": null,
            "left": null,
            "margin": null,
            "max_height": null,
            "max_width": null,
            "min_height": null,
            "min_width": null,
            "object_fit": null,
            "object_position": null,
            "order": null,
            "overflow": null,
            "overflow_x": null,
            "overflow_y": null,
            "padding": null,
            "right": null,
            "top": null,
            "visibility": null,
            "width": null
          }
        },
        "55a9a0272f64439aa17034885603124b": {
          "model_module": "@jupyter-widgets/base",
          "model_module_version": "1.2.0",
          "model_name": "LayoutModel",
          "state": {
            "_model_module": "@jupyter-widgets/base",
            "_model_module_version": "1.2.0",
            "_model_name": "LayoutModel",
            "_view_count": null,
            "_view_module": "@jupyter-widgets/base",
            "_view_module_version": "1.2.0",
            "_view_name": "LayoutView",
            "align_content": null,
            "align_items": null,
            "align_self": null,
            "border": null,
            "bottom": null,
            "display": null,
            "flex": null,
            "flex_flow": null,
            "grid_area": null,
            "grid_auto_columns": null,
            "grid_auto_flow": null,
            "grid_auto_rows": null,
            "grid_column": null,
            "grid_gap": null,
            "grid_row": null,
            "grid_template_areas": null,
            "grid_template_columns": null,
            "grid_template_rows": null,
            "height": null,
            "justify_content": null,
            "justify_items": null,
            "left": null,
            "margin": null,
            "max_height": null,
            "max_width": null,
            "min_height": null,
            "min_width": null,
            "object_fit": null,
            "object_position": null,
            "order": null,
            "overflow": null,
            "overflow_x": null,
            "overflow_y": null,
            "padding": null,
            "right": null,
            "top": null,
            "visibility": null,
            "width": null
          }
        },
        "58939b4b1f544ffdb370a52a02fe059a": {
          "model_module": "@jupyter-widgets/controls",
          "model_module_version": "1.5.0",
          "model_name": "SliderStyleModel",
          "state": {
            "_model_module": "@jupyter-widgets/controls",
            "_model_module_version": "1.5.0",
            "_model_name": "SliderStyleModel",
            "_view_count": null,
            "_view_module": "@jupyter-widgets/base",
            "_view_module_version": "1.2.0",
            "_view_name": "StyleView",
            "description_width": "",
            "handle_color": null
          }
        },
        "6100af7dcd2f404fa24e9a7c29a8b395": {
          "model_module": "@jupyter-widgets/controls",
          "model_module_version": "1.5.0",
          "model_name": "SliderStyleModel",
          "state": {
            "_model_module": "@jupyter-widgets/controls",
            "_model_module_version": "1.5.0",
            "_model_name": "SliderStyleModel",
            "_view_count": null,
            "_view_module": "@jupyter-widgets/base",
            "_view_module_version": "1.2.0",
            "_view_name": "StyleView",
            "description_width": "",
            "handle_color": null
          }
        },
        "87bf864c99a74c4195e8975f90253f3a": {
          "model_module": "@jupyter-widgets/controls",
          "model_module_version": "1.5.0",
          "model_name": "FloatSliderModel",
          "state": {
            "_dom_classes": [],
            "_model_module": "@jupyter-widgets/controls",
            "_model_module_version": "1.5.0",
            "_model_name": "FloatSliderModel",
            "_view_count": null,
            "_view_module": "@jupyter-widgets/controls",
            "_view_module_version": "1.5.0",
            "_view_name": "FloatSliderView",
            "continuous_update": false,
            "description": "mean_X",
            "description_tooltip": null,
            "disabled": false,
            "layout": "IPY_MODEL_3fd902fe0d4248f1b31d659936abbe31",
            "max": 100,
            "min": 0,
            "orientation": "horizontal",
            "readout": true,
            "readout_format": ".2f",
            "step": 0.1,
            "style": "IPY_MODEL_ceedf166ae0f4705a48ca19cbbce20e2",
            "value": 0
          }
        },
        "940a1006854f4e16a4350eb95d9ad642": {
          "model_module": "jupyterlab-plotly",
          "model_module_version": "^5.5.0",
          "model_name": "FigureModel",
          "state": {
            "_config": {
              "plotlyServerURL": "https://plot.ly"
            },
            "_data": [
              {
                "marker": {
                  "colorscale": [
                    [
                      0,
                      "#440154"
                    ],
                    [
                      0.1111111111111111,
                      "#482878"
                    ],
                    [
                      0.2222222222222222,
                      "#3e4989"
                    ],
                    [
                      0.3333333333333333,
                      "#31688e"
                    ],
                    [
                      0.4444444444444444,
                      "#26828e"
                    ],
                    [
                      0.5555555555555556,
                      "#1f9e89"
                    ],
                    [
                      0.6666666666666666,
                      "#35b779"
                    ],
                    [
                      0.7777777777777778,
                      "#6ece58"
                    ],
                    [
                      0.8888888888888888,
                      "#b5de2b"
                    ],
                    [
                      1,
                      "#fde725"
                    ]
                  ],
                  "opacity": 0.8,
                  "size": 2
                },
                "mode": "markers",
                "type": "scatter3d",
                "uid": "280171cf-e65f-4362-b122-dc0be21d8728",
                "x": {
                  "dtype": "float32",
                  "shape": [
                    100
                  ]
                },
                "y": {
                  "dtype": "float32",
                  "shape": [
                    100
                  ]
                },
                "z": [
                  0,
                  0,
                  0,
                  0,
                  0,
                  0,
                  0,
                  0,
                  0,
                  0,
                  0,
                  0,
                  0,
                  0,
                  0,
                  0,
                  0,
                  0,
                  0,
                  0,
                  0,
                  0,
                  0,
                  0,
                  0,
                  0,
                  0,
                  0,
                  0,
                  0,
                  0,
                  0,
                  0,
                  0,
                  0,
                  0,
                  0,
                  0,
                  0,
                  0,
                  0,
                  0,
                  0,
                  0,
                  0,
                  0,
                  0,
                  0,
                  0,
                  0,
                  0,
                  0,
                  0,
                  0,
                  0,
                  0,
                  0,
                  0,
                  0,
                  0,
                  0,
                  0,
                  0,
                  0,
                  0,
                  0,
                  0,
                  0,
                  0,
                  0,
                  0,
                  0,
                  0,
                  0,
                  0,
                  0,
                  0,
                  0,
                  0,
                  0,
                  0,
                  0,
                  0,
                  0,
                  0,
                  0,
                  0,
                  0,
                  0,
                  0,
                  0,
                  0,
                  0,
                  0,
                  0,
                  0,
                  0,
                  0,
                  0,
                  0
                ]
              }
            ],
            "_dom_classes": [],
            "_js2py_layoutDelta": {},
            "_js2py_pointsCallback": {},
            "_js2py_relayout": {},
            "_js2py_restyle": {},
            "_js2py_traceDeltas": {},
            "_js2py_update": {},
            "_last_layout_edit_id": 3,
            "_last_trace_edit_id": 3,
            "_layout": {
              "template": {
                "data": {
                  "bar": [
                    {
                      "error_x": {
                        "color": "#2a3f5f"
                      },
                      "error_y": {
                        "color": "#2a3f5f"
                      },
                      "marker": {
                        "line": {
                          "color": "#E5ECF6",
                          "width": 0.5
                        },
                        "pattern": {
                          "fillmode": "overlay",
                          "size": 10,
                          "solidity": 0.2
                        }
                      },
                      "type": "bar"
                    }
                  ],
                  "barpolar": [
                    {
                      "marker": {
                        "line": {
                          "color": "#E5ECF6",
                          "width": 0.5
                        },
                        "pattern": {
                          "fillmode": "overlay",
                          "size": 10,
                          "solidity": 0.2
                        }
                      },
                      "type": "barpolar"
                    }
                  ],
                  "carpet": [
                    {
                      "aaxis": {
                        "endlinecolor": "#2a3f5f",
                        "gridcolor": "white",
                        "linecolor": "white",
                        "minorgridcolor": "white",
                        "startlinecolor": "#2a3f5f"
                      },
                      "baxis": {
                        "endlinecolor": "#2a3f5f",
                        "gridcolor": "white",
                        "linecolor": "white",
                        "minorgridcolor": "white",
                        "startlinecolor": "#2a3f5f"
                      },
                      "type": "carpet"
                    }
                  ],
                  "choropleth": [
                    {
                      "colorbar": {
                        "outlinewidth": 0,
                        "ticks": ""
                      },
                      "type": "choropleth"
                    }
                  ],
                  "contour": [
                    {
                      "colorbar": {
                        "outlinewidth": 0,
                        "ticks": ""
                      },
                      "colorscale": [
                        [
                          0,
                          "#0d0887"
                        ],
                        [
                          0.1111111111111111,
                          "#46039f"
                        ],
                        [
                          0.2222222222222222,
                          "#7201a8"
                        ],
                        [
                          0.3333333333333333,
                          "#9c179e"
                        ],
                        [
                          0.4444444444444444,
                          "#bd3786"
                        ],
                        [
                          0.5555555555555556,
                          "#d8576b"
                        ],
                        [
                          0.6666666666666666,
                          "#ed7953"
                        ],
                        [
                          0.7777777777777778,
                          "#fb9f3a"
                        ],
                        [
                          0.8888888888888888,
                          "#fdca26"
                        ],
                        [
                          1,
                          "#f0f921"
                        ]
                      ],
                      "type": "contour"
                    }
                  ],
                  "contourcarpet": [
                    {
                      "colorbar": {
                        "outlinewidth": 0,
                        "ticks": ""
                      },
                      "type": "contourcarpet"
                    }
                  ],
                  "heatmap": [
                    {
                      "colorbar": {
                        "outlinewidth": 0,
                        "ticks": ""
                      },
                      "colorscale": [
                        [
                          0,
                          "#0d0887"
                        ],
                        [
                          0.1111111111111111,
                          "#46039f"
                        ],
                        [
                          0.2222222222222222,
                          "#7201a8"
                        ],
                        [
                          0.3333333333333333,
                          "#9c179e"
                        ],
                        [
                          0.4444444444444444,
                          "#bd3786"
                        ],
                        [
                          0.5555555555555556,
                          "#d8576b"
                        ],
                        [
                          0.6666666666666666,
                          "#ed7953"
                        ],
                        [
                          0.7777777777777778,
                          "#fb9f3a"
                        ],
                        [
                          0.8888888888888888,
                          "#fdca26"
                        ],
                        [
                          1,
                          "#f0f921"
                        ]
                      ],
                      "type": "heatmap"
                    }
                  ],
                  "heatmapgl": [
                    {
                      "colorbar": {
                        "outlinewidth": 0,
                        "ticks": ""
                      },
                      "colorscale": [
                        [
                          0,
                          "#0d0887"
                        ],
                        [
                          0.1111111111111111,
                          "#46039f"
                        ],
                        [
                          0.2222222222222222,
                          "#7201a8"
                        ],
                        [
                          0.3333333333333333,
                          "#9c179e"
                        ],
                        [
                          0.4444444444444444,
                          "#bd3786"
                        ],
                        [
                          0.5555555555555556,
                          "#d8576b"
                        ],
                        [
                          0.6666666666666666,
                          "#ed7953"
                        ],
                        [
                          0.7777777777777778,
                          "#fb9f3a"
                        ],
                        [
                          0.8888888888888888,
                          "#fdca26"
                        ],
                        [
                          1,
                          "#f0f921"
                        ]
                      ],
                      "type": "heatmapgl"
                    }
                  ],
                  "histogram": [
                    {
                      "marker": {
                        "pattern": {
                          "fillmode": "overlay",
                          "size": 10,
                          "solidity": 0.2
                        }
                      },
                      "type": "histogram"
                    }
                  ],
                  "histogram2d": [
                    {
                      "colorbar": {
                        "outlinewidth": 0,
                        "ticks": ""
                      },
                      "colorscale": [
                        [
                          0,
                          "#0d0887"
                        ],
                        [
                          0.1111111111111111,
                          "#46039f"
                        ],
                        [
                          0.2222222222222222,
                          "#7201a8"
                        ],
                        [
                          0.3333333333333333,
                          "#9c179e"
                        ],
                        [
                          0.4444444444444444,
                          "#bd3786"
                        ],
                        [
                          0.5555555555555556,
                          "#d8576b"
                        ],
                        [
                          0.6666666666666666,
                          "#ed7953"
                        ],
                        [
                          0.7777777777777778,
                          "#fb9f3a"
                        ],
                        [
                          0.8888888888888888,
                          "#fdca26"
                        ],
                        [
                          1,
                          "#f0f921"
                        ]
                      ],
                      "type": "histogram2d"
                    }
                  ],
                  "histogram2dcontour": [
                    {
                      "colorbar": {
                        "outlinewidth": 0,
                        "ticks": ""
                      },
                      "colorscale": [
                        [
                          0,
                          "#0d0887"
                        ],
                        [
                          0.1111111111111111,
                          "#46039f"
                        ],
                        [
                          0.2222222222222222,
                          "#7201a8"
                        ],
                        [
                          0.3333333333333333,
                          "#9c179e"
                        ],
                        [
                          0.4444444444444444,
                          "#bd3786"
                        ],
                        [
                          0.5555555555555556,
                          "#d8576b"
                        ],
                        [
                          0.6666666666666666,
                          "#ed7953"
                        ],
                        [
                          0.7777777777777778,
                          "#fb9f3a"
                        ],
                        [
                          0.8888888888888888,
                          "#fdca26"
                        ],
                        [
                          1,
                          "#f0f921"
                        ]
                      ],
                      "type": "histogram2dcontour"
                    }
                  ],
                  "mesh3d": [
                    {
                      "colorbar": {
                        "outlinewidth": 0,
                        "ticks": ""
                      },
                      "type": "mesh3d"
                    }
                  ],
                  "parcoords": [
                    {
                      "line": {
                        "colorbar": {
                          "outlinewidth": 0,
                          "ticks": ""
                        }
                      },
                      "type": "parcoords"
                    }
                  ],
                  "pie": [
                    {
                      "automargin": true,
                      "type": "pie"
                    }
                  ],
                  "scatter": [
                    {
                      "marker": {
                        "colorbar": {
                          "outlinewidth": 0,
                          "ticks": ""
                        }
                      },
                      "type": "scatter"
                    }
                  ],
                  "scatter3d": [
                    {
                      "line": {
                        "colorbar": {
                          "outlinewidth": 0,
                          "ticks": ""
                        }
                      },
                      "marker": {
                        "colorbar": {
                          "outlinewidth": 0,
                          "ticks": ""
                        }
                      },
                      "type": "scatter3d"
                    }
                  ],
                  "scattercarpet": [
                    {
                      "marker": {
                        "colorbar": {
                          "outlinewidth": 0,
                          "ticks": ""
                        }
                      },
                      "type": "scattercarpet"
                    }
                  ],
                  "scattergeo": [
                    {
                      "marker": {
                        "colorbar": {
                          "outlinewidth": 0,
                          "ticks": ""
                        }
                      },
                      "type": "scattergeo"
                    }
                  ],
                  "scattergl": [
                    {
                      "marker": {
                        "colorbar": {
                          "outlinewidth": 0,
                          "ticks": ""
                        }
                      },
                      "type": "scattergl"
                    }
                  ],
                  "scattermapbox": [
                    {
                      "marker": {
                        "colorbar": {
                          "outlinewidth": 0,
                          "ticks": ""
                        }
                      },
                      "type": "scattermapbox"
                    }
                  ],
                  "scatterpolar": [
                    {
                      "marker": {
                        "colorbar": {
                          "outlinewidth": 0,
                          "ticks": ""
                        }
                      },
                      "type": "scatterpolar"
                    }
                  ],
                  "scatterpolargl": [
                    {
                      "marker": {
                        "colorbar": {
                          "outlinewidth": 0,
                          "ticks": ""
                        }
                      },
                      "type": "scatterpolargl"
                    }
                  ],
                  "scatterternary": [
                    {
                      "marker": {
                        "colorbar": {
                          "outlinewidth": 0,
                          "ticks": ""
                        }
                      },
                      "type": "scatterternary"
                    }
                  ],
                  "surface": [
                    {
                      "colorbar": {
                        "outlinewidth": 0,
                        "ticks": ""
                      },
                      "colorscale": [
                        [
                          0,
                          "#0d0887"
                        ],
                        [
                          0.1111111111111111,
                          "#46039f"
                        ],
                        [
                          0.2222222222222222,
                          "#7201a8"
                        ],
                        [
                          0.3333333333333333,
                          "#9c179e"
                        ],
                        [
                          0.4444444444444444,
                          "#bd3786"
                        ],
                        [
                          0.5555555555555556,
                          "#d8576b"
                        ],
                        [
                          0.6666666666666666,
                          "#ed7953"
                        ],
                        [
                          0.7777777777777778,
                          "#fb9f3a"
                        ],
                        [
                          0.8888888888888888,
                          "#fdca26"
                        ],
                        [
                          1,
                          "#f0f921"
                        ]
                      ],
                      "type": "surface"
                    }
                  ],
                  "table": [
                    {
                      "cells": {
                        "fill": {
                          "color": "#EBF0F8"
                        },
                        "line": {
                          "color": "white"
                        }
                      },
                      "header": {
                        "fill": {
                          "color": "#C8D4E3"
                        },
                        "line": {
                          "color": "white"
                        }
                      },
                      "type": "table"
                    }
                  ]
                },
                "layout": {
                  "annotationdefaults": {
                    "arrowcolor": "#2a3f5f",
                    "arrowhead": 0,
                    "arrowwidth": 1
                  },
                  "autotypenumbers": "strict",
                  "coloraxis": {
                    "colorbar": {
                      "outlinewidth": 0,
                      "ticks": ""
                    }
                  },
                  "colorscale": {
                    "diverging": [
                      [
                        0,
                        "#8e0152"
                      ],
                      [
                        0.1,
                        "#c51b7d"
                      ],
                      [
                        0.2,
                        "#de77ae"
                      ],
                      [
                        0.3,
                        "#f1b6da"
                      ],
                      [
                        0.4,
                        "#fde0ef"
                      ],
                      [
                        0.5,
                        "#f7f7f7"
                      ],
                      [
                        0.6,
                        "#e6f5d0"
                      ],
                      [
                        0.7,
                        "#b8e186"
                      ],
                      [
                        0.8,
                        "#7fbc41"
                      ],
                      [
                        0.9,
                        "#4d9221"
                      ],
                      [
                        1,
                        "#276419"
                      ]
                    ],
                    "sequential": [
                      [
                        0,
                        "#0d0887"
                      ],
                      [
                        0.1111111111111111,
                        "#46039f"
                      ],
                      [
                        0.2222222222222222,
                        "#7201a8"
                      ],
                      [
                        0.3333333333333333,
                        "#9c179e"
                      ],
                      [
                        0.4444444444444444,
                        "#bd3786"
                      ],
                      [
                        0.5555555555555556,
                        "#d8576b"
                      ],
                      [
                        0.6666666666666666,
                        "#ed7953"
                      ],
                      [
                        0.7777777777777778,
                        "#fb9f3a"
                      ],
                      [
                        0.8888888888888888,
                        "#fdca26"
                      ],
                      [
                        1,
                        "#f0f921"
                      ]
                    ],
                    "sequentialminus": [
                      [
                        0,
                        "#0d0887"
                      ],
                      [
                        0.1111111111111111,
                        "#46039f"
                      ],
                      [
                        0.2222222222222222,
                        "#7201a8"
                      ],
                      [
                        0.3333333333333333,
                        "#9c179e"
                      ],
                      [
                        0.4444444444444444,
                        "#bd3786"
                      ],
                      [
                        0.5555555555555556,
                        "#d8576b"
                      ],
                      [
                        0.6666666666666666,
                        "#ed7953"
                      ],
                      [
                        0.7777777777777778,
                        "#fb9f3a"
                      ],
                      [
                        0.8888888888888888,
                        "#fdca26"
                      ],
                      [
                        1,
                        "#f0f921"
                      ]
                    ]
                  },
                  "colorway": [
                    "#636efa",
                    "#EF553B",
                    "#00cc96",
                    "#ab63fa",
                    "#FFA15A",
                    "#19d3f3",
                    "#FF6692",
                    "#B6E880",
                    "#FF97FF",
                    "#FECB52"
                  ],
                  "font": {
                    "color": "#2a3f5f"
                  },
                  "geo": {
                    "bgcolor": "white",
                    "lakecolor": "white",
                    "landcolor": "#E5ECF6",
                    "showlakes": true,
                    "showland": true,
                    "subunitcolor": "white"
                  },
                  "hoverlabel": {
                    "align": "left"
                  },
                  "hovermode": "closest",
                  "mapbox": {
                    "style": "light"
                  },
                  "paper_bgcolor": "white",
                  "plot_bgcolor": "#E5ECF6",
                  "polar": {
                    "angularaxis": {
                      "gridcolor": "white",
                      "linecolor": "white",
                      "ticks": ""
                    },
                    "bgcolor": "#E5ECF6",
                    "radialaxis": {
                      "gridcolor": "white",
                      "linecolor": "white",
                      "ticks": ""
                    }
                  },
                  "scene": {
                    "xaxis": {
                      "backgroundcolor": "#E5ECF6",
                      "gridcolor": "white",
                      "gridwidth": 2,
                      "linecolor": "white",
                      "showbackground": true,
                      "ticks": "",
                      "zerolinecolor": "white"
                    },
                    "yaxis": {
                      "backgroundcolor": "#E5ECF6",
                      "gridcolor": "white",
                      "gridwidth": 2,
                      "linecolor": "white",
                      "showbackground": true,
                      "ticks": "",
                      "zerolinecolor": "white"
                    },
                    "zaxis": {
                      "backgroundcolor": "#E5ECF6",
                      "gridcolor": "white",
                      "gridwidth": 2,
                      "linecolor": "white",
                      "showbackground": true,
                      "ticks": "",
                      "zerolinecolor": "white"
                    }
                  },
                  "shapedefaults": {
                    "line": {
                      "color": "#2a3f5f"
                    }
                  },
                  "ternary": {
                    "aaxis": {
                      "gridcolor": "white",
                      "linecolor": "white",
                      "ticks": ""
                    },
                    "baxis": {
                      "gridcolor": "white",
                      "linecolor": "white",
                      "ticks": ""
                    },
                    "bgcolor": "#E5ECF6",
                    "caxis": {
                      "gridcolor": "white",
                      "linecolor": "white",
                      "ticks": ""
                    }
                  },
                  "title": {
                    "x": 0.05
                  },
                  "xaxis": {
                    "automargin": true,
                    "gridcolor": "white",
                    "linecolor": "white",
                    "ticks": "",
                    "title": {
                      "standoff": 15
                    },
                    "zerolinecolor": "white",
                    "zerolinewidth": 2
                  },
                  "yaxis": {
                    "automargin": true,
                    "gridcolor": "white",
                    "linecolor": "white",
                    "ticks": "",
                    "title": {
                      "standoff": 15
                    },
                    "zerolinecolor": "white",
                    "zerolinewidth": 2
                  }
                }
              }
            },
            "_model_module": "jupyterlab-plotly",
            "_model_module_version": "^5.5.0",
            "_model_name": "FigureModel",
            "_py2js_addTraces": {},
            "_py2js_animate": {},
            "_py2js_deleteTraces": {},
            "_py2js_moveTraces": {},
            "_py2js_relayout": {},
            "_py2js_removeLayoutProps": {},
            "_py2js_removeTraceProps": {},
            "_py2js_restyle": {},
            "_py2js_update": null,
            "_view_count": 1,
            "_view_module": "jupyterlab-plotly",
            "_view_module_version": "^5.5.0",
            "_view_name": "FigureView"
          }
        },
        "948fffe0f358418f894fab68ba7aa7af": {
          "model_module": "@jupyter-widgets/controls",
          "model_module_version": "1.5.0",
          "model_name": "FloatSliderModel",
          "state": {
            "_dom_classes": [],
            "_model_module": "@jupyter-widgets/controls",
            "_model_module_version": "1.5.0",
            "_model_name": "FloatSliderModel",
            "_view_count": null,
            "_view_module": "@jupyter-widgets/controls",
            "_view_module_version": "1.5.0",
            "_view_name": "FloatSliderView",
            "continuous_update": false,
            "description": "var_Y",
            "description_tooltip": null,
            "disabled": false,
            "layout": "IPY_MODEL_2756afadd0c04a9c8e034f27715e8d5c",
            "max": 100,
            "min": 0,
            "orientation": "horizontal",
            "readout": true,
            "readout_format": ".2f",
            "step": 0.1,
            "style": "IPY_MODEL_46370b770040403891d3bf5685f8e665",
            "value": 1
          }
        },
        "a3b53a60c06d4dd6a5637ba29476384b": {
          "model_module": "@jupyter-widgets/base",
          "model_module_version": "1.2.0",
          "model_name": "LayoutModel",
          "state": {
            "_model_module": "@jupyter-widgets/base",
            "_model_module_version": "1.2.0",
            "_model_name": "LayoutModel",
            "_view_count": null,
            "_view_module": "@jupyter-widgets/base",
            "_view_module_version": "1.2.0",
            "_view_name": "LayoutView",
            "align_content": null,
            "align_items": null,
            "align_self": null,
            "border": null,
            "bottom": null,
            "display": null,
            "flex": null,
            "flex_flow": null,
            "grid_area": null,
            "grid_auto_columns": null,
            "grid_auto_flow": null,
            "grid_auto_rows": null,
            "grid_column": null,
            "grid_gap": null,
            "grid_row": null,
            "grid_template_areas": null,
            "grid_template_columns": null,
            "grid_template_rows": null,
            "height": null,
            "justify_content": null,
            "justify_items": null,
            "left": null,
            "margin": null,
            "max_height": null,
            "max_width": null,
            "min_height": null,
            "min_width": null,
            "object_fit": null,
            "object_position": null,
            "order": null,
            "overflow": null,
            "overflow_x": null,
            "overflow_y": null,
            "padding": null,
            "right": null,
            "top": null,
            "visibility": null,
            "width": null
          }
        },
        "ab27bc3bd26544fcb718f7b1a75e8623": {
          "model_module": "@jupyter-widgets/controls",
          "model_module_version": "1.5.0",
          "model_name": "SliderStyleModel",
          "state": {
            "_model_module": "@jupyter-widgets/controls",
            "_model_module_version": "1.5.0",
            "_model_name": "SliderStyleModel",
            "_view_count": null,
            "_view_module": "@jupyter-widgets/base",
            "_view_module_version": "1.2.0",
            "_view_name": "StyleView",
            "description_width": "",
            "handle_color": null
          }
        },
        "bf4d35e5e10c488d82e4af721c542c01": {
          "model_module": "@jupyter-widgets/controls",
          "model_module_version": "1.5.0",
          "model_name": "FloatSliderModel",
          "state": {
            "_dom_classes": [],
            "_model_module": "@jupyter-widgets/controls",
            "_model_module_version": "1.5.0",
            "_model_name": "FloatSliderModel",
            "_view_count": null,
            "_view_module": "@jupyter-widgets/controls",
            "_view_module_version": "1.5.0",
            "_view_name": "FloatSliderView",
            "continuous_update": false,
            "description": "mean_Y",
            "description_tooltip": null,
            "disabled": false,
            "layout": "IPY_MODEL_d9e0609b295d407abf201121b25f9515",
            "max": 100,
            "min": 0,
            "orientation": "horizontal",
            "readout": true,
            "readout_format": ".2f",
            "step": 0.1,
            "style": "IPY_MODEL_58939b4b1f544ffdb370a52a02fe059a",
            "value": 0
          }
        },
        "c043f02166124c128459138db6abcdea": {
          "model_module": "@jupyter-widgets/controls",
          "model_module_version": "1.5.0",
          "model_name": "IntSliderModel",
          "state": {
            "_dom_classes": [],
            "_model_module": "@jupyter-widgets/controls",
            "_model_module_version": "1.5.0",
            "_model_name": "IntSliderModel",
            "_view_count": null,
            "_view_module": "@jupyter-widgets/controls",
            "_view_module_version": "1.5.0",
            "_view_name": "IntSliderView",
            "continuous_update": false,
            "description": "sample_size",
            "description_tooltip": null,
            "disabled": false,
            "layout": "IPY_MODEL_55a9a0272f64439aa17034885603124b",
            "max": 50000,
            "min": 100,
            "orientation": "horizontal",
            "readout": true,
            "readout_format": "d",
            "step": 1,
            "style": "IPY_MODEL_d747232b70b54601ab7fa5abc3954f2f",
            "value": 100
          }
        },
        "c0576f04ba0c4101a600bad3fc31ebc5": {
          "model_module": "@jupyter-widgets/base",
          "model_module_version": "1.2.0",
          "model_name": "LayoutModel",
          "state": {
            "_model_module": "@jupyter-widgets/base",
            "_model_module_version": "1.2.0",
            "_model_name": "LayoutModel",
            "_view_count": null,
            "_view_module": "@jupyter-widgets/base",
            "_view_module_version": "1.2.0",
            "_view_name": "LayoutView",
            "align_content": null,
            "align_items": null,
            "align_self": null,
            "border": null,
            "bottom": null,
            "display": null,
            "flex": null,
            "flex_flow": null,
            "grid_area": null,
            "grid_auto_columns": null,
            "grid_auto_flow": null,
            "grid_auto_rows": null,
            "grid_column": null,
            "grid_gap": null,
            "grid_row": null,
            "grid_template_areas": null,
            "grid_template_columns": null,
            "grid_template_rows": null,
            "height": null,
            "justify_content": null,
            "justify_items": null,
            "left": null,
            "margin": null,
            "max_height": null,
            "max_width": null,
            "min_height": null,
            "min_width": null,
            "object_fit": null,
            "object_position": null,
            "order": null,
            "overflow": null,
            "overflow_x": null,
            "overflow_y": null,
            "padding": null,
            "right": null,
            "top": null,
            "visibility": null,
            "width": null
          }
        },
        "ceedf166ae0f4705a48ca19cbbce20e2": {
          "model_module": "@jupyter-widgets/controls",
          "model_module_version": "1.5.0",
          "model_name": "SliderStyleModel",
          "state": {
            "_model_module": "@jupyter-widgets/controls",
            "_model_module_version": "1.5.0",
            "_model_name": "SliderStyleModel",
            "_view_count": null,
            "_view_module": "@jupyter-widgets/base",
            "_view_module_version": "1.2.0",
            "_view_name": "StyleView",
            "description_width": "",
            "handle_color": null
          }
        },
        "d747232b70b54601ab7fa5abc3954f2f": {
          "model_module": "@jupyter-widgets/controls",
          "model_module_version": "1.5.0",
          "model_name": "SliderStyleModel",
          "state": {
            "_model_module": "@jupyter-widgets/controls",
            "_model_module_version": "1.5.0",
            "_model_name": "SliderStyleModel",
            "_view_count": null,
            "_view_module": "@jupyter-widgets/base",
            "_view_module_version": "1.2.0",
            "_view_name": "StyleView",
            "description_width": "",
            "handle_color": null
          }
        },
        "d9e0609b295d407abf201121b25f9515": {
          "model_module": "@jupyter-widgets/base",
          "model_module_version": "1.2.0",
          "model_name": "LayoutModel",
          "state": {
            "_model_module": "@jupyter-widgets/base",
            "_model_module_version": "1.2.0",
            "_model_name": "LayoutModel",
            "_view_count": null,
            "_view_module": "@jupyter-widgets/base",
            "_view_module_version": "1.2.0",
            "_view_name": "LayoutView",
            "align_content": null,
            "align_items": null,
            "align_self": null,
            "border": null,
            "bottom": null,
            "display": null,
            "flex": null,
            "flex_flow": null,
            "grid_area": null,
            "grid_auto_columns": null,
            "grid_auto_flow": null,
            "grid_auto_rows": null,
            "grid_column": null,
            "grid_gap": null,
            "grid_row": null,
            "grid_template_areas": null,
            "grid_template_columns": null,
            "grid_template_rows": null,
            "height": null,
            "justify_content": null,
            "justify_items": null,
            "left": null,
            "margin": null,
            "max_height": null,
            "max_width": null,
            "min_height": null,
            "min_width": null,
            "object_fit": null,
            "object_position": null,
            "order": null,
            "overflow": null,
            "overflow_x": null,
            "overflow_y": null,
            "padding": null,
            "right": null,
            "top": null,
            "visibility": null,
            "width": null
          }
        },
        "df206dcfa2474c0f80a2182d6811bb4f": {
          "model_module": "@jupyter-widgets/controls",
          "model_module_version": "1.5.0",
          "model_name": "VBoxModel",
          "state": {
            "_dom_classes": [],
            "_model_module": "@jupyter-widgets/controls",
            "_model_module_version": "1.5.0",
            "_model_name": "VBoxModel",
            "_view_count": null,
            "_view_module": "@jupyter-widgets/controls",
            "_view_module_version": "1.5.0",
            "_view_name": "VBoxView",
            "box_style": "",
            "children": [
              "IPY_MODEL_1d111b8f37f14f26b5d1b06440614c98",
              "IPY_MODEL_940a1006854f4e16a4350eb95d9ad642"
            ],
            "layout": "IPY_MODEL_4a175ed82bc948ca9f89b4b57238afe3"
          }
        },
        "e3edd9a90d5f4cb4882e10b40de7800c": {
          "model_module": "@jupyter-widgets/controls",
          "model_module_version": "1.5.0",
          "model_name": "FloatSliderModel",
          "state": {
            "_dom_classes": [],
            "_model_module": "@jupyter-widgets/controls",
            "_model_module_version": "1.5.0",
            "_model_name": "FloatSliderModel",
            "_view_count": null,
            "_view_module": "@jupyter-widgets/controls",
            "_view_module_version": "1.5.0",
            "_view_name": "FloatSliderView",
            "continuous_update": false,
            "description": "cov_XY",
            "description_tooltip": null,
            "disabled": false,
            "layout": "IPY_MODEL_c0576f04ba0c4101a600bad3fc31ebc5",
            "max": 100,
            "min": 0,
            "orientation": "horizontal",
            "readout": true,
            "readout_format": ".2f",
            "step": 0.1,
            "style": "IPY_MODEL_6100af7dcd2f404fa24e9a7c29a8b395",
            "value": 0.4
          }
        },
        "46183a81c6c94327aa33ea398fe683ba": {
          "model_module": "@jupyter-widgets/controls",
          "model_name": "VBoxModel",
          "model_module_version": "1.5.0",
          "state": {
            "_dom_classes": [
              "widget-interact"
            ],
            "_model_module": "@jupyter-widgets/controls",
            "_model_module_version": "1.5.0",
            "_model_name": "VBoxModel",
            "_view_count": null,
            "_view_module": "@jupyter-widgets/controls",
            "_view_module_version": "1.5.0",
            "_view_name": "VBoxView",
            "box_style": "",
            "children": [
              "IPY_MODEL_537fec00f9f948cca7c02c627a9ef7d3",
              "IPY_MODEL_b2c0031ff0764e5db8176b87781707ad",
              "IPY_MODEL_cc05922d368349aaa747151297686f25",
              "IPY_MODEL_bb745469caa048b886ef789f7116b883",
              "IPY_MODEL_e744f5e8a2b2410e945c0ba4ebcdd2a9",
              "IPY_MODEL_fcbf36d2babe4aaf937d85d036f05fd4",
              "IPY_MODEL_ccccbf0cf7674317b5cc5a05face557a"
            ],
            "layout": "IPY_MODEL_f256e07f93b14eb48c928012b754ba45"
          }
        },
        "537fec00f9f948cca7c02c627a9ef7d3": {
          "model_module": "@jupyter-widgets/controls",
          "model_name": "FloatSliderModel",
          "model_module_version": "1.5.0",
          "state": {
            "_dom_classes": [],
            "_model_module": "@jupyter-widgets/controls",
            "_model_module_version": "1.5.0",
            "_model_name": "FloatSliderModel",
            "_view_count": null,
            "_view_module": "@jupyter-widgets/controls",
            "_view_module_version": "1.5.0",
            "_view_name": "FloatSliderView",
            "continuous_update": false,
            "description": "mean_X",
            "description_tooltip": null,
            "disabled": false,
            "layout": "IPY_MODEL_e7241da0e96345e7a15b6ecbfb35fa31",
            "max": 100,
            "min": 0,
            "orientation": "horizontal",
            "readout": true,
            "readout_format": ".2f",
            "step": 0.1,
            "style": "IPY_MODEL_aa6f5730b39941e9aa9031c6606e1a8d",
            "value": 0
          }
        },
        "b2c0031ff0764e5db8176b87781707ad": {
          "model_module": "@jupyter-widgets/controls",
          "model_name": "FloatSliderModel",
          "model_module_version": "1.5.0",
          "state": {
            "_dom_classes": [],
            "_model_module": "@jupyter-widgets/controls",
            "_model_module_version": "1.5.0",
            "_model_name": "FloatSliderModel",
            "_view_count": null,
            "_view_module": "@jupyter-widgets/controls",
            "_view_module_version": "1.5.0",
            "_view_name": "FloatSliderView",
            "continuous_update": false,
            "description": "var_X",
            "description_tooltip": null,
            "disabled": false,
            "layout": "IPY_MODEL_7c9c44b88cf24d949469028c6a1bad24",
            "max": 100,
            "min": 1,
            "orientation": "horizontal",
            "readout": true,
            "readout_format": ".2f",
            "step": 0.1,
            "style": "IPY_MODEL_5142b704f2f2477bbed13970bb428755",
            "value": 1.5
          }
        },
        "cc05922d368349aaa747151297686f25": {
          "model_module": "@jupyter-widgets/controls",
          "model_name": "FloatSliderModel",
          "model_module_version": "1.5.0",
          "state": {
            "_dom_classes": [],
            "_model_module": "@jupyter-widgets/controls",
            "_model_module_version": "1.5.0",
            "_model_name": "FloatSliderModel",
            "_view_count": null,
            "_view_module": "@jupyter-widgets/controls",
            "_view_module_version": "1.5.0",
            "_view_name": "FloatSliderView",
            "continuous_update": false,
            "description": "mean_Y",
            "description_tooltip": null,
            "disabled": false,
            "layout": "IPY_MODEL_05f4b77338f54c0eba0b0b193ea50d05",
            "max": 100,
            "min": 0,
            "orientation": "horizontal",
            "readout": true,
            "readout_format": ".2f",
            "step": 0.1,
            "style": "IPY_MODEL_2a0df4e19b0d4c1f9d402e24503d6cc9",
            "value": 0
          }
        },
        "bb745469caa048b886ef789f7116b883": {
          "model_module": "@jupyter-widgets/controls",
          "model_name": "FloatSliderModel",
          "model_module_version": "1.5.0",
          "state": {
            "_dom_classes": [],
            "_model_module": "@jupyter-widgets/controls",
            "_model_module_version": "1.5.0",
            "_model_name": "FloatSliderModel",
            "_view_count": null,
            "_view_module": "@jupyter-widgets/controls",
            "_view_module_version": "1.5.0",
            "_view_name": "FloatSliderView",
            "continuous_update": false,
            "description": "var_Y",
            "description_tooltip": null,
            "disabled": false,
            "layout": "IPY_MODEL_c62c030e99fb4645a4bc1363f2b6c6a9",
            "max": 100,
            "min": 1,
            "orientation": "horizontal",
            "readout": true,
            "readout_format": ".2f",
            "step": 0.1,
            "style": "IPY_MODEL_ca45280a95184fbbb06296c9351a41f9",
            "value": 1
          }
        },
        "e744f5e8a2b2410e945c0ba4ebcdd2a9": {
          "model_module": "@jupyter-widgets/controls",
          "model_name": "FloatSliderModel",
          "model_module_version": "1.5.0",
          "state": {
            "_dom_classes": [],
            "_model_module": "@jupyter-widgets/controls",
            "_model_module_version": "1.5.0",
            "_model_name": "FloatSliderModel",
            "_view_count": null,
            "_view_module": "@jupyter-widgets/controls",
            "_view_module_version": "1.5.0",
            "_view_name": "FloatSliderView",
            "continuous_update": false,
            "description": "corr_XY",
            "description_tooltip": null,
            "disabled": false,
            "layout": "IPY_MODEL_427c75b1584242a8886cbab3f29c700d",
            "max": 0.9999,
            "min": -0.9999,
            "orientation": "horizontal",
            "readout": true,
            "readout_format": ".2f",
            "step": 0.01,
            "style": "IPY_MODEL_9a5da0bea7cd48d5a99943a2858043df",
            "value": 0.4
          }
        },
        "fcbf36d2babe4aaf937d85d036f05fd4": {
          "model_module": "@jupyter-widgets/controls",
          "model_name": "IntSliderModel",
          "model_module_version": "1.5.0",
          "state": {
            "_dom_classes": [],
            "_model_module": "@jupyter-widgets/controls",
            "_model_module_version": "1.5.0",
            "_model_name": "IntSliderModel",
            "_view_count": null,
            "_view_module": "@jupyter-widgets/controls",
            "_view_module_version": "1.5.0",
            "_view_name": "IntSliderView",
            "continuous_update": false,
            "description": "sample_size",
            "description_tooltip": null,
            "disabled": false,
            "layout": "IPY_MODEL_8401f7fc71434cedbf5d88ce1f544f4d",
            "max": 1000,
            "min": 100,
            "orientation": "horizontal",
            "readout": true,
            "readout_format": "d",
            "step": 1,
            "style": "IPY_MODEL_554f80dce80e4fc691a537bdf2018b41",
            "value": 100
          }
        },
        "ccccbf0cf7674317b5cc5a05face557a": {
          "model_module": "@jupyter-widgets/output",
          "model_name": "OutputModel",
          "model_module_version": "1.0.0",
          "state": {
            "_dom_classes": [],
            "_model_module": "@jupyter-widgets/output",
            "_model_module_version": "1.0.0",
            "_model_name": "OutputModel",
            "_view_count": null,
            "_view_module": "@jupyter-widgets/output",
            "_view_module_version": "1.0.0",
            "_view_name": "OutputView",
            "layout": "IPY_MODEL_abb4b89dea644c9998c669ea6f12636a",
            "msg_id": "",
            "outputs": [
              {
                "output_type": "stream",
                "name": "stderr",
                "text": [
                  "WARNING:absl:No GPU/TPU found, falling back to CPU. (Set TF_CPP_MIN_LOG_LEVEL=0 and rerun for more info.)\n"
                ]
              },
              {
                "output_type": "display_data",
                "data": {
                  "text/plain": "<Figure size 720x720 with 1 Axes>",
                  "image/png": "iVBORw0KGgoAAAANSUhEUgAAAjwAAAIuCAYAAAC7EdIKAAAABHNCSVQICAgIfAhkiAAAAAlwSFlzAAALEgAACxIB0t1+/AAAADh0RVh0U29mdHdhcmUAbWF0cGxvdGxpYiB2ZXJzaW9uMy4yLjIsIGh0dHA6Ly9tYXRwbG90bGliLm9yZy+WH4yJAAAgAElEQVR4nOy9eXCj533n+X1fACR4n002CXaz1WQ32WQf6m6SkuVblqK4N+lV4kmi1dTMJoprbFfvro+MPZrxjCrjKONkU3GVEynWuOLsOOXRKruxE2kjp23JiqWME6vVttwEr+Z9gTcBkMQNvO+zf9Dv2wCIG+8J/D5VqmoRx/vgBfA+X/yuL8cYA0EQBEEQRCnD670AgiAIgiAItSHBQxAEQRBEyUOChyAIgiCIkocED0EQBEEQJQ8JHoIgCIIgSh4SPARBEARBlDzWLLdTzzpBEARBEGaBS3cDRXgIgiAIgih5SPAQBEEQBFHykOAhCIIgCKLkIcFDEARBEETJQ4KHIAiCIIiShwQPQRAEQRAlDwkegiAIgiBKHhI8BEEQBEGUPCR4CIIgCIIoeUjwEARBEARR8pDgIQiCIAii5CHBQxAEQRBEyUOChyAIgiCIkocED0EQBEEQJQ8JHoIgCIIgSh4SPARBEARBlDwkeAiCIAiCKHlI8BAEQRAEUfKQ4CEIgiAIouQhwUMQBEEQRMlDgocgCIIgiJKHBA9BEARBECUPCR6CIAiCIEoeEjwEQRAEQZQ8JHgIgiAIgih5SPAQBEEQBFHykOAhCIIgCKLkIcFDEARBEETJQ4KHIAiCIIiShwQPQRAEQRAlDwkegiAIgiBKHhI8BEEQBEGUPCR4CIIgCIIoeUjwEARBEARR8lj1XgBBELnDGIMgCAiHw7BarbBareB5HhzH6b00giAIQ8MxxjLdnvFGgiC0gzGGaDQKQRAQCoUSRI7VaoXNZoPFYoHFYiEBRBBEuZL24keChyBMgCiKiEQiYIyB4zhEIhFZ1DDG5P8kpOiP1WolAUQQRDmR9mJHKS2CMDCMMcRiMcRiMXAcB57nkfwjheO4BEEjpb2i0aj8d4vFApvNRgKIIIiyhSI8BGFQRFFENBqFKIoJooYxlhDhyYYU/ZGeByABRBBEyUIpLYIwC/ERGiB1BCcfwZPq+ZNTYIwxWCwWVFVVwWq1kgAiCMKsUEqLIMxAfGFystBRilQCamtrC36/H93d3QDuRYCkImiepwkWBEGYGxI8BGEQkguTtYqySLVBHMfBYrHI6a9QKCTfh+f5hBQYCSCCIMwGCR6C0JlUhclaw3GcnOJKFQFijCEcDiMcDgM4FEDxrfAkgAiCMDokeAhCR9IVJhuJdAIoEokgEokAOCqAjPpaCIIoX0jwEIQOZCtM1pp8jp1KAAFIEEAcxx1JgZEAIghCT0jwEITGaFGYXAhZOjbTEt/qHv88kUgkIQVGAoggCD0hwUMQGiJFdbQuTNaSZAEE3GulD4fD8uuOnwZNAoggCLUhwUMQGmCEwuRMxBctq/X8yQIoGo0mpPRIABEEoSYkeAhCZcxQmKw1uQig+GnQJIAIgigWEjwEoRLJhclGi+rEo3aEJ5fjJwsgQRAQi8Xkv5EdBkEQxUCChyBUQKpZoahOYaTqBAuHw/jpT3+KS5cuASBHeIIg8oMED0EojBkLk42+xlTToMkRniCIfCDBQxAKYfTC5GzomdLKF0lISudYssMIBoMkgAiCSAkJHoJQALMXJpttvcmkE0DxfmDxhqjkCE8Q5QcJHoIoguTUilZRHTU2azNFeLKRqgZIEkBSqlESPmSIShDlAQkegigQxhh2d3fh8/lw/PhxihgYmHQCKNkQlRzhCaJ0IcFDEHkSH9UJhULY29tDR0eH3ssqCr3b0nNByfUV4ghvxlQlQRD3IMFDEHlg9sJks6OW4CBHeIIofUjwEESOiKKISCSS0G7O87wukRFpDUphhgiPlpAjPEGUHiR4CCILmaI6JBTKA3KEJwjzQ4KHIDKQbWIyx3EQRVGn1SkHbcz5kckR3u12Y39/Hw6HgwxRCcJAkOAhiBQk+2Clq9copQhPqbwOvZBa3QVBQDgcBsdx5AhPEAaCBA9BJCE5dwuCkLUwVQ/BI61H6ToeQjmkz01yBCgWi5EjPEHoBAkegogjVWFyJvSK8Ch93FKKVOlNuvOYqhBacoSXPm9kiEoQ6kGChyBQeLu5Xl1ahHHJNfKWTgCRISpBqAMJHqLsKcYHS4/IyMHBAaampmC329HU1ISmpibYbLainpMiPPpDhqgEoS4keIiyJdfC5Exo2aXFGMPy8jLW1tZw9uxZRKNReL1erK6uQhAENDQ0oKmpCY2NjUULIKNihg1eqdoqEkAEoSwkeIiyJJ/C5ExoFRmJRCIYGxuD3W7HyMgIBEEAYwzNzc0AAEEQsLe3B6/Xi5WVlbIRQOVEvo7w5AdGEImQ4CHKjnwLkzOhheDZ3d3F1NQUzpw5g7a2NgCHAicei8WC5ubmggWQGVJaRl+fhFbdc5kc4aX/T44AkQAiyhkSPETZoIYPlppCQRRFzM7OYm9vD1evXoXdbs/5sZkE0PLyMhhjaGhoQGNjIxobG1VZfzmjR2qpEENUEkBEOUGChygLiilMzoRagicQCMDpdKK1tRVDQ0NFrzedAPJ4PFheXpbbo7e3tykFViRGiUTlYojq9XrR1tZGhqhEWUCChyhplChMzoQabenr6+uYn5/H4OCgatGXZAHk9/sxOTmJ/f39hAhQU1MTGhoaSADlgVEHQqYSQHNzc2hsbCRHeKIsIMFDlCzZfLCUQMkurVgshsnJSYiiiJGREU1FhtVqRUVFBXp6egAkRoCWlpZIAOWJGURC8jToZENU6XYyRCVKBRI8REkiRXWUKEzOhFLPu7+/j7GxMXR3d6Ozs1OXTSU+UpUcAYrFYnINULIAamxshNVKlxIJo6S08iWbI7z0PUquASIBRJgFukoRJYUahclqwhjD0tISNjY2cOnSJdTU1OiyjmybltVqRUtLC1paWgCQAMqEUVNa+ZLOEZ4MUQmzUr5XJaLkUKswWS3C4TDGxsZQU1ODkZGRvMSZGsXS+TxfOgEUnwKTOsDKXQCVEqkMUUkAEWaBrkKE6ZEKk2dmZtDc3GyKNuudnR3cvXsXZ8+exbFjx/ReTtGbEgmge5RKhCcXsjnCA0hIgdE0aEJPSveqQ5QF8YXJkUjkyEA+oyGKImZmZnBwcIChoSFUVlbqvSQZJSNGuQogqQi61ARQuW7qmRzhJcgRntCL0rrKEGWFVKsj/aLmeV4zX6tC8Pv9cDqdaG9vx9WrV8vqQp9KAHm9Xng8HiwsLABAyQigcorwZIMc4QkjYd6rClG2pCtMNrI9gsvlwtLSEgYHB9HQ0KD3co6g9bmzWq1obW1Fa2srgKMCiOO4hDZ4SQCZYTM0i+DR47tChqiEnpDgIUxFJh8sI0Z4YrEYJiYmAAAjIyOmjlyoSS4CqLa2FpFIBLFYjM6jAhhBmJEAIrSErhqEKcil3dxogmdvbw/j4+M4deoUOjs79V5ORoy2iSQLoGg0iu3tbbjdbvzsZz8Dx3FyAbTRUmBGEBK5YMR1ZnKEn5qaQn9/PznCEwVjnKsEQaQh14nJRklpMcawsLCA7e1t3H///aiurtZ7STlhhHOXDpvNhubmZuzs7ODixYuIRqPY29uD2+2WI0DxXWDxnUNEaowoeJKJ/74HAgH5R43kCA8c/tAhR3giF0jwEIYlXx8sI0R4QqEQnE4n6uvrMTw8TBdflbDZbEciQKkEkFQDpKUAMoOQAMyzTolUaWxyhCfygQQPYUiSU1i5XJj1jvBsb29jenoa/f39cjeSWdD73BVLKgHk9Xqxu7uL+fl5TQWQWYSEWdaZiVwc4ckQlZAgwUMYjkyFyZngeT5h4JlWMMYwMTGBYDCI4eFhVFRUaL4GIhGbzYZjx47JQx31FEBGhTFWctGPVAIIAAkgAgAJHsJAFOuDpUeUwufzIRAIoLOzE+fOnTPthdPsEZ5spBNAOzs7mJubA8/zsg9YsQLILJETs6yzGLIZogKpa4BK/byUKyR4CEOghA+WljU8jDG4XC4sLy+jqqoKJ0+e1PQiaYR6JTOTSQDNz8+D5/mELrB8BZAZNkzpu2YGlBJn5Ahf3pDgIXQl38LkTGglAqLRKMbHx2G1WjEyMoKf/OQnmkdHlD5euV/Qs0WALBaLnAKrr6/PKIDMEikzU4RHFEVV0m/kCF9ekOAhdEO6sAiCoEgeXYu0jMfjwcTEBHp6enD8+HHNjktoS7IAikQi8Hq92N7exuzsbEYBZBYhYZZ1AtpGo8gRvnQhwUPoQqGFyZlQM8LDGMP8/Dx2dnZw5coVVFVVybeR4NEGPc9xRUUF2tra0NbWBiCzADLLZ8FMgkfPAmtyhC8dSPAQmlJsYXIm1BIeoVAIo6OjaGpqSjlbh+d5XTY5M21YSmGU15tJAG1tbcHtdmN/fx+NjY1ZU2B6YabPj1oprULIxRGe53lYLBZUVlaSADIQJHgIzVCiMDkTakR4Njc3MTs7i3PnzqG5uTnlfSjCQ8QLIJ7nUV9fDwDY2tqSI0DxXWBG2LzNJniMutZUAmh3dxdutxs9PT0AyA/MKJDgIVRHycLkTCgpPARBwN27dxEOh7PO1uE4jjqmCBnGGGw2G5qamo5EgIwkgMw0h8dMa5WubZK4IUNU40CCh1AVpQuTM6FUhOfg4ABjY2NwOBw5zdahCA8RT6rISboUmCSArFZrQhG0Fpu7kaMmyRgppZUL8evNZIgqQQJIG0jwEKqhRmFyJooVHowxrKyswOVy4fz586irq9PkuETpke2znkoAeTwebG5uYmZmRhMBZLaUlpkEjyAIaeu2UqXA0gkgcoRXFhI8hOKoWZiciWIiPJFIBOPj46isrMTIyEheRaZaCx6/34/R0VEIgoD6+no0NTWhqamJLC0MQiGfhYqKCrS3t6O9vR0AEA6H4fV6VRVAZhI8ZlorkJ9Ay0UAkSO8MpDgIRRFFEWsra2hoaEBNptN8+nDhWw2brcbk5OT6O3tlTccLY5bCGtra1hcXER/fz/sdjt8Ph88Hg9cLhcEQUBDQ4NcG2Kz2TRZE3GUYj/3lZWVKQXQxsYGpqen5RohqQuskA3QTCLCbBEeURRhtRa2vZIjvHqQ4CEUIb4weXV1FdXV1ZpHHPItHhZFEXNzc/B4PLh69SrsdnvBx1Vb8MRiMUxOTkIURYyMjMh/k+wP7rvvPgiCgL29PXg8HiwvL4MxliCACr0AE/mhxmchVwHU1NSEurq6nDZAswkes6wVOExpKXX9I0d45aArIFE00pdPuihZLBZdupbySWkFg0GMjo6itbUVw8PDRV0c1O7SOjg4gNPpxMmTJ+FwOMBxHARBOHI/i8WC5uZmuX0+FovJAmhxcZEcwjVCCyGRSgB5PB6sr6/j7t27OQkgMwkeM3VpAepGpHJxhOc4Tk6BWa1WEkA/hwQPURRSVCe+MFkvY8tcIy0bGxuYm5vDwMAAmpqaNDtuvjDGsLq6ipWVFVy4cCHnImoJq9WKlpYWtLS0AMjsD9XQ0KD4+ssZrTeXyspKHD9+XLY7SRZAFRUV8nstCSAziQgzprS0+kFBjvC5Q4KHKIhMhcl6CZ5sx43FYpiamkIsFsPIyIhiNS5qCJ5YLIaxsTFYrVY88MADilw80/lDbW1tYWZmBsFgEIuLi3mlRYijGKFjLxcBZLFYYLfbTSEmzLDGePRcbzpD1HgB9Nu//dv4zne+o8v69IQED5E32SYm6zWIL5Pw2N/fx9jYWEJaSIvjFsLe3h7Gx8dx6tQpdHZ2Kva8ySS3Rr/99tuw2+1YW1vDwcEBKisr5bRIbW1tWf4iLAQjpoqSBVAoFMLCwgL29/dx+/btlBEgI2HEc5oJowm0eD8wv9+PjY0NnVekDyR4iJyJL0zO1G6uZ0orGcYYlpeXsba2hosXL6K2tlaV4yoheBhjWFpawvr6Oi5duoSamhoFVpc7PM8nbIrBYBBerxcrKys4ODhAVVWVLIBqamo034CMEDkpFex2O+rq6tDQ0IDOzk6EQiF4vV5Z7FZUVMjF7kYQQEYTENkQBMGw6/X7/aiurtZ7GbpAgofIieTC5EybnV6CJ5lIJAKn04nq6mo88MADqhYRFrsZRyIRjI2NwW63q7rWfKiqqkJVVRU6OjrAGEMwGJQLoP1+P2pqamQBVFVVpYkAMsOvfLNEI+LXabfbj0SA4gVQZWWlHAGqra3V/POpZU2MEhh5vYFAgAQPQaRDqtXJdWKyEQTP7u4upqamcObMGTlloxbFzuHxeDyYmJgoeA6QFnAch+rqalRXV8PhcIAxBr/fD6/Xi7m5OQQCAdTW1iYIIMLYZBJmqQSQNO9JDwFktgiPkdcbCAQ0jx4bBRI8RFoKnZisp+BhjOHu3bvY398varZOPhRas8QYw8LCAra3t3HlyhVTiQSO41BbW4va2lp0dXWBMSYPQZyenkY4HEZdXZ0sgCorK/VesmaYMcKTDbvdjo6ODnR0dAC4l+7USgCZqaMMMLbgCQaDprrWKAkJHiIlxfhg6TWHJxAIIBAIwGazYWhoSLNNp5CUVjgchtPpRF1dHYaHhw17ccwVjuNQV1eHuro6nDx5EqIo4uDgQI5eRaNRNDQ0yJtiqdtglJrgSSY+3QncE0Crq6vw+XxywXtjY6MiAsjIAiIVRl6vlI4uR0jwEAko4YPF83zKwXhqIlku2O12nD59WtNj5yt4pHTb2bNn5RbxUoPneTQ0NKChoQGnTp2CKIrY398vCxsMsxRXKxk1yUcA1dXV5S20zBI1kzCy4KGUFkEgv8LkTPA8j2g0qvDqUhOLxTAxMQEAGBkZwa1btzQ5bjy5Ch7JysLr9WqWbjMKPM9ntcGQbje7DYZZNmc17RpyFUC5jjwwsoBIhZE/AyR4iLImvt0cODq6PF+0quGR5tV0d3fD4XCofrx05CJ4QqEQRkdH0dzcrEi6TWuHdqUpdRsMo2528Wi5KacSQB6PBysrK/D5fLDb7Qk1QMnrMpvgMTLUpUWULYwxRKNRCIKgmN+K2oKHMYbFxUVsbm6mnFej9a+rbK9XmmR87tw5eYNXAjNsqrmSiw1GTU2NHIE08uZnFiGqZxRCEkCdnZ1gjMldYPEzn+IFkNnMQ428VhI8RFlSTGFyJtSctBxf7DsyMnJk45MiH1pecNK9XlEUMT09Db/fj+Hh4ZIv1FWSVDYYm5ubcLvduH37dkHu4Fph5HRGPEZZJ8dxWQVQLBaTvz9mmPptZNEbCARUH9VhVEjwlCFKFCZnQq0Iz/b2Nqanp9HX14fW1taU99Ej1ZPqmIFAAKOjo2hvb0dfX5/hL9BGp6KiAi0tLdjb28P58+dlbyiywSgcowieZFIJoDt37sBqtWJ5eRk+n0+e+i11gRnxdRgVaksnyoZsPlhKUOwgvmQSIiVn2lA1/ufgtsbBiVGIbYMQz/8LsGPn5GNrPeU0WfBIbuyDg4NobGzUbB3lRLI3lJFsMIwqJJIxyzqlH2XHjx+H3W6Xp357vV5DCiCjn1e/36+KxY4ZIMFTJihdmJwJJSM8fr8fTqcTx9vbMLD9d7D+X18BGANrPQvwFlhu/SOsP/5TCPf/K8Q+8p91jfAIgoCpqSlEIhFF3diJQzK9r0azwTDyhidhpmF+8XVb8VO/pQhQOgGkh+A1eo1ZMBikGh6idFGjMDkTSggexhhcLheWl5cx2H8GLf/weVimvwth4FcRe/h3gbrDX/YI7MLy4z+F5e2vwbZ6C5UD/0nzoYccxyEcDuPWrVtwOBw4ceKEKTY8M5LLedXbBsPI9RvxmKkQOJOISCeAPB4PlpaW4PP5UF1dLRdBqy2AjC54qC2dKFnUKkzORLGCJxqNYmJiAjzPY2RkBPbv/VtYpr+L2Ee+BGH4E0D8a6hugfDw70I8/TBs3/5fcf72v0P43KuAvVOBV5IbHo8HGxsbGBoaQn19vWbHJXJDaxsMo6c0JMyyTiA/cZZK8GopgARBMPQYBRI8RMmhdmFyJooRPF6vF+Pj4zh9+jQ6OjrA33kRltEXEXvocxBGPpn2cezUBxD9jZdQ+a1fhfW7NyA++f8CvLofb2noYSgUQkdHB4kdk0A2GIeYSfAUk37LJICklGd1dbVcA1SsAKIIj3EhwVOCiKKI9fV11NXVoaKiQvOLWiGChzGG+fl57Ozs4PLly4c5Zvc8rN9/GuKp90N4/+ezP0fXA1i88BmcHv0jxN74zxAe+b1CX0JWDg4O4HQ6cfLkSdjtduzs7Kh2LC0x0yaoFErbYJjlHJplnYCya00lgAKBALxeryICiASPcSHBU0LEFya7XC6cPn1aF5fqfAVPKBSC0+lEQ0NDgpGm9Ud/DIBD9Jf/DOBzCxG7T/4iOtgGqt75rxAH/wVYx6VCXkJaGGNYWVmBy+XCxYsXUVtbC7fbrUvdhlk2K7NRLjYYZhI8asJxHGpqalBTU6OIADK64AkGgyR4CHOT7IOll2M5kJ/gkaYQ9/f3y1N2AYDbnQU//u3DNFZte17HPhj+DOwzfwfLW3+A2G/833mvPx3RaBTj4+OwWq0YGRmR8/Rmt3mQ0GNooxnI1wYDMIcYpfc6NekEUHLXn/SeV1dXJ5xHQRAMLXii0WjJpmmzQYKnBJCiOvGFyVr5WaUil2MLgoC7d+8iFAqlnEJs+dEfA1Y7hAdu5HVsjuMgVtRCePAGrD98FsLq22BdD+T9GpLZ29vD2NiYXFuUfMxSEDxEbmSzwQgEAlhYWEBjYyMaGhoMu/mR4MmNeAEkFb1LAmhhYeGIADJ60XI5Q4LHxGQqTNYzwpPtIurz+eB0OtHZ2Ylz584duT+3Mw1+/DsQHrwB1BzL69iS2BKu/jYs7/xXWN/6Q0Sf/E7er0GCMYalpSVsbGzcqy1KolQET6m8Dq1JtsF4++23UVNTI0cvjWqDYaY5PEYimwDa39+HxWKRp38nR4D0pNy/3yR4TEq2ick8z0MQBJ1WlxrGGFZXV7GysoILFy6grq4u5f0s/+OPAVtV3tEdIM7XqqIGwns+A+vrXwS3+BbYqQ/k/VyRSAROpxPV1dUpfbsklJ4sTZgbnufR1tYm+xUZ1QbDTHN4jEyyANrY2MDBwQEAYH5+Xi4SlmqAjCCA9D6+XpDgMRnJE5PTbcJ6RnhSEY1GMTY2hoqKCjzwwANpQ77c9hT4yb+F8J7/A6huSXmfTMSLD+Hyv4bl1p/B+uaXEe1+f+L8nixILcpnzpzJarRHkREiE6lsMJKdwfWYCkwpLXUQRRF2ux1dXV1yBEgafKm3ACr395wEj4lILkzO9ME1UoRHEg89PT3yRT8dlh/98WF0ZuRTBR0roX7IWonYez8H29//DvjZ1yCe+YWsj49vj79y5UpOU3jVdIdPh8/nw8bGhqJpEhJu2pBsjKmnDYYZNj+zbdLJXn6pBl/qJYDC4bAunbtGgQSPSZBqdXKdmKxn0bKEKIqYn5+H2+3OTTy452GZfBmxhz4DVDcXdMzkTVu88ATYP/8pLP/4BxB7HwG49MIgHA5jdHT0SHt8vsdUk/i0YGdn55E0SXNzs+beQUTh6G2DYQbMKHgyjSpIJ4A8Ho8sgGpra+UiaCVFbyAQKMvPkAQJHoNT6MRki8Uip730QBRF3L59G83NzRgaGspp3ZY7/x2Ms0C48lTBxz0i9Cw2xN7/edj+vxvg774Ksf+XUz5uZ2cHd+/eRV9fH1pbW/M6plaCR5rszHEcRkZGIAgCOjsPLTSUiBIYPcJj5LUphdY2GGbA6HNtksl3vfHv+YkTJxIEULzoVUIASdeGcoUEj4HJVpicCT0jPBsbGwgEAhgYGJBnl2RFjMHi/CuIPY/cMwYtgFSbtjjwqxD/6auwvPWHEM9eSxhiKIoiZmdnsbe3h6GhoYI2EC2EgjTZubu7W44ExKcsk9Mk0gVzdnYWoVCoZDZJM/3SVwKywTBfcXWxAi2TAJqdnUUwGCxYAJWzUzpAgseQKOGDpUfRsiAImJqaQiQSkb+QucIvvAnOvwXx4hNFrSGl0OMtED7w72D7m98GP/5tiBd+HcDhl390dBStra0YGhoq+KKqdpeWy+XC0tJSxs62eJIvmMmbZCwWS2mVYKZNpVxR2gbDDJitfV7pwYOpBJDP54PX600QQNJ7nkkAUYSHMBT5FCZnQuuiZSkCceLECXR1deHWrVt5/dLhx/8azN54GOEpgnQFxGLf/wSx/QKs/+OPEBn4FWztejAzM4Nz587lHoXKcEw1BI8gCJiYmABjDCMjIwVbGCRvkqmsEpqamhCNRhGLxUpikywXysEGw4wpLTUHD8ZH/fIVQLnU8Ny8eROf/vSnIQgCPv7xj+Ppp59OuP2FF17A888/D4vFgtraWnz961/HwMAAFhcXce7cOfT19QEAHnzwQbzwwgvqnIQCMd+nv0RJbjcvRuwA2kV4GGNYXl7G2tqa7C0F5JlSi4XAz3wPYv91wFpcuoXn+dS1SxwP4X2/A9u3fxNrP/wLrDcOpZzwXAhqdGlJwxml1lYloy+prBI8Hg82NzfhdDphtVrlAmgjDcojspOPDYZZaqLKLaWVL7kIoNu3b0MQBLkLLB2CIODGjRt47bXX0NXVheHhYVy/fh0DAwPyfZ588kl88pOfBAC88sor+NznPoebN28CAHp6evCzn/1M3RdcBCR4DEByCkuJL7cWEZ5IJIKxsTHY7fYEbynp+LmKAH7hh+AiPgj914teU6b0kq/z/aiqbEXb8t+h4+F/o6j7spKbx9raGhYXF3NOYRWL1WrFsWPHsLa2hv7+fnAcB7fbTR1gJUAmG4xAIICf/vSnciTAqDYYZktp6R2RSiWAKioq8Oqrr+Jv//ZvsbKygq2tLXzoQx/Chz70Idx3333yd/rWrVvo7e3F6dOnAQBPPPEEXn755QTBU19fL//b7/eb6npAgkdnRFFEJBLJud08V9QuWt7d3cXU1FTawXx5CZ7JV8DsjWCn3l/0utJFW9bX1zE/P4+RS/8Stbe+irBnAWg+XfTxpGMqIXgEQcDk5CRisVhRKaxiqaioSKt2E8cAACAASURBVDkoT485MYSyxNtg7O3t4fz58/B6vdja2sLs7Kwc3TOSDYbeAiJfjLZejuNw+fJlXL58GadPn4bH48Fjjz2GH/7wh/jsZz+LlZUV/PjHP0ZFRQVcLhdOnDghP7arqwtvv/32ked8/vnn8ZWvfAWRSARvvPGG/PeFhQVcvnwZ9fX1ePbZZ/H+9xd/TVcSEjw6oURhcibUSmnFdzVdvXoVdrs95f1yFjyxMPjZ70Hs+yXAUnztSHKERyqkjkajGBkZgS3cC/bOc7Dc+RaEDz9T9PEAZQSP3+/H6OgoHA4HTpw4oYuISPc6yqUDrBypqKgwvA2G0QRENoxsHhoIBFBXVycLoM9+9rMFnd8bN27gxo0bePHFF/Hss8/im9/8Jjo6OrC8vIyWlhb85Cc/weOPP47x8fGEiJDekODRgWLazXNFjZRWIBCA0+nMqaspV8HDL74FLnwAsS/1fJx8iY/wSHUwCSLC1g6x91FYnP8PhA/+B4Av/itQ7Pu3sbGB+fl5DA4OoqGhoej1qEmhHWCEOTCiDYYZBw8aVaAFAgE0NTUl/C1+rQ6HAysrK/L/r66uwuFwpH2+J554Ap/61OFU/MrKSvkHz9WrV9HT04Pp6WkMDQ0p+RKKggSPhihdmJwJpVNaUkpocHAwp3bznAXPzE2wilqICqSzpOMKgoDV1VUsLy+nrIMRLz4By8xN8PM/PJy+rBOiKGJqagrhcBjDw8O6i4NCIlW5doA1NTWhoaHBsL98y41c32cj2GAYWUCkwsjrDQaDGdvSh4eHMTMzg4WFBTgcDrz00kt48cUXE+4zMzODM2fOAABeffVV+d/b29tobm6GxWLB/Pw8ZmZm5Fogo0CCRyMYY4hGoxAEQVWhI2GxWBSJ8MRiMUxOTkIUxcOUUI6bck6Ch4ngZ78P8fSHi+7OkhBFETs7OxnrYMSeR8CqWsA7X9JN8AQCAYyOjuL48eM4d+6cqX7BZiJdB9jOzg7m5uYMWSNSruT7mctmgyFtpkrbYJitS8vIEalAIJCxS8tqteK5557DY489BkEQ8NRTT2FwcBDPPPMMhoaGcP36dTz33HN4/fXXYbPZ0NTUhG9+85sAgLfeegvPPPMMbDYbeJ7HCy+8UPTID6UhwaMBahUmZ0KJCM/+/j7GxsbQ3d2Nzs5OxSc9c5tj4HybEHseLWqdEvv7+5icnERlZSUuXryY/o6WCgiDH4Pl3f8GBD1AVVP6+6rA5uYmZmdnc46WaYUan0upA+zYsWMAUteINDc3a+4UXu4oISK0ssEwW5eW0QVPtsGD165dw7Vr1xL+9qUvfUn+91e/+tWUj/vYxz6Gj33sY8UvUkVI8KiI2oXJmSjmC8cYw9LSEjY2NnDp0qWCJnPmInj4udcBAGLPRwpapwRjDCsrK3C5XDh79iy2trayPka8+Buw3v46+Im/gXi1cO+ufBBFEXfv3kUwGFRsBpDSqD2bJV2NSHKKpLm5+UiEwCxzY8yAGptyrjYYUn1Xrp9/I6eIzEa2CE+pQ4JHJbQoTFaDcDiMsbEx1NTUYGRkpOALTW6C5wcQj98P1Bwr6BjA4VyRsbExVFZWYmRkBMFgMKfIFms7D7G1H5bxb2sieCQbi7a2NnnWDZG+A2xmZuZIBxhA9hdKoUUUIpMNxurqas42GGYTPEb+jOYS4SllSPAojFSYPD8/j/r6ejQ2Nhr6CxCP5Bh+9uxZOQVRKFkFT2gP3NpPILznMwUfw+v1Ynx8HD09PXLEIGdfK46DOPgxWN/8fcC7DDSeLHgd2dja2sLMzAwGBgaOdEgYCb3d0rN1gIXDYQCHxZFNTU2GtEkwSxRKj7RLrjYYUoG79P4aOUWUCiN/BiTn9XLFeFcMExNfmByJRBCNRk3xRRVFETMzMzg4OCjYMTyZbHYL/NI/gmMixNMfyvu5GWNYXFzE5uYmLl++nBCizcfmQRj4FVjf/H1YJr4D4aHChVc6pPPq8/kMm8IyMskRgr29PSwsLGB/fx/Ly8sAkLBBUgdY7hhBRGSywVhYWJBtMGKxWFlv0kpCbumEIiQXJivVJaU2fr8fTqcT7e3tuHr1qmaTnvmFH4JV1IJ1Xs3reSORCJxOZ9qUW17O5Y0nITqGwU/8jeKCJxQKYXR0FC0tLbhy5Yrum0su6B3hyQbP86isrERPTw+ARJsEo3SAGUFI5IIR15nOBmN5eRm7u7vY3Nw0vA2G0dNvfr+/rMUjCZ4iSVeYbBTBk+nC5nK5sLS0pMrAO57nEYvF0t7OLf4jxJPvzWu6stvtxuTkZFo7CyB/I09h4Fdge+0/gNu5C9bal/PjMrG9vY3p6WlFnNiJ9MTbJADG6QAzmpBIhRk6n6T31+fzoaamBo2NjWSDUSSRSKSsI80keIogU2GyVm7lmZCiLMmh/lgshomJCQBQzbMpY6Rl3wXes4DYldyKhRljmJubg9vtzmhnIR03n/Mu9v8y2GtfBD/5MoT3fyHnx6Vb5+zsLLxer2KpQSJ3UnWAud3unDrAlMLIEbJ4zDTbRhJnZIOhDEZfn5qQ4CmA5InJqT5AFotFvl0vJNEVL3j29vYwPj6OU6dOobOzU7VjZxIe/PI/AQDE7oeyPk8oFILT6URjYyOGhoayflnzTsvUtoOdfA/4qb8rSvCIoojbt2+jqakpq+2GUTF6Sitfqqqq4HA4EobkKT0jJhkjpopSYZZ1AulFhBFtMARBMKygKKXvdqGQ4MkTxhgikUjWdnMjpLQkmwWbzQbGGBYWFrC1tYX7779f9cK1zILnn8HsDWDHBjI+h5Qa6u/vl/P6xRw3HeLZa7C+/h/BuefBCnBQ393dRSAQQH9/P1pbW/N+PKE++XiAGbUDTEnMJHhyXatRbDCMXDxvphEpalDa32qFkaI6uUxMVsO8M1+kzV+KktTX1xc1W6eQY6eCW/4RxBPvAfjUF4ZiusYK+TILZz8K6+v/Efz0qxAe/N9zfpyUavN4PKipqdG8XkeNwXHl8iswmwcYUFgHmFmEhFnWCRSWJkpng+HxeDA3Nye3Z6thg2HUCA9AUR4SPDlQyMRkI0R4LBYLtre3sbq6ir6+Pk2jD2kFz8H6z+t3fjPl46QBfceOHVO0aywjDScgHr8I/u53cxY84XAYo6OjaGxsxNWrV/HOO++U/cXEzCS3SBfTAWYGIVHqgieZ5AifWjYYRhY80WhUd4NivSHBk4VCJybrLXikqaZ62RikEzxy/c7J9x65TfKY0mNAn3j2Gqxv/QFwsAHUHc94X6lbLH5AYylER8yyAWpBoR1gZvkMmE3wkA1G8fj9/rKewQOQ4ElLfGFyIT5Yegoen88Hp9MJm82GM2fO6NKGmEnwsMp6sLZB+W+iKGJqagqhUEi3AX3i2WvAW38AfubvIV75rZT3YYxhfn4eu7u7R7rF8m2HNypm2bC1JtcOML26g/LFTIJHixZ6pWwwjFy0XO4+WgAJnpTkWpicCT3a0hljcLlcWF5exvnz57G+vq7bJpxO8HDL/wTxxINy/Y40+PD48eM4d+6cbhdh1toHsek0LHe/m1LwSAMPa2trU3aLUYRHfYx0ftN1gM3Pz2N/fx+Tk5OKd4ApiRnm8EjoETUp1AbDyEXL5e6jBZDgSUksFiva9FPrCE80GsX4+DisVqs8W2dzc9NYgse3Cd49h9ilfwkAWFtbw+LioiqDD/OG4yD2XYPl1gtA0AtUNco3SWHubAMPtd6Q1fiVbiRRkQojirL4+pBjx47h7t276OzsNHQHmNnm8Oi91lxtMBhjhnh/U0ERHhI8KeF5vuhfFFoKHunCGm+iKa3BSIKHX70FAIg5RjA+NgZBEFQbfFgI4tlrsP74OfBzr0E8/2uyZ9fW1hauXLmSsZOjFCI8RPFIkRM1OsCUXqfeIiJXjFgXk84GY3V1FYFAAG63Wxa49fX1hlg/CR4SPClR4kKgRU2HVFOys7OTckPWszU+leDhVm+BWSrx9nIIjpMd6OrqMtRFl3VeAattBz/9XYT7HofT6URVVRWGh4eVH3hYJKIoYn19HbW1tairq1PsM0uiTXmU7ABTChI8yiIVuYfDYfA8j9bWVni9XmxubmJmZsYQNhhUtEyCRzXUvphI5pRNTU1pN2QjRXgYY4jN/wi+2h4MXryMuro6XdaVEY6HeOaj4J1/hdv//I843TeI9vb23B6qoVgIBoO4c+cO6uvr4fV6cXBwgOrqarlrSK2hakR2chES2TrA7Ha76hOCzSZ4zLJWQRBgtVoNaYMRDAaphkfvBRD5I7VvZzOn5HleN3uLeMETi8UwMfourrqnwA//GzANxE4hF3TGGNYaruJE7L9hqPkAthzFDpCnS3sR7Ozs4O7duxgYGEBNTY18zEAgAI/Hg9nZWYRCIdTV1ckCKNeuN4rw6EN8BxhjDKFQ6EgHWLyYVQIzCR4zrTVd0XI2G4zq6mo5zamWyJU+S+UMCR4TIQgC7t69i3A4nFP7tsViQTgc1mh1iUibp+Td1VftBc9i4E6MQO0tNZ1paiai0SjGxsZQWXcOXZUNqFr8AWLn/+ecH6+2WIif6ixNn45EIvKxa2pqUFNTg66uLnmmiNvthsvlgiAIaGxsRHNzMxobGw3bRVIKFLs5cxyniQeYmUQEYMxi9VTkmn7TwwYjGAxSSkvvBRgRI365Dg4OMDY2BofDkXP7tt72FpFIBBMTE7h06RLqx74JABAdQ6ofN1/xIYmy06dP4/jx4xDnHwU/+31AjAF8bl8RNWu2IpEIRkdHUV9fn5MxaXzRrNRS6/V64Xa7MT8/D4vFIruGx9cTGPFzb0aUPI9qeYCZqS3dTBjZBsPv9+ecoi9VSPCoiLTxFnMBZIxhZWUFLpcL58+fz6v2pRAjTSWQoiWiKOKBBx4Az/PgXLfBGk8CNanbupUk19cdf24vXbokh3vFvmuwjP81uJUfg3W/L6djqhXh8Xq9GB8fz9gSnw2LxZLQURKJROB2uxNqRpqbm+WJ4kThqJ0SzNQBtrS0BADyxpipA8wMhcBmRBCEoiOoatlgUISHBI+qSBGWQtuuI5EIxsfHUVlZiZGRkby/SHoULUu/PHt7exEMBuWLKr/2k0PDUA3IRfDEYjGMjY3BZrMdObfifR8Gs9rBT9+EoJPgkcTY2toaLl++rOiFqqKiIqFmRJoaLEWBtra25JoRIw7NMzJap4oK7QAzW0rLLKghJJWywaDBgyR4VEWaxVOI4JH8mnp7ewsOQ2qZ0mKMYWFhAdvb2/IGPTc3d3jjwTq4g3WwzquarCWb+Dg4OIDT6cSpU6fQ2dl59A4VNRC73wfL7PchPPJ7QA4bg5KCJxaLyUMkh4eHVa25iQ+nRyIR1NXVobKyEm63W06ZSMWUjY2Nus9Mok06M7l2gIVCIdTW1uq82tJDi8hZoTYY2SI8N2/exKc//WkIgoCPf/zjePrppxNuf+GFF/D888/DYrGgtrYWX//61zEwMAAA+PKXv4xvfOMbsFgs+JM/+RM89thj6p2AIiDBkwKlLqqFDB8URVEuTk32ayrk+FpEeMLhMJxOJ+rq6lK2yPNrPwEAiJ1XVF8LkD7CwxjD6uoqVldXcfHixYwXfLHnEVjmXgfnngNr6c3pmEoIHp/Ph9HRUXR3d8PhcBT9fPnCcRzq6+tRX1+fkDKRuoZ4nk9Z/0McYrTISboOMI/Hg62tLezu7ireAVbOGNEG43d/93dx8uRJ+P3+tM8hCAJu3LiB1157DV1dXRgeHsb169dlQQMATz75JD75yU8CAF555RV87nOfw82bNzExMYGXXnoJ4+PjWFtbwyOPPILp6WlDNkeQ4EmDEr/Y8xU8wWAQo6OjaG1txfDwcNEXTi0iPLu7u5iamkpwDk+GW3sXjLeBtQ+mvF1pUr13sVgMExMT4Dgup/Sg2Pso8P2nwc+9BiEHwaNE0fL6+joWFhZw4cIFXeYUpTpvySmTSCQCj8eD9fV13L17V44YNDc3o7q6WtXN3iwt80YSPPHEd4BFo1FUVVWhpqYmZW1Ic3OzLia+yZjlPZcwgnlo8nf2L//yL/HGG2/ga1/7Gj772c+ivr4eH/zgB/Hwww/joYceQlVVFW7duoXe3l6cPn0aAPDEE0/g5ZdfThA89fX18r/9fr/8OX/55ZfxxBNPoLKyEvfddx96e3tx69YtvOc92pQw5AMJHhXJJ8KysbGBubk5DAwMoKmpSZHjq1m0zBjD7OwsvF5vxkgUYwz8+rtg7ecBa+HRqnxIft1SCiuvqEnDCYit/eBnX4cw8qmsdy9GIIuiiLt378pu8emcmI1ARUUF2tvb5TSrVP+zsLAAv9+fsGGWY/2PWTZoqUsrVQeY2+3G+Pi4ITzAjBYxy4YRzUObmprwsY99DN/+9rfx1a9+FU1NTXjzzTfxyiuv4B/+4R/w7LPPwuVy4cSJE/Jjurq68Pbbbx95rueffx5f+cpXEIlE8MYbbwAAXC4XHnzwwYTHulwu9V9YAZDgURGLxYJYLJbxPrFYDFNTU4jFYhgZGVF0s1MrpSVNeW5ubs7YJs3zPMRYFNz6uxDP/4bi60hHvPhwuVxYWloqKGoi9j4Ky62vAeEDoDLzYwsVPKFQCHfu3EFbWxv6+/tNdXEHjrqG+3y+hPqfhoYGef6P3vU/WmCWDTrVOuNrQwAc6QCTDDK19AAzW/u8kbvfpKLlpqYmPP7443j88cfzfo4bN27gxo0bePHFF/Hss8/im9/8pgorVY/SvwLpSDbBsb+/j7GxMZw8eRIOh0PxC6UaKa3t7W1MT0+jv79fbnPOdHy2MwMu4ofYcb+i68h23Gg0CqfTCcZYwQalYu+jsP74T8Ev/BBi/y9nvG8hgid+arJSUb1iKDaNG99N0t3dnbBhLi4uguM4OfpjFENFNTCD4MllYzaCB5iRBUQ6jPr+Z+rScjgcWFlZkf9/dXU1YzT8iSeewKc+9amCHqsnJHjSoEQNTzrBwRjD0tIS1tfXsxbPFnt8pSI8oihienoafr8/pynP0vH5jZ8BAFjnZUXWkQuxWAyTk5M4depUUQalzDEEZm8EP/uaooIn1dTkUiTVhunxeLC5uYnp6WnZT6i5uVm1cfpaY6aUVr7nWw8PMDMKHqMSCoXSFqYPDw9jZmYGCwsLcDgceOmll/Diiy8m3GdmZgZnzpwBALz66qvyv69fv44nn3wSn/vc57C2toaZmRmMjIyo+2IKhASPiqQqWo5EInA6naiurpaH8qmFUhtIIBCA0+lEW1sb+vr6cn7eQ8FzB8xWDdacvfBXCdbW1rCzs4Pe3t6EnHRB8FaI930Y/NzrABMBLv17lavgkd7/uro6XL16taj3X+nZP2rbY9hstgRDxeRx+tI02ebm5qK6E/XEzCmtfEnuAEtlj1BsB5hZzqcZyJQetFqteO655/DYY49BEAQ89dRTGBwcxDPPPIOhoSFcv34dzz33HF5//XXYbDY0NTXJ6azBwUH8+q//OgYGBmC1WuXWdSNCgkdFkgWP1NFUzNRcrZGKqQcHB9HY2JjXY3meh2XjDtjxSwCv7hdAEARMTU0hGo3C4XAo1mIr9j4Cy+TfgFu/kzFKlUtb+t7eHsbGxkz1/qtJsp+QNE12amoKkUgkof7HyIXcZkRpIZHOHsHtdhfVAUYRHmXI5YfMtWvXcO3atYS/felLX5L//dWvfjXtY7/4xS/ii1/8YuEL1AgSPCoimXeKooiZmRns7+8XPVtHK+KNSgstpubBYNmegHD1t1RY4T38fj9GR0fhcDhw4sQJzM3NKZfKO/0wGMeDn/0+hAyCJ1N0JN7CQumpyUqip1t6qmmy0vyf5eVlAIcCKRaLGXoTNEtEQu11xtsjxE8HdrvdGBsbSxiOl6kDTBRFU5xPs1Du55IETxqU+GBYLBaEQiG88847OHbsWE7Gj0YgXkDkalSaiprAMjghfBjhUYmNjQ3Mz89jcHBQ7i5RagggAKC6BazzKvi51yF84N+lvVu6OTzS/B+e5wuyBylXpAGHUjF3NBrF2toaNjY2cPv2bVRUVMjpktraWlN8r4yE1sIslaFtLh1gZurSMkv9VjlDgkdFvF4v1tfXceXKlbzTQXqxtraGxcVFnD9/PmHQVCHU7M0CgCqCRxRFTE1NIRwOH5ldo7Rzudj7KKxv/hfAtwnUprb5SHVMn88Hp9OJEydOoKurS7H1qIWeEZ5s2Gw2NDY2IhQKoa+vD6FQSJ4k6/P5FKkXUQKK8ORGrh1gFRUVpjifgLGjUUqYmpYCJHhUQPpVHw6H0d7errvYyeXiJnU2iaJYcBt3MjX70xBtNWDNp4t+rngCgQBGR0dx/PjxlBEopQcuij2PAG/+F/BzP4B46cmU90kWC1LkSQnhSBzFbrejo6MDHR0dKetF4tMlWtb/6C0kcsVokZN0HWAbGxs4ODhAJBJRvANMaYw4dFAiEAgYNpWuJSR40lDoF2pvbw/j4+Po7u5GbW1twnwCPZA2/0xfRGkSsdLzgKq904i2nMvY3ZQvm5ubmJ2dzVhErbhzedsgWF0n+NnvZxU8ZpqanIwRN5FkUq0xVb3I/v4+3G43VlZWwBiTN0utBuYZHSNHI4B7HWAVFRXY3d2Fw+FI2dGnd0QvHiPXlvn9fhI8IMGjGIwxLC4uYnNzE5cuXUJNTQ18Pp9mbuXpkDrFUl3k8zHTzBtRgH1vFr7+X4MSU2akOUCBQCDrHCDFBy5yHMTeR8CPfxuIhQHr0VfE8zwikQjeeecd005NBkqjDiHeTBE4jF4mp0uk9FddXZ2i75OZIjxmWKf0Y02NDjA11mpUwZPNKb1cIMGjAPFu4SMjI/KHvhC3dKVJl96JRqMYHx+H1WpVpZiWc8+CF8IIN/UXLXgkU9Vc5wDxPJ/V0iNfxJ5HYXn3L8Gt/Bjsvg8eud3n88HlcuH++++X6xIIZSlUjFmtVrS2tqK1tRXA4ffV7XZjdXUVBwcH8rj95uZmw0QL1MZMgid5nbl2gGltaWJkwUMRnkNI8BSJZLXQ19cnX1AljCB4UtlbSGm3++67Dx0dHaocl9twAgBCTWdRTAXL1tYWZmZm8rJfULpoGQDE7veBWSoPu7XiBA9jDPPz89jc3ERHR4epxY6Ri5aVpLKyMqH+JxAIwO12Y2ZmBqFQCPX19XK6JN9ogVmEhFnWmYuIyNQBJlmaaOEBZgSn9HRQDc8hJHjSkO1iEG+1kM4ewAiCJz69I1labGxsyGk3teA2nRAtlQjXdRf0eGl2kc/ny9nKQkLRtnSJihqw7vcezuN55PcA3JuaXFtbizNnzsDr9Sp7TEJ1OI5DTU0NampqjjiGu1wuiKIob5aNjY1ZN0uzCAkzrTNfEaGXB5jRi5bVvN6bBRI8BeD3++F0OnH8+PGMKRalu4UKQVpDJBLB2NgYqqqqEtJuqh1304lIYy9E5H8cyY29paUFV65cyfvCrEaEBwCEnkdhe+3fg3PPw2tpwdjYGHp7e9He3o6dnR3TR0fUOm9mIjlaINX/uN1uzM/Py5tlc3Oz4vU/WmIWwaNEmkgrDzBKaRkfEjx5wBiDy+XC8vJywqC7dBjhgmKxWOD1erW1NGAM3KYTkZOP5L2BSg7i586dKzg9pJbQFHs+ArwGeG//NSbq3p8wNVmPdJARPl+lTqr6H4/HI9f/VFdXJ9T/mEVImGmdSouIbB5ghXaAGVnwBINBivCABE9aki8G0Wg0YWKuVoVwxcAYw/7+PnZ3d3H16lXtCjL3VsCF9hBtOZez8GCMYXZ2Fl6vt2gHcbXEh1B/AsGaE6hcfhMjv/U7CeFrVdJoWTDDhlVqJG+WgUAAHo8Hs7OzCIVCsFgsqKqqQiQS0a1bKBeMvDnHI4qiqtfaXD3ApK6+TO+pkc8ppbQOMf6ubQC8Xi/Gx8dx+vRp1Yp8lUbqHAOAM2fOaNp9wm8eHjfWOpCT4AmHwxgdHUVTU5Mi9htqRHgku437T34ADdN/jYgQAiz3LiB6RHiUPl65FC0rRXz9T1dXF0RRxMLCAnw+n9wt1NjYKHcLGbW+w8hoLSIydYC5XK6MHWBGnmYcCAR0H4BrBEjwZEDqwNnZ2TG06WMyUlqor68P+/v7mtdlcJtjYByPWMtZiPvBjPeVHOT7+/vR0tKizPEV3rjjpyZXH38c3OR/B7/0I4hnfiHhmOVe/1Lu8DwPu90Ou90Oh8MBQRAS6n8sFktC/Y/e0QAzRAj1HpCYTwdYLBbT/T1NRyAQMIW9jdqQ4ElDLBbD7du30dDQgOHh4aI+yFrly0VRxOzsLPb29uS0kM/n017wbI2DNfeCq6iBKPpT3ocxhrm5ObjdbsUd5JWK8CQPO7TZbGDVD4LZqsHPvX5E8GgZHZHea0EQ0NLSoki7LUV4lMVisaClpUUW8pFI5EixrJQqqa6uNoUA0RqjWWBk6gDb3t6GxWJBNBpVvAOsWGjw4CEkeNJgtVrR19dXtA+S1Jquds1PfGdTfFpIj9Z4fnMMYtdI2roWKd1WX1+PoaEhxS8KSmzc0vlsbW1N7MSzVkI89QHw8z8AGAN+/nctxUIoFMKdO3fQ2tqKurq6hHbblpaWknUQN4MYy7RBV1RUoL29He3t7QnFsvPz8wgEAgm1IsXUsJUSRq6LARI7wCoqKmC1WmG1WhXvACsWquE5hARPGjiOU8T0MdXgP6WRhvOl6mzieR7RaFTV4ycQ9IDbXwVr+82UkRa3243JyUmcPXtWbhNVmmIjPNnSbGLPI7DM3AS3Ow3W2gdAO8Ejre3cuXOor69HLBaTz2MoFILb7ZYdxGtra+Vfo7lsoGYQSGZYYy6kKpaVakUmJiYQi8US5v+YoUlCDczSTQYcijO73Y7W1lbFO8CKhdrSDynPb1GOKLGJqRlhkYwqM/lLWSwWhMNhVY6fCm5r/HBt7ecThAdjDAsLC9je3lY8hXVkDQW+b1LNltTVlm6N1k/x9QAAIABJREFUYs9HAAD87GsQNBI8klfb1taWvLZk+wy73Y7Ozk50dnaCMQafz3dkA81WQGuGKIqRKXSDln5g1dfX49SpU3KtiNvtxuLiInielzfK+vp6Q0c9lMToEZ54kteqZAdYsVBb+iEkeFRGLcETCAQwOjqK9vb2jEaVihtpZoHfPBQ8rG0QPHdv6KE0kbjYeqic1lBAhCcajWJ0dBS1tbXZ02z1DojHzoGf+wGEB/83AOoKnlgshrGxMVRUVOR8/jiOQ11dHerq6tDd3S0X0EoplPhaBGmAHtXwFI9SEYnkWpFIJAKv14uNjQ1MT0+jsrJS3ij1TJWojZkFTzLFdIAVC6W0DiHBozJqCI719XXMz89jcHAwa6uhFim1eLitcbDqVqC2HXwwiHA4jHfeeUe7oYfIX/Ds7e0lTE3OBbH3UVje/jMgtA/Y61Wbw+Pz+TA6OopTp06hs7Oz4OdJVUCbbKBptVoN21Zb7lRUVKCtrU3+DgWDQTn6I6VK8klfmgW9u7TyIV9xlq4DTHpflfQAI8FzCAmeDBgtpSUIAqamphCNRjEyMgKbzZb1MVpHeLitcbC2QTDG5M30ve99r6b56lzfN2mNq6uruP/++/O6IIg9j8D6z38CfvFNiP2/rEp0ZHNzE3Nzczh//rwi9WTxVFRUJAzQ8/v9WF5ehsfjgcfjkX9pNjU1lW39SCFoVXNSVVUFh8Mhp0qS05cNDQ1yCszM75/RurQyUax5qJoeYIFAALW1tQWvrVQw7zfBJCgleHw+H5xOJxwOB06cOJHzRVVTPy8hCm7nLqKXn8K7776LyspK1NXVaSp2gNxesyAIGB8fB8dxGBkZyfvXE3MMgdkbwc++Jgsepc4zYwzT09OycWouwrYYpFD7sWPHUFVVhe7ubvmX5tLSEjiOS0h/mWUD0gM9imxTpS+lWTHS+ydtlA0NDaZ6/8yW0lIyQqqkB1gwGNT8OmxESPCojBKCx+VyYWlpCRcuXEBdXV3ex9dK8HDuOXBCBDMHlXBcdKC1tRXvvPOOJsdOWEeWaIs0NbmrqwtdXV2FbVC8FeJ9HwY/9zrARMUiPJFIBHfu3EFTU1NW41S1Ntb4AllpTfEX2qqqqgT/KLOkHMqFVJECj8cjd3NWVlYiEonA5/MZvv6nlFNa+VKMB1g2i46bN2/i05/+NARBwMc//nE8/fTTCbd/5StfwZ//+Z/DarXi2LFj+Iu/+At0d3cDOPy8XbhwAQBw8uRJvPLKKwq/cuUgwaMyxQiOWCyGiYkJACjYv0urlBZjDLvjb6ITwImrv4jKn88a0WP6cCbxsbm5idnZWZw/fz6r+Ws2xN5HYJn8G3Abo+COnS9a8Ei1RGq27Gci3XlLNT/G7XbL/lH19fVy+kvtaJTRMWIbtc1mO1L/8+6772JpaUkeXyAJWDW7JwvBTCktLaNRqTrAfD4fPB6P3AHG8zzu3LmDX/zFX8z4XIIg4MaNG3jttdfQ1dWF4eFhXL9+HQMDA/J9Ll++jNu3b6O6uhpf+9rX8IUvfAF/9Vd/BeAwvfqzn/1M1derFCR4MqBUt0UhgmN/fx9jY2Po7u6Gw+Eo+PhapLSi0SjGxsZwamcSjLehsutQ7et14U913PipybnWP2VDPP1hMHDgZ18D336xKMGzsrKC1dVVw1uYxF9oJf+o/f19uN1urKysAIDc/m629Em5YLfbYbPZMDg4mLBRTk1NIRKJJHQK6S1gzZTSKraGpxji05pSB9jy8jJmZ2fx5JNPwuVy4TOf+QweeeQRfPCDH0yoCbx16xZ6e3tx+vRpAMATTzyBl19+OUHwfPjDH5b//eCDD+Jb3/qWdi9OQUjwqIzFYkEkEsn5/owxrKyswOVy4eLFi0UXmqk9aXlvbw/j4+O47777cGxmC6z1DGAxlkt02qnJxVLdCtZ5BfzcD8C9798WJHgEQcDk5CREUSyolkhJCjkvPM+jsbFR7haUCi3j0ydSeqUc7BOMGOFJJn6NqTZKqf5neXkZjDE5+qOHgDXD+ZQwUjSK53mcOnUKX/7yl8EYw/ve9z780i/9Et544w18+ctfBsdx+KM/+iM89NBDcLlcOHHihPzYrq4uvP3222mf+xvf+AY++tGPyv8fCoUwNDQEq9WKp59+Go8//riqr60YSPCoTD4pJSlSUlFRodjmp1YNT7wwu3TpEmpqasBvTUA8+R7Fj1UMapiTxiP2PgrLW38I+LfzFjzBYBB37txBZ2dnXoXoalJsWi650FJKf0n2CfX19fIGquagNT0xwvuYiUxRk+T6LUnAbm9vY3Z2FjabTU5famFfYibBAxjzvZeKqR999FE8+uijAACv11vQWr/1rW/h9u3bePPNN+W/LS0tweFwYH5+Hg8//DAuXLiAnp4exdavJCR4MqBlSsvr9WJ8fBw9PT04fvx40ceVUMPFWxqEZ7Va7wmzoAfcwRpY20D2J9AAaWqy2pOdxZ5HYX3rD2CZfwPAyZwfJznaDwwMyJtLKZLcPi2lv8bGxiCKYkL6K5vAN8NQRLOsMddrW7KADYVCcvRHKnqWBBB1ARmTVMah8fPbHA6HnI4GgNXV1ZRlFK+//jp+//d/H2+++WbCrCfpvqdPn8aHPvQhvPvuuyR4ypVsgkeyDNjc3FSlfkPpXxwHBwdwOp1HBuFx25MAALFtUNHjFUI0GkUwGEQkElF9sjNrPw9W237YrdX+VPb7/9xiY2dnR3a0NwpqT1rmOC5h0FosFkuYMyJFD5qbmw3fPZQOM0Qkilmj3W5HR0cHOjo65PlN8YWyVMBuPAKBQEYxOjw8jJmZGSwsLMDhcOCll17Ciy++mHCfd999F5/4xCdw8+bNhAGyHo8H1dXVqKysxM7ODn70ox/hC1/4gmqvpVhI8KhMJsEjWS7U1NRgZGTEMPnfVDDG4HK5sLKykrK2iNs67CZjx/SN8EjF3jabDf39/eofkOMg9jwKfuplcMf+dca7xmIxOJ1OVFVVqeISbzasVitaW1vR2toK4J75aabpwUYXE2ZAKVEWb5Vw4sSJIwXsjLG8IniEOvj9/oxDVa1WK5577jk89thjEAQBTz31FAYHB/HMM89gaGgI169fx+c//3n4fD782q/9GoB77eeTk5P4xCc+ITfHPP300wnFzkaDBI/KpKuhkVzDtbRcKBSpPT7TkD5+exLM3gTUHrVm0OpX7+rqKlZWVnDp0iXcuXNH9eNJiL2PwnLnW2jYmwTwgZT3kSwi7rvvPnR0dGi2tnzQ20srm/mplJYUBMGwm2epR3gykVzAnhzBs1qtcvRH8m8j1CdVSiuZa9eu4dq1awl/+9KXviT/+/XXX0/5uIceeghOp7P4RWoECZ4MqFHDk6sjt1GQNuqTJ0+iq6sr7f24rQmwtnNA0jmTNlE1L26CIGBiYgKMMV06ncRT7wezVKLF/Q6ATxy5fWNjA/Pz8wUNjixXUk0PXllZwfb2Nn7605/KY/bjzU+NgpHWkgqtRFlyBC8cDif4t1VXVyfU/xj9vGXCyLVbgUDA0KMutIQEj8rEC55QKASn04nGxkZTpDRynvDMRHA7UxAu/C9HbpJCnWq91kAggDt37qScmqzZr+2KWrDu96J1/XbCn+Nn/2hhEVHKWCwW1NfXIxaLobe3Vx6zH29+KqW/9PwRYeSNT0KvKFRlZWVC/U8gEEgYYFlXVycLILN18Bl5XpDf7yfB83NI8KiM1JYudeWo1R6djXwuctJsGEEQcpvwvLcCLuI/jPAkoebgw0xTk7WILMUj9D6K6vk3ENmdBWs53JBHR0fR3NyMy5cvm+LXq94prXxIHrPv9/vhdrvl4XmSy7TW5plmSWnpvTlzHIeamhrU1NTI9T8HBwdwu91wuVwQRRENDQ0QBMHQKUwJIwseckq/BwmeDChV2Of3+7G4uKhbV45UR5TLRUMyKc3HZ4r/eYcWO6aN4BFFETMzM7K5Zqpfg2pHlo6sqfcXgO//e/Cz38OupRXj4+Po6+uTw/lqoPTGavSNOh3xxbPS8Dyv1yubZ0qzZbQyPzX6eTSiPxXP80c6+NxuNzY3Nw2fwgSMXVdGguceJHhUJBgMYnR0FBzH4erVq7p9SaUoU7Yv5NraGhYXF3H+/PmE0ePZkDu0Wo92RSkteMLhMO7cuYOWlpaM5po8z2sbrWg4gYOaU7A6X8EUu4orV66Yci6JWSI8meB5PsE8M5P5qdKhfjOcPzNEoaQC5+rqaly5ckVOYbpcLkMa2Bo5wpNL0XK5QIJHJaR0y8DAACYnJ3X9QmYTHYIgYGpqCtFotCCTUm57EqzxJFB51AZDScEjdbblkhZUY+BiJgRBwEbDFfSu/S2Gz/fAYkKxU6okm58GAgF4PB5VzE/NICbMsEYgUUSkcgp3u92Ym5tDMBhEXV2drhO8jSx4pBEPBAkexRFFEXfv3kUwGEybbtGaTLOA/H4/RkdH4XA4CrY34LYmIbYeTWcByggeaTjj1tZWzp1tWkZ4pMLpypZhnFn7DmwL/wDxwq9rcmwlMcMmWCzxtSPpzE+l2p9SNT81o+CJJ5WB7cHBATweD8bGxiAIQsL8Hy1quIwseILBINrbj44LKUdI8GQg34uC3++H0+nE8ePH0d/fb5iLSjrRIbVLDw4OHin6zZlYGJx7DmLftZQ3Fyt4JH8xu92e19RkrSI829vbmJ6exuDgICbGBbDa4+Bnv2dKwQOYIyWjJKnMTz0eT8Hmp2YQE2ZYI5D7OuPrf06dOgVBEOQaroWFBU1quIxew0MprUNI8CjE+vo6FhYW0ooHPS8yycMPRVHE1NQUwuFw0e3SnHsWHBNSFiwDxQkeaWry6dOn8/YXU7M7DLg3T8ntdsuRPI63QOj9BVgmvg3EwoDVOLYRuWCmLi21sNlsaGtrk4eBpjI/NWvrtIRZBE+hUROLxYKWlhY57Z1cw2W32xNquJQ4F0aO8GSbtFxOkODJQrZNQGrhjsViaetfpM1Xr18A8Y7tgUAAo6OjOH78OM6dO1f0l53bkjq0Uts4FCo8pKnJqWwsclqXipt3NBqVLUGuXr0qX+g4joPQ+wuw/uwvwS39CKznYVWOX67oIcbizU9TtU4nWyeYQUyYYY2Act1kyTVcwWAQHo9HFrHx838K7aI1suAJBoMkeH4OCZ4iyLWFW6qh0VPwiKIoF1IPDg4muOUWA7czBcZbwZpTu+PmK3gkASmKIoaHhwvOv6sV4ZHMU1NFnTiOQ+zEQ6ioqIFl5ruIkeBRHL2L/7OZn0YiETmFYFRRYeTNOR415gXF1/84HA4wxmQRK1mYNDQ0oLm5GY2NjTlff4x8TimldQ8SPAUgGWkuLy/nZBeQzTFdbXiex/LyMhhjihdSc1uTYC1nAEvq58xHeEjFv8UUUMcfV+mIgNS2ny7qxHEcmKUS4umPgJ++CTz2fwKcMS+CqaCUVn6kMj91Op1YW1vD/Px8SvNTI2CmCI8WM5Pq6+tRX18v1//s7e3JJrYcx8npr/r6+rTrEQTBsIKHIjz3IMGTheRNIBaLYXx8HDzP59zCrafgCQaDWFtbQ2NjIy5evKj4hY7fmYLYOZT+9hwFj1QkmmpqciEoWbQsdd6FQqGM77n0WRHPfhSWqVfAuX4C1jWsyBpSEY1GcXBwgPr6elNsYKWO3W6H3W5Hb28v7HY7fD4fdnd35ciBlP5qbGzUtcCVBE96LBZLwgwnqYh9Y2MD09PTchF7U1MTampq5POoZ8lCNqiG5x4kePJAKqI9deoUOjs7c36cXoJH6iBqa2tTZzpp+ADc3grY/f8q7V2yCY9cpiYXglIRnlAohNHRURw7dixr5510TLHnETDeCn7m7yGoJHgODg4wOjqK6upq+Hw+RbykKMKjHPHmp/GdQ1IBtJ6Tg80ieIywznRF7IuLi/J8m+bmZkQiEcOmjSjCcw8SPDnAGMPy8jLW1tZw6dKlvD88yV1SaiOJiIODAwwPD2Nzc1OV43PbUwAA1tqX9j6ZIjzxflOZpiYXtDYFIjwejwcTExM5+5/JgsHeANb9PvB3vwvhQ//piIN8sUgdgRcvXpQFYryXVDQaNUw0odxIt0kndw4lO4draX5qBCGRC0asi4kvYmeMwefzyRYYjDHs7+/r4uGWCbKWuIcx3hEDE41GMTo6isrKSoyMjBS0ecR3SamNFJFoaWmR7SwsFgsikYjix+J2DgWPmKYlHTh87bFY7MjfpanJavlNFRPhkQTuxsZGXhYR8SJLOHsNtu994bCoO8P5yXdd09PT8Pv9GBkZAc/ziEajR7ykUkUTWlpa0NzcnBCGT7V+onhyOY/JzuGpzE/zLZzNFTMJHiOvMz6KF4vFUFdXB5vNBrfbjaWlJbn+R+8hlrFYzLQjFJSGBE8WFhYW0NHRkfccmHi0Smmlc2RXS3Bx21Ngtmqg8WTa+1gsFkSjUfn/46cmq+k3VWiE5/9n783D3DjLbPFT2npXL+pdve/u9tKL1NlI4gQ7Dg4xSUiICRAYw50AYZnLXEiGH3FIZiEMmYE7Ty5kCEscQnDAmWASwMEJZCPg3b3ve6s3taRepNZaVb8/mq8sqbWUpJJUsnWeZ54Jbkn1SSXVd+q873sO6dGSyWQhGR2SYxKSxTR8AOxrD0Ey9FvQAhAeh8OB7u5u5OTkcOnr/t6ft5pgs9k8ZHgyhuvLhj9Z0ooM4Xx+vgire+Os0MZ5iUR4xKbw+APDMJDL5RzBAXybWJLzGOjGI4noIUl4gqCxsTFishBtwsOyLEZHR7GysuIzkT1aI9oS/eBmOSvAJJL7scN1TQ5rbWG8ZxKzUV5ejrKyspCP6dEDk1kEtkwLydCroN/3f0J+LXeQUfi6ujqul4CAz+aVmpqK0tJSlJaWcmO4BoMBvb29YBiGuwhHmiOVhDBkwrtx1t04b21tDenp6dzfw7lhYBhGNOWWQIjGWHq04Iuc+er/MZlMmJqagtlsRmZmJvfbi1YZM3kD4wnxf+svA0ST8JA+mNzcXGg0Gr/9A9Hp4RkAU7c34GMI8SCbdnV1NUpKSgRfy5a1hdiAK8SUmPcxmcYPQvbGYVDGcbB5NWG9pnu/jr9R+FDXSMZwiZcMuQs1mUxwuVyYnZ0VTQp1IkLoz8xX+KnRaMTw8DDsdnvI4adJhUd48FlrWloa0tLSuBsPUsYcGhqC3W5HdnY2pxAJffORCOc7FkgSnhjAu6wjFAwGAwYHB4P2wUSlpGXRg9pY9uuw7H7s1dVV6PX6sF2TwwFfhYeoY6urqxFPiXkTHrrpdsjeOAxJ/8ug3/ePIb0WaTzf2NjwOwovxEVMJpOhoKAABQUFsFqtGBoaAgAuSZyYsImpCVPMiPYdtXv4aXl5ud/w00C+MYlCeBJlnUDo5My7jMkwDFZXV2EymTAzMwOWZT3OY7iDB0mFxxPJK1gQCPGDk0qlsNlsAqxmEyzLYmxsDEajkVd6eDQUHmp5c2MM1LBM0zSmpqawsbGBa6+9NqYbJh+Fx+FwoKenB1lZWVyDt6DHVKrBlF+9SXiu+wrvaS3Sr5Obm4vW1taYXfQpioJEIuGcw8lFmDRhkl4SlUoV81HqREGsN2l/4afEN8ZXblSiEIlEUngiNR4kvy3S/0OUV71ej9HRUa4/KC8vD5mZmbzPn91uj/rUXyIhSXhiACEJB9kMlUolNBoNrx9ZNBSeSyPpvhUektlFQhZjrQ6QCSZ/IJ5KvvpiIjmmN8mim++E/LWHQC31gS3aHvQ1orGucOF9ESa9JPEYpU6CH7z7RjY2NrjcKKvVyk0Uicn52R8SifAIbTzorrwCm4MHJpMJ09PTnO8WIUCB+rgsFoto/YHigcT4NiU4hCIcRqMRZ86cQWVlJRoaGnhfDKLRtCzRD4BNzQEyi7b8bWlpCRcuXEBTUxNXr441Aik8Op0OfX192LVrl6CkwtcxmabbwVJSSPpfDvr8+fl59Pb2Cr4uvgh210h6SZqbm9HZ2Ymqqiq4XC4MDg7izJkzGBkZgcFgiFq/WiLI82JTT0hm1I4dO6DRaFBaWgqn04np6WmcPXsWo6OjMBqNMfUJ4wuxfZaBEG1ylpqaipKSErS0tHC/PYZhMDw8jNOnT2NwcBBLS0tbbvKC5WidOHECjY2NqKurwxNPPLHl7//5n/+J5uZm7Ny5E+9///sxNTXF/e3IkSOor69HfX09jhw5ItybjSKSCk8QCNUnEckmwLIsJiYmoNfrwxrljkpJi5vQuvT5sCyLkZERrK2tcf0wZrM5LhdTXySPYRjO5ySSYFJ/8Dkqnp4PtvpGSAd+DXr3N3yWtciFy2q18o4riRb4kgqhvH9CRaJsgGKEe/hpTk4OsrOzYTKZPMJPiWInhrHpRFN4YrVW99+erz4ulmVhNBphtVpRUVHh13SQpmk8+OCDOHnyJMrKyqDVanHgwAE0Nzdzj2lra8PZs2eRnp6OH/zgB/ja176GF198EUajEY899hjOnj0LiqLQ0dGBAwcOcGqwWJEkPDFAJAoP6TPJzMwMe5Rb8JIWy4JaHgLTfBf3T+7TYu79MNEaiQ8G7+PabDZ0dXWhqKgI27Zti8rF3J+qRDffCfmrXwSlO7slW8vhcKCrqwt5eXlobGyM6yYTybF9OQkbDAZe3j+XExJBlSBr9FU28fZrImWTeJTAEonwxHOE3ruPy+Vy4dSpU3jppZdw5swZ2Gw2PPHEE9izZw/a2tq40tvp06dRV1eHmprNCdKDBw/i+PHjHoTnpptu4v776quvxvPPPw8AeO2117B3717OOmHv3r04ceIEPvrRj8bkPYeLJOGJAcIdSyfRBvX19RGVOARXeNbnQdnXwPxtQouss6Ghgbt4EsSL8LiTD+LqvG3bNu4HGu1juoNp2A9W9tXN5mU3wrO2toaenh6fn1u8IFTZKCUlZYv3j9Fo3OL9E08H2mggEQiPPyLhy6/JaDTGLfw0ET5LMUImk+G6667Dddddh3feeQe//OUvUVZWhqeeegrnz59HQ0MDnnvuOeh0OpSXl3PPKysrw6lTp/y+7o9//GN84AMfAACfz9XpdNF7UwIhSXhigFAJj9BuxEImhwOXGpaZ/CZMTk5icXHR7zrjqfDQNI2JiQksLS3xmmaLFH77hlKywNTugXTwOOg9jwMSGebm5jA1NYXW1tbLPufG3fuH9P24O9CmpqZ6GOklN7nogg+R8D5nvkqW5JyFMjUUChJJ4RErNjY2UFBQgI9//OP4+Mc/zrUdhNrI/Pzzz+Ps2bN46623orTS2CBJeIJAqLF0voTH6XSip6cHaWlpgrkRC30xkvwtQ6tnwQlp1kbAdcaL8DAMA71ej/z8/Ki7OhMEyu9imu+EdOhVYPJdDDqKYbVao9JHFAlilZbuXUohRnrE+0epVEKlUiWs94/YCVs4yom/8FP3qSGhJ/aShCdyeCelUxSFhoYGAIBarea8mwBgdnYWarV6y2u8/vrr+Nd//Ve89dZbXGlTrVbjzTff9Hju7t27o/MmBETiXU0SEHxLSqurq+jt7UVtbW1E2V3RhmuuB7QiF/kVDUFdk+NBeMxmMwYHB5GamupRj442AhEGpnYPWEUmTO88A/n7Ho97v46YkJ6ejvT0dM77Z21tDQaDgQtgJBtpIkxpJQKEKBXFIvw0WdKKHIHG0rVaLUZGRjAxMQG1Wo2jR4/ihRde8HjMhQsX8MADD+DEiRMebRX79u3D17/+dZhMJgDAH/7wB3zrW9+K3hsRCEnCEwMEu3Mm6dzz8/Noa2sTtW+CTqdDvq4LqUXNvCIiIkktDweLi4sYGxtDbW0tjEZjzI4LBC4drm44QOdoULT8V+RWlvE2IYwlYqXwBIJ3A6Z7jpTJZIJEIuFKYEnvn/AgNJEIJfxUqVTyPnZS4Ykc3gqPO2QyGZ566ins27cPNE3j0KFDaGlpweHDh6HRaHDgwAF89atfhdlsxj333AMAqKiowG9+8xvk5eXhkUcegVa72ZN4+PDhqPZHCoUk4QmCaN9hkEDNlJQUaLXamDQDhgOapjE4OAinw45qmw508fsR/fx3/iC16fX1dWi1WthsNiwvL8d0Df4IA+nX6bj6k5D85k1IJv4Epv7WmK4tUeGeI6XX62EwGDjvH6fTGfNG2ssB0VZOAoWfDg4O8g4/TRTCwzCMaJUoi8USkIjs378f+/fv9/i3xx9/nPvv119/3e9zDx06hEOHDkW+yBgiSXjiCOKqG6tAzXBBXJNLSkpQqUwH5bQGzdCKJYj7dE5ODtrb20FRFOx2e8zVii3hoQzDBQNqtVrIKBbsyTxI+l5OEp4wQFEUFAoFKioqYur9c7kh1qWiYOGn/kIzxUwk3CFmYma1WkVdMYg1koSHB4SW+lmWxczMDHQ6HXbt2hWzKZ1wLnR6vR7Dw8NoaWlBTk4OJCMnNl8rvzEaSwwZpO/Je7Q7Hr1D7t8T4q+jUqnQ1NTEfe5M0+2Q9P4KsJuBlNgEqfKFGEpaocBfI+2V5v0TKuK5QfsKP3UPzQQuhZ+KmUi4Q8zr3NjYuOynQENBkvDEECzLgqZp9PX1QSqVorOzM2YyPJkU49tA6C9FPFiGViwxOzuLmZkZn31Pse4dIsckF3BfJAwA6O0fgfTCEUgGfwNm130xXd/lDu9G2ivF+ydUiKkZ2DuvzT381Gw2o7e3l5vYI+GnYkOkwaHRRLBoiSsNScITI0gkEqytraGvrw9VVVUoLS2N+fH5Kh5EncjJydmSIk7pB8FmV8RVnaBpGgMDA2AYxi9pFNp7iA8oisLKygp0Op3f5nNWrQGTVwdp1/OiIzxiV3hCWVvS+8c/xER4vOEefrq+vo76+nquZEnCT/Py8rhQYjFA6OBQIRGoaflKRJLwxAAsy8LpdKKvrw87d+5EZmbsyQLf0fhArskAQOkHOIfleMBqtaKrqwslJSWoqKjwe+GOdUmLYRjMz8/Dbrfjqquu8q+8e/KDAAAgAElEQVSkURSYtk9A9sajmwnqhS0xW+PlgHA36svd+ycUiJnweMPbsoCodjqdjlPtcnNzN8vtcVJZxFzSSqale+Ly/mULhEjufF0uF/r7+0HTNNrb2+PGtoPlabEsi6mpKSwsLPh3d6adoAyjYGr3hHx8IS6yBoMBg4ODaG5uDhpSF0u1guSIKRQK5OXlBd0w6e33Qvrmv0F64Tm49n07JmvkA7ErPELCl/eP0Wjc4v0Tyhh1oiCRCI873MNPq6urOdVueXkZo6Oj3O8v1k3rYiY8Vqs1LjfYYkWS8EQRZrMZ3d3dqKioiIvbsDsCKR4ulwu9vb1QKBTo7Oz0++OlTOOgGGfIE1rk2OHKviQtfnl5GRqNhleQYawUHtKv09jYCJfLBYvFEvxJ6Xmbzct9x4CbDgOKDMyv2vDuqAFnp1agW7GCojYJCIXN/6/KkKO9PAe7G/OhzoksaiQJT7h7/9TU1MDpdMJoNHJj1NFwEY4nEpXweMNbtbNarTCZTFua1nNzc6MafipmwpNsWvZEkvBECTqdDlNTU9ixYweysrJgMpmETSwPEf7iLdbX19HT08Orr4hrWI4h4XG5XOjp6UFqaio0Gg3vC0ss1AqdTofp6WmuX2dxcZH3Mem2+yHtO4bRN5/Hk8tX4c3hZbAskJchR21+BlgWYFgWDMuCZYEzUxa82rOIx383hI6KHHzi6nLsacyP6vu7UiGXyz3GqN1dhC8H75/LhfB4Iy0tDWlpaTEPP6VpWrTfgyTh8USS8PBAKBcH0lBL0zQ6Ozu58ka4ielCwZfiMTc3h8nJSY6UBQOlHwBLScCq6iM+Nh8QhSwcn6JoXtAZhuEs9N3zsEIhWW/b6lAnKYfrzE/RLd+GB66vwu07ilFb4F+KnzRs4A/9S3jxnA7/8MseVKnS8ZWbq7C7XiXI+70cN8FI4c9F2GAweIRoqlSqhNlYLlfC445Yhp+KWeFxOByiae4WA5KER0BYLBZ0d3ejrKwMZWVlHj+ieBMe9+O7b9jupCwYKP0g2NwaQBaarB8O4VlYWMD4+DhvMhYr2O12dHV1oaCgANu2bfOcYONBeJbW7Xjs1UG8PqjH/1buw5eZH+HtjykhU9cFPXaVKh1/f30VPn1dJd4Y1OO7b4ziS7/qx57GfHzztnpkp8mDvkYSkcHbRZh4/0xNTcFsNsNut2NhYUH03j+XO+HxRjTDT8VMeACIem2xRpLwCIT5+XlMTExg+/btUCqVW/7Od0oqWiCkg0w5FRcXb9mwg4HSD4ItDD2MMxTCwzAMhoeHsbGxmcLu7rwab7j36+Tnby0nBfP+eWtkGQ+/3IcNB41/3FOHT7V1gP3Bz5Ha/TO41K281yGVULiluRA31ufh6T+N4Id/mcNHfryOf79zG3apt373kogevL1/Tp06BZvNlvT+iRDRLkcHCj91Op3Izs7mHX4qVsJzpQwghIIk4YkQXMaU0xlQLRGDwrOysoLR0VFeU05b4LSCMk2Aabkr5GPzJTxk2ikvLw9tbW2iugsNZHJI4M/7h2VZPP32JL73xzE0FmXiu/fsQG3BZvmDab4Dkr6XgN3fANL4nxOGYTAyNIirlGbkauT4Ya8TnzxyEV+6sQKHrqsK6z0mERkoioJUKkVVVZVP75+UlBQu+uJK8/4JFbEsu0UafirmHh7gylPzAiFJeHjA3xfGPWMqkCcMEF/Cw7IsDAYDbDYbOjs7w5LaKcMIKLBgC7aF/Fw+hGdlZQV9fX1+1ZN4gZT/CKENdGHzVdKiGRaP/GYAL12Yw+07i/EvB7YhVX7pNWjt30Pa/QtILzwH+tov81oTKasVFhaivr4ebQBubF/Fo78dwXffnMb4zBw+pSmESqVKKgtxhK8pIm/vH1JGudy9f0JFPHO0fIWfEu8fX+GnDMOIunyZxCUkf2VhYmFhAWNjY9i+fTuys7ODPj6YD060QII1AaC8vDzsHyalHwAQXoZWIMJDcsXm5uYCqifxQKB+HV/wJjwumsFDL/fj1Z4FPHhjNb54U82W12ALW8BU3Qjp2WdAd34WkAUenyVltaamJuTl5cHpdAIASlQ5+MHHNXj0t8M43r2I3BwnPkhfchV2VxaSiA/S0tKgVquhVqs9vH9IhtTl7P0TKliWFQ1RVygUKC4uRnFxsc/wU4qiOAVITCV4h8MhqvWIAUnCEyJIAjZRS/h+oaRSKRwOR5RX5wmimjQ0NMDpdMJut4f9WpR+EKxUATa3OuTn+iM8NE2jv78fAKDVakUlC5PPrqmpiWt0DAZ3wuOkGXz1pT78vm8R/7inDn9/fZXf57mu+jwUL94LSf/LYHYe9Pu4ubk5TE1NccTQW02SSig8dlsDWADPnltEekYlPnd945YLdE5ODlQqVcKOVV8OcPf+AeDh/TM0NOShIlwO3j+hQqx9Mb7CTwcGBmCz2dDV1eVBfpRKZVzfQzJHayuShIcHyN0WKWEVFxd7JGDzQSxLWizLYnp6GvPz89zmuLCwEFHTNLU8BFZVB0hDv2PwRXg2NjbQ1dXlc6It3uDTr+MLpGmZYVh87X82yc5Dt9Tj0HWVAZ/HVu8GU7AN0tM/ALPjXsBbBWJZj0buQOUPqYTC47c1AAC+//YUAOBz11dyrsLu/Qnj4+OQy+XcWHXy4hg/eHv/bGxscM7ipIn2SiKpYiU83pBIJFAoFMjPz0dubq5H+Onw8HBcM9ssFkvCWCXECknCwxOk8bClpYW7KwsFsSI8xDVZLpd7uCZHOiUm0Q+CKesM77lehEev12N4eDjszzIUhNL8SO7WXC5XWEn2ROH59h9G8LveRfyfvXVByc7fngj6qs9D/uoXIRk9Cab+Fu5PTqcT3d3dyM7ORmtr69aSmI/3x5EelsX3356CTELhf11Xsfk3r/4Em83mEc5ot9uxtLQkyr6SK2XqxF1F8G6iFdpDRqxIJK8g96Zl9/BTlmW39G0R9+dYlL+SCs9WiOuKJlKsrKxgZmYGWq027B6YWIylE6O+yspKqNVqj79F1ENkWwO1Ngu24JNhPZ0QHpZlMT4+DqPRGNFnyReEgPC5cNrtdly8eBFFRUWorKwM62JLURR+O2LBs91LuP/qcnyGD9n5G5jmu8C+8x1I//wfYOr2AhTFnc/a2loUFRWFtBaphMLjH2wEzQL/9eYkSrNTcdv2wi2PS01NRWlpKUpLS8EwDE6fPg2z2Yzp6WlIJBLu4pyVlSWKDUgMa/CHaBEyf94/xEPGfRO9XJpnE0XhAfyvlaIov+Gns7OzYFk2qrYFSZflrUgSHh7IyclBe3t7RBdbqVQKl8sl4Ko8Ecw1OZJsKWr5bw3LYUxokWM7nU5cuHABGRkZ6OjoiMnFLJgvDkE4/Tq+cH52Dc/1WLCnqQD/tK8htO+LVA7XtV+G/Pf/CMn4H7GQtQOjo6MRGS9KJRT++YMNmF+14Zu/HUZtfjqaiv0HCUokEkilUtTU1KCmpoabTpmdncX6+joyMzO55ufLZWNNRHh7yJBN9HLy/onnlFao4EvO/IWfutsWkHMnRPjpxsZGckjBC0nCwwMURUX85YuWwkPGpu12e1AfoLAJz9Im4WEKwyM8DocDc3NzaGpqQnFxcVivEQ6IL06g0tTs7CxmZ2f9J8TzxNK6HQ8dH0ZRugTfvrMFEkno3xdmx71g3vseXCe/ian2J6HRaHgRi0AqllwqwX/c1Yx7f3Ie/3CsD0cPtSMnnZ+U7j2dYjabYTAYPDZWlUoV9+ZMsSAeZRjvCAWXy4WVlRWPTZT0aCWS94+YprSCIVw1Ktrhp0mFZyuShCdGiMZYutVqRXd3N4qKioKOTUdyfIl+AKwiE1CWhfzcubk5zM3NobS0NKZkBwis8JB+HZqmI54Qc9IM/uGXPbA4aDx0XSYyU8P7WdGQYrbyIGq7vwNt5jyguCrg4wkRD6Zi5Wcq8L0PN+OTP+vCP/1mEP/v3u2QhLjxURSFrKwsZGVleZjqkebMtLQ0Tv25EqeKxAKZTIb8/HzOy4r0kIyNjcFqtUKpVMLpdMLpdIp6ZDmRSlpCGQ/6Cz/t6+sDTdMhh58me3i2Ikl4YgShm5aXl5cxNDTE2zU5IoVHP7CZkB7CJuk+vl9bWxvVcp4/+HM+JiOkkfTruOM/To7i3PQKvvWhRqiZxbBew2q14uLFiyjf8REwc69A/vYTcDbuB6TClI52qJV4aG8t/uXEKI78dRZ/d015RK/nfnfq7k3inihOjA+vhKkiQJyNtt7ePysrK1heXua8ucTq/ZNIhCcaa/Wn3IXSuJ5UeLYiMb5RcYYQFwKhCA/LshgdHcXExAQ0Gg3viIiwFR6W3fTgCaF/x2634+zZs0hNTUVrayvkcnlccsR89S2ZTCacO3cOdXV1qKqqivjcnuhbxE//Mo2Pd5bhg9uLwmpcNRqNOH/+PLZt24ayikrQNz0CiWkc0nM/iWht3vhIewn2NuXjv96cRN/8umCvS6aKysvL0draivb2duTl5WF5eRnnz59HV1cXZmZmsLGxcdlPWomJNHiD9JCkpaWho6MDO3fuRHp6Oubm5nD69Gn09PRgbm4ONpst3ksVJXn0h1iQM6Lc1dfXQ6vVorm5GQqFAtPT0zh9+jT6+vq2nDuLxRJQ4Tlx4gQaGxtRV1eHJ554Ysvf3377bbS3t0Mmk+HYsWMef5NKpWhtbUVraysOHDgg3BuNMpIKT4zAt4E2EIhrslKphEajCdkHKCzSYV4AZVsBU8AvNNRkMqG/v9+jATiShulI4F3umZmZgU6ni7hfh2Bp3Y5HfjOAXWVKPLSvARIwIZ9j4pfU0dHBlYKY2j1gam6G9N0nQbd8GMgoiHitwObn8ej+enTp1vD//WYIL366HSky4S/U3snU3qO5JJgxNzdXdKPvkSARyJw7kfDl/eMrQDM3NzfmKl0iKTxA7Imud+O62WyG0WjEwMAAnnnmGbhcLiiVSuzatcvn82maxoMPPoiTJ0+irKwMWq0WBw4cQHPzpet8RUUFnn32WTz55JNbnp+WloaLFy9G7f1FC5fP1SbK4NMrEU2QSaL6+noUFm4dLw6GcBUe0rDMBmlYdjc79CYU/kpL0QYhWgzDoL+/HwzDCObozLIsDr8yALuLwbfvbIFCJgFNs7y/I+49RBqNxnNNFAXX+x+H/Me7IXvrW3Dt/8+I10uQnSbHY7c14HNHe/H/3p7EV26uEey1/cG7rEI8ZaampjxGrhPdUyYRVIlAI9TuDsLu3j8TExMx9/5JNMITT7j311VWVuI73/kO3njjDTz77LN444038Ktf/Qp79uzB3r170dHRAalUitOnT6Ourg41NZu//4MHD+L48eMehKeqqgoALqvzkCQ8Iocv1+RwEC5hk+g3ox8ClbRomkZfXx+kUqmH2SH3GnFUeOx2O/r7+wXr1yF4pWcBfxpaxsP76lGdn8Edj28qPAn/9LcmNr8BtPbvITv1fdDb7wFbcY0g6waA99Xm4cOtxTjy11nc3JCP1jKlYK8dDCR5mpRifXnKkOZnMTfVJir4krJ4e/8kAnkUKzIyMnDgwAGcP38eX/rSl3DVVVfh9ddfxw9+8APIZDI888wz0Ol0KC+/1MdXVlaGU6dO8T6GzWaDRqOBTCbDww8/jDvuuCMab0VwJAmPiOFyuTgiEakyEe7Fg9IPgM0sBtJ89wqRiIjy8nKUlfme4hKinBcOnE4n+vv7sX37du7CLQT063b8y++G0FaejfuvruD+nQ+pJOGffFLh6fd9FdKhVyH7/Vfg/NRJIMW/h06o+OqeGrw3bsKjvx3Grz7dDkUUSlt84MtTxmAwYHZ2FgA8Rt/FjkTYpMNdo68SirtFgXuTuhCKQFLhiRxWqxUZGRkoLCzEfffdh/vuu0+w156amoJarcb4+Dhuvvlm7NixA7W1tYK9frSQJDwiRSDX5FgiUMMy8foIlhgfD4VnenoaKysraG5uFpTssCyLb746CKuTwb9+qBlSN7+dYBvJ/Pw8Jicn+St1igw49/9fyH9xN2THH4Dr7ucAiTC9FBkpMjzygXp8/sVe/Pi9GXzuBv6u0NGC+2RKdXU1l0s0NzeHwcFByGQyKBQK2O32sHxJYoHLlfC4w5dFwcrKCvR6vYf3T15eHtLT08M6HsMwl1V/VzwQaCxdrVZjZmaG+9+zs7Mh7TPksTU1Ndi9ezcuXLiQJDyXE4To4SElj2B3LvPz85iYmIjIZVcQMC5Qy8OgO97n8c9kUmx1dZVXREQsCY97v05xcbHgZZHf9S7i9UE9vrq3DrUF/EY+SfinxWIJGv655bmV18F1y7cgf+1rYP/4TdB7/jncpW/B9XV5uLW5AD96bxq3bS9ERZ64XFm9c4mmp6e5pniXy8WpP2JxFE60pmWh4M/7h+SzKZVKrvmZ7+8xEdQyQNznPNBYularxcjICCYmJqBWq3H06FG88MILvF7XZDIhPT0dKSkpWF5exp///Gd87WtfE3LpUUOS8MQQZDTd38XZ3btGq9XGvYeBMk2Aou0eCo/D4UBPTw+ysrLQ0dHB66IUK8JD/HWKi4tRUVGB4eFhQY9rMDvw+O+GsKtMib+7lp8iQsI/lUol2trawrvbbf8UXIYRyM78N1hVPZi2+0N+DX/46p4avDNqxL+9NoofHNwu2OsKDYqikJqaitzcXFRWVm5xFCap1MRROB5IhE06Fmv0blJfW1uD0WjkFAX3fLZA10IxkNhgEPM6AxEemUyGp556Cvv27QNN0zh06BBaWlpw+PBhaDQaHDhwAGfOnMGdd94Jk8mEV155BY8++ij6+vowMDCABx54gLuuP/zwwx7NzmJGkvDEEITw+CIyZLMuLCxEU1OTKC6clya0Nr/Ma2tr6O3tDTnMMhaEh9z5b9u2jSthCd079O9/GIHF7sK/eZWy/IGUJWtqaiJ2mabf/xgo4zhkf3gYztwqsFU3RPR6BIVZKfjCjVX49skxvD60jOhm1wsHb1WBjFQPDw/DbrdzrrTxGKkWM2JNyiQSCXJycpCTs/nNci9Trq+vIy0tjSOq7g7dYiYS7hDzOkkPjz/s378f+/fv9/i3xx9/nPtvrVbL9dK549prr0VPT49wC40hkoSHJ6JpPkhck90362iAb0mNe7y+HywlAauqh06nw/T0NHbt2hWye2c0CQ/LspiZmcHc3NyWcXghj3tm0oRfd83jgeurUFcYvHlYr9djeHgYO3fuFKYsKZHBdccPIX/uNshf/jSc9/8erKou8tcFcFBTiv/pWsB/vD6ORzTxJ9rhwDuVmrjSkpFqMvklRCijPySCwhPvDdq7TEmI6tDQEBwOB+f9Q9O06D9LIP6fZyBYLBZkZgo36HA5IEl4Yghv8z+WZTE2NgaTyQSNRhP1RkxCAPgTngGwuTXoH5mAw+EIuf/E+7hCg/TrsCzrc4pNKO8kmmHxz78bgjonFZ+7oTrgY1mWxfj4OAwGA6/+ppCQkgXnPc9DceRWyH71MTjv/z0oeVbE71EmofDQ3hp85uc9eG1KhuuuFmi9cYJEIvEYqbbZbDAajVwoo1KphEqlCqmnhA8SgfCIaY2BvH8WFxdhMplgNptF7dEkZsJjs9mSuXZeSBKeGMJd4SG9MJmZmejo6IjJjyZk4rE0AINcjfT09KDhpIIelwdICbCkpATl5eU+1ybUcX91ToehRTO+95EdSFP4L4/QNA2r1Qq73R69c5pTAeeHn4X8hbsgf/kQnB/+OUBF/jO+qioXexrz8duRZXxh3Y7CLHFOQYWD1NRUlJaWorS0FAzDcKPvMzMzoCiKa37OysoS5aYqJMREeLzh7v1D0zRUKhWcTifn/ZOZmckpddHw/gkHgXoyxQAxry0eSBKeGIK4HRMvlnBdk8NFKHlepsVZFK1MIVVzO+e4GS6EJjy++nV8QQiFZ83qxPf+OAZtZQ5ubfZ/rqxWK7q6uiCTybBtG//csXDAlnXCtf97kL/yeaT9bD9suw+Dqbw+4tf9yvur8afhZXz/7Sl887YGAVYqPpA8KWKj4HA4YDQaMTs7i/X19Yg2VTGTCYJEWCOwqZwoFArk5+cH9P4h6eHx2tgZhhFlj5iYp8fiiSTh4QkhLhISiQQLCwtYW1uLyDU5kuMHIx4sy2Jqagobw2+hGCxSKzWIlKoIdYEl/Tre2VP+IATR+n9vTWDF6sTXP9Dg930QAtbc3IyBgYGIjscXzPa74ZSnQfrGo8g49lG4avbCduMjYPPCj4ooz03DzeVSvNy1gI93qlHHc+w+kaFQKFBcXIzi4mKfm6q78eHlcLecKISHZVmPz9uf98/y8jJGR0cF8f4JB2IuaQHi94WKNZKEJ0ZwuVzQ6/WQy+Xo7OyMy11BsABRl8uF3t5eKBQKtPzNBJgpFMe4IU3T6O/fjLnYkj3lB5FmeI0vW/D8qRnc065Gc4lvp18SSMqHgAkNpvE22CtugOzcj5Fy6r+QceRmOFs/Bfs1/wCkhjdvdXuNHH9dBL73xwk8da94x9SjAV+bqslkwsLCAoaHh/1OFBEkAplIhDUCwYlENLx/orHOJMSFJOGJAcxmM9evo1Kp4iaBBgoQtVgs6O7uRkVFBdRqNaSvHQGbkgVkV/h8fCxhs9lw8eJFlJaW+u3X8QWJRAKn0xn2cZ84MYxUuQT/cPNWB1H38E+hAknDgiwVDu3n4Gq5B4r3noT8wk8g7z8G+zVfgXPXJwBpaBf7TAWFQ9eW4//+aRJnplagrRTPoHqsZXqZTIaCggIUFBT4TBN3L6mQ8y92MpEohCfUdQbz/nHv0xKSoIiV8LhcLlGW2uKNJOHhiXAvEgsLCxgfH8f27duxtrYWVmK5UPBX4llcXMTY2Bi2b9/OZRZRS31gC5qBOF8cjUYjBgYG0NzczAVO8kUkPjx/HjPgrREDvnZLPVSZnr0cfMI/Yw02owD2vd+Gs/WTSHnzcaT+6TBkw6/Ceu9LIZ/Dj2lKcfTsHL77xwn8/FOtonh/8YaviSIy+j4+Pg6FQoGMjAy4XC5Rkwoxr80dkRAJvt4/eXl5EZtUirVpOVCsxJWMJOGJEohrstVq5VyTLRZLRIpDpPBuWmZZFiMjI1hfX/d0dmZZUEv9YLbfE6eVXkqJX1hYCLtcFG5Ji2FYPHlyFOqcVHziqnKPv62traGnpydg+GesNhWWZbG0tMQlkEskEjAFzbDe/QtIx06Ccm6ERVhT5VJ8/oZKPPrbEfxp2ICbGwOHnMYSYtmspVIpVCoVVCoVgM2SCtlQz5w5w/nJ5ObmiioTSqyKhDeEXKc/75/h4WEP759wTCrF2rRssViShMcHxPNLvIzgzzU5lCmpaMBd4XE4HOju7kZOTg7a29s9N5LVaVAOM5jClrisk/TrUBQFrVYb0Z1eOArPif5F9M+v49/vavFIEScZZ62trX7NF8lkWLQ3ZlJSczgckMlkGBsb84xXqLslrNcl6z+wsxg/+cssvv/2FHY3qCARCdEQK9LS0lBQUACXy4X6+nrOT2ZqaorzBVKpVHH3k0kkhSca6wzk/TM5OekxGs/nXImVQAZzWb5SkSQ8AsNgMGBwcNDnyHS8CQ85PhmLb2hoQEFBwZbHSZb6AACswISHz8WWjHeXlpaioiKy/qFwFB4nzeB7b4yhoSgTH9yxGQdBlDCz2YzOzs6Ad+xCmR0GgsPhQFdXF/Lz81FfX899rhsbGzAYDNyda05ODlQqVVhjuzIJhc9eX4F/Oj6E1weXccu2rd+TJDxBzjtR3EgJ1uFwwGAwcH4yWVlZ3Oh7rPPyEoXweE9pRQvuBAfYLFcbjUYP7x9CVn3ZFIg11d1iscQtU07MEN+ZEimCXSTcHXb9uSYHahqOBSQSCQwGA6ampgKOxVNL/WBBgS1oEuzYfJSPSPp1fCGcsfSXzs9hymjF0/ftglRChRz+GW3Cs76+jp6eHtTX16OgoABOp5M7HolXcO8xIWO7fMM13df/geZCPPPnGXz/7Sm8vzGfV37YlQ5f3w+FQoGSkhLOT4YYH5KcIvfR92iTkUQiPPFYZ0pKise5Cub9Q9N01B3yw0FS4fGNJOERAO6uyRqNxu+dSTwVHoZhsLCwAIZhgo7FU0t9YHOrAYVwP5hAsRbE+2dxcVHQ8e5QyYfVQeOpt8bRXpGN3Q35sFgs6OrqCin8U+jAUncsLS1hdHQUO3fuDJqR491jEo76I5VQ+Nz1lfjqywM40a/HbdtjZ5KZiOBz3imKglKphFKpRHV1tUdD7eDgIDIyMjhiGo2NNFEIDxD/fi0+3j8sy0Imk4nuc0328PhGkvBECFIeqqurC5ogHi/CQ8pE6enpyMzMDNpkRy31C17O8qe20DSNvr4+SCSSiPp1QjmmP/zs1Az06w58756dWF5exvDwMHbs2MFNrvFBNBQelmUxOTmJ5eVlaDQaD2md70U2kPqTkpLiQY7cccu2fPz3u+n473encGtzQVLlCYBwNj3vhlqLxQKj0Yj+/n64XC7k5uYK6iYcq1LR5Qhf3j9DQ0NYXFzE3NxczLx/+GBjYyOp8PhAkvCECeL6q9PpeLsmx4PwkJ6i5uZm2O12WCyWwE9wmEGZJsFs/4ig6/BFPggRU6vVKC8v9/PMyI7Jl3ysWp145t1J7G7Ih4oxYXJyOazwz0jNDr1BCKFMJhMsn8uX+kOmVsxmM0ZHR5Gfn8/5yzzwvk2V5+TgMm5tTvbyRAsURSEzMxOZmZmoqKgATdMwmUxbypLETTgciE2JSGSkpaUhPT0dhYWFUCqVHhltQPS8f/ggOZbuG0nCwxPuFwmyCVEUFZJrcjCnYyHBsiwmJiY4VSAlJQV6vT4o4aKWBkCBBVsUXYXHnYgJ0a/jC6GQj2fencS6zYXbyjcDQMMlF0IqPHa7HRcvXkRJSUnEDdyBQNSfsrIynDt3Drm5uTAYDBgbG0NKSgq25eahMjcVP/rzNPZty09umH4gNCYTBtEAACAASURBVJmQSqUeigIhpiMjI7Db7Vw/SSjj1GKdKkpUEB8e74y2aHr/8EGyh8c3koQnBFAUBbPZjO7ubpSXl6OsrCyk58dK4XG5XOjp6UFqaqpHTxGfEg+l34xvYAqEjZQgx45Wv46/Y/IhH/p1O3721xlcXSpDW3VhRGqTUISH+P00NTX5LDVFC2TCiITakk12XwWFH3ZZ8OI7vdjbUurhLpzEJqKtnrgTU4ZhOOPDiYkJyGQybvIrIyPD7zqSCo+w8OfDE8j7x52s5uTkRGXKy2KxBAxWvlKRJDwhYGFhAaOjoyH3dRAIXe7wBULIqqurUVJS4vE3PgqTZLHvb5ESwpaYSMxDT08PpFKp4P06vsD3837qjSE4aAb/e+82lJeXBH18sGNGSniIO3cgv59YgWyyny0pxSsTZ3B82Ia2omVO/SGlseQIbGxBvH3cx6kNBgMmJydhsVigVCqhUqm29JMkCY+w4KOYeXv/uJPVcLx/+GBjYyMqbQKJjiTh4QmWZbG2tobOzs6wG9KifaEhG+WOHTuQlZW15e98xuKjFSnBMAz6+vpQWVkZsx8iH4XnwuAEXupawu07CrGrJjKyw/eY/sCyLMbGxrC6uurpfM3jedH+bsmlEvzdNeX4t9dGsZZaj87GRlitVm7yi9y1ksmvK1H9iSeZSElJQWlpKUpLS8EwzJZ+EjL5FS1DvysV4ZQIfZHVULx/+CBZ0vKNJOHhCYqi0NDQEPMAQz5gGAYjIyOwWCwBN8qgJS2WAaXvB7PjoKDrMxgMWF5eRn19fUzvOgIpPAzDYHBwEM+eNYEFhS/eVCfYMcP5jtA0zZUhtzhfxxCB1n/nriI8/e4UfvTeDLSVOUhLS0NZWRnKysq4yS/33h+h1R8x/vbECO9+EofDAaPRiNnZWRgMBqyursLpdEa0oUYTiXSeheiJ8uf909fXB5qmt3j/8EGyadk3koQnBMTCRTdU2O12dHd3Iy8vL6gxXrCSFmWaBOWwCBYp4d6vU1xcHPMfoD+C53A4cPHiRVDpufjjpB13tJagPE+YtYXzHbFarbh48WJYfWFCI9D3J1Uuxf2dZfjenybQN7eOltJLKqKvbKloqD9iVifEWi5SKBQoLi5GcXExRkZGkJaWBrvdzpnpkdH37OxsUTQ0J1JjNU3TgqqZfLx/3Cf1/H3fkmPpvpEY36okfGJlZQVnz55FVVUVamtrg15sg5W0qMUeAABbtCPitdE0je7ubk51UigUMZtQI/BFPtbW1nDmzBlUV1fjxBQNhmXxuRuqBT1mKO9zZWUF58+fR1NTU9zJDkEgwnZvRwmyUqT4yV9nAr4GUX927dqFjo4OqFQqGI1GnD9/Hl1dXZidncXGxobQS48rxEp4vJGRkYGqqiq0t7ejtbUVSqUSS0tLOHv2LHp6eqDT6WC1WuO2vkQqu0X7nBPvn4aGBnR2dqKhoQESiQTj4+M4c+YMBgYGsLS0tCWUOpjCc+LECTQ2NqKurg5PPPHElr+//fbbaG9vh0wmw7Fjxzz+duTIEdTX16O+vh5HjhwR5o3GCEmFJ8YgG2IkdzDEA2hubo63BxDAQ+FZ7AErkUUcKbGxsYGuri4PxSKcmIdI4X1M92ZgMy3Fi+e6cVdbKcpyhWu4DUXh0el0mJ6eRnt7e8I0/WamyPCRjlL89C8zmDZaUZEXfN3+1B/38eorufcnlvC+9shkMhQUFKCgoMBjmmhoaAhOp9OjnBKrc5No5oixJGdpaWlQq9VQq9U+e7Vee+01XHXVVdjY2PDrxk7TNB588EGcPHkSZWVl0Gq1OHDgAJqbL03mVlRU4Nlnn8WTTz7p8Vyj0YjHHnsMZ8+eBUVR6OjowIEDB6JmLSI0koQnxiCkI9wfNEkSBwCtVhvSRSiYwiNZ7AWb3wDIwre0J/46LS0tyMnJ8Th2PBQe4FL45/r6Ohf++d3fDYFlgQeurxL8mMEID8uyGB4exsbGBrRabURjqQzDCFoC4LP+j2lK8dypWTx3ehbfuLU+5GN49/6srq7CYDBgfHwcCoWCG69OtB6ERFB4Aq3RV5I4mSYaHx+HXC73ODfReq+JVNKKJ3x5//T19eHZZ5/F6dOn8eUvfxkf+tCHcMstt6Cqqop73unTp1FXV4eamhoAwMGDB3H8+HEPwkMe730eXnvtNezdu5druN67dy9OnDiBj370o1F8p8IhSXhCgBA/cOLFE84mt7Gxge7ubqjVapSVlYW8nmATRNRiD5iam0NeF3Ap/kCv1/sMT40H4SHrunDhAjIzM7lm4KV1O355TocP7SoRVN0BghMGl8uFrq4uKJVKtLa2RvSdYlkWLMuCYRg4nU5QFMWZoEUTBVkp+OD2QhzvWsSDN1QhNz18G33vtOpA6o/YkeiExxu+lDlCfqxWq8fou5BeMknCEx7kcjnuv/9+3H///bjlllvw2GOP4b333sODDz6I+fl5fOMb38Bdd90FnU7nMTxSVlaGU6dO8TqGr+fqdDrB30u0kCQ8MUa4ienLy8sYGhraopwIBvMiKIs+rP4dmqbR29sLuVzuNzw1HoTHYrHAYrGgpqbGw5PoJ3+egoth8dkbqgQ/ZiDCQ0p9VVVVWzySQgXLsnC5XJBIJEhJSQFN02AYBjRNg6ZpsCwLqVTKkSAh1u+OT15Vhpe7FvHiuTl89vrKSN6KBwKpPwzDID09HSqVKuHUH7EgElLmXU5ZW1uDwWDA1NQUN2qtUqki9pJJBOIodthsNrS2tkKj0eBLX/oSv1ihKwBJwhNjhOq2zLIsxsfHYTQafSonQkGysNmwzIRIeHz16/h8/b8ZD8YKer0ew8PDSEtL8yAXRosDR8/O4oM7ilAh0GSWO/ypaEajEQMDA9i+fTsnQYcDouiQxk6yMRBSQ9ysCQECwBEjIdWf2oIM3FCXh1+cncPfXVOOFJnwd+Te6s/U1BTW1tYwOjoKm80mut6fRNiohVqjRCJBTk4Od/PlcDhgMBg4L5msrCzu3IU6+p5UeCIHueEhSElJ4fYOtVrN9fwAwOzsLNRqNa/XVavVePPNNz2eu3v3bkHWHAskCU8IELKkxQfEmTgjI0Ow4Eh/uDShtZ33c0JRnSIx5AsF7qU1rVaLs2fPevz9p+9Nw+Zi8MD1wk1mucOXQkIazCON0vBHdtxBviPkYkdUH3f1hzwuVPXHG/dfpcZnft6D3/Uu4c7W4rBfhy8UCgVycnI83Grde3+IwpBUf/wjWqRMoVB4eMmQZtqenh6wLMudGz5BmolCeMRmUcIXWq0WIyMjmJiYgFqtxtGjR/HCCy/weu6+ffvw9a9/HSaTCQDwhz/8Ad/61reiuVxBkSQ8MQZfwrO+vo6enh7U1NSguDj6mwm12AM2pwpI2erQ7I1g/Tq+EIuSlnuyuK/S2qrViZ+fmcEHWopQWxAdjwr3sXRibuh0OqHRaCJSIfiQHV9wV3X8qT/upa9Qpsw6K3PQWJiB507P4o5dRTFVN7zdaknvTzzVnytJ4QkEiqKgVCqhVCpRXV3tEaS5traGjIwMjgD5unYkwucIiJeYBfv9ymQyPPXUU9i3bx9omsahQ4fQ0tKCw4cPQ6PR4MCBAzhz5gzuvPNOmEwmvPLKK3j00UfR19eHvLw8PPLII9BqtQCAw4cPJ1RmV5LwxBh8CM/8/DwmJiawc+dOv6OFQkOy2AOmeGfQx7lcLvT29kKhUPjt1/H5+lEmPDabDRcvXoRarfbr5vz8qRlY7LTgk1nuIITB6XTi4sWLUKlU2LZtW8Q9DaQvJxSy441A6o+3EsQ3I+gTV6nxjVeG8ZcJE66tid+Fz733x1v9IdNFsVB/xL5Rx2Pk2ztI02KxwGg0or+/Hy6XizM+JE7CYiUS3iBJ6WJFoO/i/v37sX//fo9/e/zxx7n/1mq1mJ2d9fncQ4cO4dChQ8IsMsZIEp4YI5AXDsMwGBoags1m48anhYZPHyDbKqiVKbC7PhbwuXz7dXwhmoTHZDKhv78fzc3Nfv0gLHYXnvvrDG5qzEdTcXAVK1xQFAWr1YozZ86grq6OSx0PF6Q5Gdg6IhopvNWf+fl52O12yOVyrvwVrPT1geZCfPePE/jZaV1cCY87fKk/RqMx6upPIpQ44m3qR1EUMjMzkZmZiYqKCtA0DZPJ5OEknJKSInriCPhPSo834n2OxYwk4QkBQjX7+VJ47HY7urq6kJ+fj6ampqh9YX3dQZH+nUAKD+nXCbfpNlqEZ3Z2FrOzs0HN+46e1WHF6hTUVdkXLBYLlpeX0dHR4TPAlS/CLWGFe6yJiQmsra15qHbe6g9wSR0ij1HIJLi3oxTff3sKE4YNVKuip6CESyi8p4uipf4kgmGe2MpFUqkU+fn5yM/PB7B5UzU9PQ2TyYTTp08jOzubI6fRuAGMBGJVopI5Wv4hrm/QFQBfJS2iUDQ1NXGeF9E8vjfxkCx0AQDY4l1bHk82w+Xl5YimxIQmPO79McEMGG0OF3763hSurcnDrrLwJ6QCgeSGGY1GVFVVJQzZIUaWCoViiy+Qu/rjTnzIpknUn3vaSvDDd6dx9Owc/mmfMCGs0QIf9ScvLw+5ubmivHuPFGIjPN5IT09Hbm4u0tLSUF5ezhkfTkxMQCaTccaHGRkZcX8fYiY8ieLcHmskCU+MIZVKYbfbAWxefKanpzE/Px+zeAFfChM13w02uxxI9yRbpF8nJSUlpH4df8cVivA4HA5ODQvWHyORSHDs/Bz0Zgf+4+4qQY7vDYZhOPfrysrKiPt1YkV2yOdYXFwcMMXeV+OzOwlSKoC9TSoc717El3ZXISMlepcVoT8Pf+rPxMSEh/qTlpYW9NhiJxNAYqyREAlvcmq322EwGDA5OQmLxeJhfCiXh29+Gck6xUiKLRZLMjjUD5KEJwQIOZZOJookEgk6Oztjdqfgi3hQCxe3lLNIv05FRQVvj4ZACDVU0x/W19fR3d2NhoYGFBQUBH08zQI/+ssU2sqz0VklfN4LSV4vLCxEZWUldDpdWMaSgHDNyXxgNpvR29uL+vr6kFRFX43PDMPgox0l+H3/Ml6+OI9724sFGXuPNYKpP6S8ksjqTyIQHn9rTElJQWlpKUpLS33mSLmPvsfiPYq1adlqtSYJjx8kCU+MIZVKYbPZcPr06bCaf4U4vseGbFuDxDQB185LWSjEtC9Skzx3CKHwuId/8v1B/2WexvyqHY/dHtmklC8Q8tXY2Mj1IIQy1u2OaDYne4M0iO7YsSPiCyO5E9dU52N7aRZ+eWEBH9WUcueapumYRV4IjVDVn0QmE2ICn1KRrxwpo9GI2dlZrK+vIzMzkyOv0TJrTZa0Eg9JwhNjrK+vY3FxERqNRjAyEQq8iQe12A0AYIp3cf06BoMBWq02ZIfUUI4bCliWxejoKNbW1qDVannL1zTD4tVRO7YVZ+CGOmF7oxYXFzE2NoZdu3Z5WAeEQ3hIc3C0VR0AmJ6extLSEtrb2wU9vwDw8c4yPPzrAZydMePa2ryomh7GGt7qj81m8/D9yc7OBk3TCZEanQiEJ9QGZblcjqKiIhQVFYFlWZjNZhiNRvT19YFhGG70PTs7W7DvnZgJT1Lh8Y0k4YkRyKZtMBiQn58fF7IDbFV4JPMXAQDOghb0dnUhJSUlKq7O4RIel8uF7u5uj/BPvnitfwnzFgZf2Rt60Ko/kKgPk8nkk3yF4igdy34dhmEwPDwMl8uF9vb2qFyob20uxHdOjuLnZ2ZxbW2e394f8v1LZPUnNTV1i/ozMTGBlZUVLC4uxiRV/HJFpGPVFEUhKysLWVlZqKyshMvlgslkwtLSEkZGRpCamsqdn0iUELGWtCwWS3JKyw+ShCcEhPsjdDqd6O7uRlZWFlpaWjA+Pi7wyvhji8Kz0A1aWYYzvWOC9evwOS4fWCwWdHV1obq6OuSwTZZl8d/vTKA0U4qb6oW56yYhqQqFwi9p4KvwxJLskIiS3NxcNDY2Ru1YCpkE97SX4r/fmcKMyYpytyR6994fuVzuMfF1uag/a2trSE9Ph1KphMFgwNjY2GXT+xNLCD3eL5PJUFBQgIKCArAsy7lyDw8Pw263h+3LJNam5WQPj38kCU+Usba2ht7eXtTW1qKoqAhWqzXsplYh4D2WzujOw6QoR3Nzc1RVp1AJD/H92bFjB5RKZcjHe2vEgMEFMz7fkQUhtnc+Ts4AP8ITy+Zkq9WK7u5uVFVVoaioKGrHIbi3Q40f/Xkavzijw9du8T+iHizyIhHVH3I+vdUfkvju3vuTVH/8I5qlIoqikJ6ejvT0dJSXl4OmaW703d2Xic/5EXNJK6nw+EaS8ISIUHo0dDodpqensWvXLo5xh5qWLjTIWDrLspgc7ELT2jSy33cfEOUSG99SD/GzWVpaCtv3h2VZPP32BEqzU3FDZVrEzdKrq6vo7e3Ftm3bgubGBPt+xLI5eWVlBQMDA1Ens+4oUqZgT1MB/ufiPL6wuxrpiuB3wP4iLwgJIp8XIUaJBIlEgtzcXK63h/T+JNUf/4hlY7VUKuWaz4FL52d8fBwbGxse58e7ryicXqNYwGKxROQDdjlDfGfrMgAxxXM4HNBqtR4/CjEQHpLzlL+26bBMlXVADNsIGdWXSqUR+f6cnVrBhZlVPLK/EXLpakSb5Pz8PCYnJ9HW1sbrrinQ+H0sm5Pn5+cxMzODtra2iBLaw8HHOtU40b+E3/Yu4p720pCf70v9cTqdMBgMKCwshNPpjLr6w7AsbE4GUgmFFBm/Y/DZqIOpP+6J71eq+hNP5cT7/KytrcFgMGBqaoorXapUKmRmZopW4bFarTEJnE5EJAmPwLDZbOjq6kJRUZFPU7xYpIYHgsvlwszMDBoaGlBueQMsKLCl7XFbDwEpGZWWlqKioiKi13r6nUmoMhS4u70U4yPrYX3epMl8fX19C2kNBF8KT6xjIsbHx7G+vo729va43IG2l2ejqTgTPz89i7vbSiJ6v4Sg9/b2oqioCKWlpVt6f1iW9Uh8jxQ2J40/j5uwbHYAAHaUZqG5RPg7Zn/qz/j4OKxW6xWr/oiFSEgkEuTk5CAnJwfApueW0WjE9PQ0zGYzAHC9P0JPPEaCZEnLP5KEJ0QEKlkYjUYMDAwELH3E865Nr9djZmaG2ziod86BLWgCUuIrf5JoDT4lo2DonVvDu6MG/OOeOqTKpWGNibtcLvT09CA9PR1tbW0hnTPv48U6JqKvrw+pqanYtWtX3L5rFEXhPo0ah18dwvmZVXRU5IT9WhsbG+ju7kZtbS1nNBmo98flcnHKT7ib5sXZNZgsDhRlpYBmWHTp1qDKUKBIGbi8GmkpJpD6Q2IVrgT1R6zhlwqFAsXFxSguLgbLsujv7+cGAliW5WwLlEplXAnbxsaGh1VGEpeQJDwCgPSdLC4uoqOjI+YlhGAgd/1GoxH19fWw2WwAy0Iydw5M0+1xXdvs7CxmZmYEi9b44TuTyEqV4T7tpqFjqIqa1WrFxYsXUVlZidLS0Msx7oQnls3Jdrsd3d3dKCkpibmZpS/s316E75wcw9Gzc2ETHtKD1NLS4rNx3V/vT6S+P8tmB5Rpm3YDUgkFKUXBYncBCN5PJtQ5vpLVn0QIYaUoCjKZDMXFxcjOzobT6YTJZML8/DyGhoaQnp7ONT/Hej9IKjz+kSQ8EYLkTSkUCmi1WtH9UIlakZaWho6ODhgMBlgsFlDGMVC2FTClHXFZF8MwGBoagt1uR2dnpyAX7TG9BX8YWMID11chM3Xzqx2KLw5RmlpaWjgZO1SQ48WyOXl9fR19fX1oaGiIWCETCukKKe5oLcYvzujw8L46qDJCk/wXFxcxOTmJ1tZW3kQ42OQXX/UnL12OhXU78tIVYFgWNMsiPSX49zOaDdVXkvojlpJWMLivUy6Xo7CwEIWFhWBZFhaLhVP8XS6Xx+h7tN9bcizdP5KEJwJYLBZ0d3dH1b8mEhAfm6qqKk6tIIoHpTsPAGDVsSc8JLRSpVKhqalJsAv0D9+ZRIpMgk9efakHiG+G1+zsLGZnZyNW6CiK4iaLYtGcrNfrMTY2JkhMhNA42KHGz07N4tj5OTxwfRWv55BAXYPBgPb29rBDISNRf1rLs/HOqBGLZjtYhkVzcRaKsoKrO7GaLvKl/pCx6stB/UkEhQfwT8woikJmZiYyMzNRUVEBmqZhMpm4SJeUlBSP0XehkVR4/CNJeEIEuaCRaIHt27eH5RMT7YsjcRX19rEhU2KSuXNgU5RgVfVRW4MvEF+i+vp6XuGffDFjsuKVngV84qpy5LmpCcEUHpZlMTQ0BJvNBq1WG9EGQZpnTSYThoeHkZ+fH7VNh2VZzMzMQK/XRyUmQghU56fjqqoc/Or8PD5zXSWkkuBp40NDQ6BpGq2trYJuenx8fwj5SVdI8f6mfFjsLkglFDKjmP4uBFJTUz1CNf2pP4mSryTWHh5v0DTN67ctlUqRn5/P5e0R40PvUNqcnBxBhgwsFkuyh8cPxP1LFiFYlsXw8DA3vRPOHSghHdGYoHHv1/GVh3VJ4Tm7OZ1Fxe5OipTXvPOnhMAz705CQgGHrq30+PdACg9xwM7Ozo64yZc0JysUClxzzTVYWVnh7uhSU1O5C54Q9XxSDmQYBm1tbaK+G75Xo8ZXjvXh3VEDbmzI9/s4mqbR09MDpVKJ6urqqG547uqPO+EhzeVE/clUSEJahxiCOQOpPxsbG3A4HNDr9T59ZcSCRCxphYK0tDSUlZWhrKzMJ0Elo+8ZGRlhfZ+sVmtS4fEDcX7jRYyxsTFQFBVyrpM7okV43KeL/OVhSaVSsHYzKP0A6PpbBT2+P5ARb6fTCY1GI/iPcXHNhv+5MIe72kq3TNL4a1om5b6ampqIPSu8m5MlEomHmZnFYsHy8jL6+vrgcrmgUqm4PLVQv0PuMRFVVVVx32CD4f2N+cjPVODouTm/hMdut6Orqwvl5eUhR4hECvIbcVd/3P/P/ZzyaXwW2/lwV3+cTifOnz+P1dVVTE5Oirb3J1EUHiGImTdBtdvtMBqNmJychMVigVKp5Ka/+N5cJ6e0/CNJeEJEXV1dxMaB0TAfNJvN6O7uDpo7JZFIkL4yCIplwKo1gq7BF9xJmFKpjEp55yfvTYNhgf/1vqotf/M1lm4wGDA4OBh2bIU7+DQnZ2RkICMjgwsyNBgM0Ol0GBgYQFZWFvLz86FSqYJe0DY2NtDT0xOzmAghIJdK8OHWEvzw3SnoVmxQ53gqXGazGT09PWhsbBRFw7W/wFNv9Yd8j93PudhdoCmKglwuR13dZuSH3W73mPxSKpV+XYVjiUTv4YkEKSkpKCkpQUlJCViW5YwPZ2dnAcBj9N0fKaRpOuzet8sdScITIoS48/DOs4oUS0tLGB0d5dVPJJVKkWHqBwAwUTYc3NjYQFdXFzfiff78ecFNF40WB46encXtO4o9wioJSJQGwfT0NObn58OOrXBHOM7JMpkMRUVFKCoq4i5oy8vLmJ6e5pShgoKCLXK2yWTC4OCg3xFtMePu9lL88N0pvHRhDl+6qYb7d6PRiOHhYezYsUOUd6S+Gp+9m57de3/EUNIKBO/1paSk+Oz9EYP6I+bPkSDaxIyiKGRnZ3OxME6nE0ajETqdDoODg8jIyOCan/ley06cOIEvf/nLoGkan/nMZ/Dwww97/N1ut+P+++/HuXPnoFKp8OKLL6KqqgqTk5PYtm0bGhsbAQBXX301nn76aWHfcAyQJDxxgPcmHC5YlsXY2BhWVlag0Wh4Na5KJBJkrgyCyasD0oRJEfcFEv65fft27gcbDZfpI3+Zht3F4O/9TAFJJBK4XC4wDIOBgQEwDBOxfYBQZoLuF7Ta2lrujntsbAwbGxvIyclBfn4+HA4HdDpdXGIihIA6JxU31Kvw0oV5fO6GKsilEszNzXHvKVLiGSsQ9Ucmk/lUf5xOJ0eCxahQBFqXr9KKGNWfKxlyudzjZslsNsNoNKK/vx8rKyv49a9/jX379gVUfh588EGcPHkSZWVl0Gq1OHDgAJqbm7nH/PjHP0Zubi5GR0dx9OhRPPTQQ3jxxRcBALW1tbh48WJM3mu0kPzmxgFClLRcLhe6u7uRkZGBjo4O3puuhKKgXB0E2xSd/p1A4Z9CE541qxPPn57BvuZC1Bb4HsmmKApOpxPnzp1Dfn5+xH0vZJNzv7MXCt533CaTCaOjo1yIoV6vR35+fsJM27jjI+2lePDFHvxpaBm1Ketc9EUijk0DnuoPGRRgWRYZGRkRmR5GE6EoUL7UH6PRiKmpKS5wMy8vL+zG2iQiA0VRyMrKQlZWFiorK2GxWLC4uIhjx45hamoKd955J2699Vbs27cP1dXVAIDTp0+jrq4ONTWbKuvBgwdx/PhxD8Jz/PhxfPOb3wQA3H333fjCF74g+lJtKIj/rzDBIFRJKxLCYzabcfr0aZSUlKCxsTGkNUnWZqBwroKJQv8OmbQxm80+S0ZCE57nT8/AbKfx2eur/T7GbrdjdnYWVVVVEU//uI8yC012fB1Lp9MhLy8Pu3fvRlNTE1iWxcDAAE6dOoWRkRGYTKa45rKFghvqVShWpuCnbw/D5XJh165dCUt23EGUQ4fDwZkkKhQKyOVyrnRN0zScTienNMYL4ZbciPpTW1sLjUaD5uZmyGQyTExM4MyZMxgcHIRer+d62ZKIPTIyMnDw4EH86Ec/Qnl5Ob7zne/A6XTiC1/4Atra2jA0NASdTofy8nLuOWVlZdDpdB6v4/4YmUyG7OxsGAwGAMDExATa2tpw44034p133ondmxMQSYUnDoiE8JB+nR07diArK/QMLMncOQAAK7DDMglNLSkp8Rv+KSThsdhdOPLXGdzUkI9tfoIdl5aWMDU1hcLCwog9f2LpnExiIkpLSzlDy/T0dFRUVKCiogIulwtGoxHz8/NcLb+goAAqlUqUfjwAwNAuXFcMvDTsRFpBxWWhChCCz66zswAAIABJREFUn52d7aEcuqs/crmcIz3ugafkcbFUf4TqMfJWf9wTxZPqT3xhs9mQlpaG+vp61NfX44tf/CJsNhukUil6enrCft2SkhJMT09DpVLh3LlzuOOOO9DX15dw/YRJwhMHhEN4wunX8QVKdw4uSepmaKhAWFlZQV9fX9DwTyEJz4tndVjZcOKzN2xVd1iWxeTkJJaXl9HY2IjV1dWIjhVOc3K4WF9fR29vb8CpJZlM5mFjbzabodfr0dXVBQBc43NmZqYoNhyr1Yru7m4c7KzEr0dGcOz8HL6ypzbey4oIxC1crVYHzVzjY3pIiE80yU80mqq9E8VJ78/ExMRl3fsj1jKPxWLZYvtB+v7UajVmZma4f5+dnd2SEEAeU1ZWBpfLhdXVVahUKlAUxSn2HR0dqK2txfDwMDSa6E/6ConL5xsYI8SjpEW8V0Lt1/EFydw5rCrrkS4R5tTrdDpMT0/zCv8UivDYnTR+8t4Urq7ORWt5tsffGIZBb28vpFIpOjo6YDKZwr44xTLpHLgUE7Fz507eMRHutfyamho4HA5uw7FYLMjOzubG3uNRQlpdXUV/fz+am5uRnZ2NGxuMeLlrHl+4qRoKaWJW1K1WK7q6ulBXV8e55/KFv8gLd/WHOHYLrf7EYoosmPoTqameWCDWibxAsRJarRYjIyOYmJiAWq3G0aNH8cILL3g85sCBAzhy5AiuueYaHDt2DDfffDMoioJer0deXh6kUinGx8cxMjLC9QIlEpKEJw6QSqVwOBy8Hkv8dYQwyIPTCmqxB2vqDyFS6z/38E+tVsvr7k0ownPs/Bz0ZgeevHu7x7/b7XZcvHjRo6wW7jGj2Zzs61jT09NYXl5GR0dHRB4aCoWC8/EgzabLy8uYmJiAXC7nHJ9j4cS6tLSEiYkJjwDQj7SX4o9Dy3hjcBkfaCmM+hqExtraGvr6+gSzB4il+hPrTdqf+kNM9dwzv8j1Q6zKiTfEOom3sbHh92ZJJpPhqaeewr59+0DTNA4dOoSWlhYcPnwYGo0GBw4cwKc//Wl84hOfQF1dHfLy8nD06FEAwNtvv43Dhw9DLpdDIpHg6aefFoVvVqhIEp44gO9YOsnrCrdfxxvUYjcoxoVVZSMioU5Ezs/Ly/v/2Xvz8Lju+uz7c87smk0aSaPdWm3Lli1b3rKRhCwQcCDlIQECdCUsD1ta6P7Q8qTwFGgL9H1bCn0o9C1tgUACIZQlAZImgYQkTmwttmVZsrWvs2g0+3bOef9QzngkjaSZ0Ywkg+7rynXF0oxmOef8zv37fu/vfecU/lkIwhNPynz5FyMc2WXnmqYrY/V+v5++vj7a29tTDseQ2XhwPaQ7Jxeb7MiyzIULF1AUpeAxEctHjSORSMouIBaL4XA4qKioKEqC89jYWCrnK53A3dDqoNZu5KHTU1cd4fF4PAwODnLo0KGiEMb1qj+qhizf6s9WG/plU/1Rz9Xtju1KeNaLlTh58iQnT55c8rNPfOITqf83Go089NBDK5539913c/fddxfujW4RdgjPFmC9lpYaxeD3+/PO68oEcXJRsByw7837gg0EAvT19dHW1obTmdsNqxCE57tnppjxx/g/v7E/RURmZma4fPkyhw8fXrG7yfU1l5OdYkJtVTocDhobG4u++zaZTDQ0NNDQ0IAkSXi9XmZnZxkYGKCkpCQlfN6IL46aNZdIJDISOI0ocE9XDf/w1DCj3jCNjqsj80f1DdrMoNZCV3+2U2TDetWfCxcubGvtT7bBoZuNYDC4k6O1BrbfmbTNUWwNjxpoabVaN5TXlQnC5EsopY1IRkdehEetOHV2dubljLtRwhNPyvzfn49wuN7Oq1odKSH3wsLCqsRwvbT0dKSLk4tNdsLhcKpVmStxLAQ0Gg2VlZVUVlaiKAqhUAiXy0VfXx+yLKeEz1arNetzUJIkzp49i8ViYc+ePas+781dNfzT0yN85/T0thcvqwJ4n8+3pb5Bq1V/0p2f19P+bFfdCVyp/lRUVHD27Fmqq6tT1Z/0bLrtov3ZzhWebPV/v47YITxbgNUIT0H1OhkgTr2M3HBdzuGl2RCLrF5/gw7Tj3RPMbUQ5a/e2I4sy/T19WE0GtckhmulpavYbHHydouJEAQBi8WCxWKhubmZRCKBx+NhbGyMQCCAzWZLCZ9XO2fUUfpsppacVgM37ynnu93bW7ysKEoqlf7QoUPb6ga3XvUnmUymHqM+bjsTHhUqaVte/VkeqFlRUbGl1Z/tSnjWEi3vYIfw5IV8dCHpyER4Cq3XWQH/JEJgGrnuWE6VlvTwz41WnERRJJFI5PVctbpzqN7G8Xozp06dor6+nvr6+nVfc61jtZniZFhsjUxMTGzrmAidTkd1dTXV1dUoipISPqsZS6rwWd1JBoNBzp49y+7du5fop9bCW14RL//3gJs79m8/LU96taqlpWVbE4Vsqj9AwQOLi4FMRCI9UHO59merqj/bmfDsVHhWxw7h2QKkh4cWS6+zHOLIojOm0nAtmhkpq8Vvefjnht/DBlpa3+ueZtIX5Y9e3cDp06fZv39/VgLHtSo8mylOVqtkoVCIo0ePbsv+fyYIgpDabbe1tRGNRnG73QwODqZMzgKBAJ2dnTlVq17V6qDaZuCh01PbjvAkEgl6enqorq5el1BvR2Sq/qhmlQaDgXg8XpSx90JgPSKRSfuzvPqjGh8Ws/qjbpC2G3YqPGtjh/BsATQaDclksqh6neUQLz+BYqlCcXYgzp1dl3h4PB4uXLiwJPxzw+8hT8ITT8p86Zlh9jlNlEYm6crC82e910wnO8VuY6nVgpKSEjo7O7d1tWA9GI3GVGVtcnKSkZERysrKOHfuHCaTicrKSioqKtYVPqvi5S88PcLEfIT6DEn3WwHVJLGlpSWjO7c3FOfJATfeUJym8hJu2l2OUbd9yata4RweHgagqalpSeDpdsv8yrXttlr1Z2xsrKjVH1mWt+WmJRwOZ11l/XXEDuHJA4VoaSUSCU6dOlU0vc4SyEnE4aeR97weBGFJhWk51PDP2dnZjHlYG0G+hOfbL08wtRDlt6+zcuLE0Zx2bpmO1WaKk2OxWMqRd7mr6dUK9Qa6sLDANddcg1arRVEUwuEwLpeLs2fPIkkSDoeDyspKbDZbxpvNm7tq+OIzIzx8Zpo/uHXrTcxUl2vVJHE5IgmJh05PEU8qWI1a+qb8hBMSbzpUswXvNjvIspwio62trQivXP/q79L/U8nGVpKfjbSKNrP6s11bWuuNpf+6Y4fwbAFcLhfBYJDrr78+r2mnXCFMnUaI+pBbbgNWFw+ri6MgCBw/frzgF3Q+hGchHOUfnhjkgNPA77w29/eU/pqbLU7OJibiaoMalqnRaDh8+HDqOxQEAbPZjNlspqmpiUQigdfrZWJiAr/fj9VqTQmf1bZttc3ITW2L4uUP3tyEbgvFy16vl4sXL67pcu0KxAnFktTYF6tRNTYjl1wh4kkZvXb73fwkSaKnp4eKioqM+XbLW1/qc5ZXf1SCtBk3+EISieXVn0AggNvtLkj1Z7sSnlAotKPhWQM7hGcToSgKg4ODBAIBzGbzppAdAPHykyiCiNx00+K/MxCP9PDPhoaGopCBXEbEYbE8+5nvnmIhpvDluzrzWmDUCs9mi5Pn5ua4fPlyTjER2x2qb1B5eTm7dq0dAKrT6aiqqqKqqgpFUfD7/UtuNqrw+Z4jNTz1LQ9PD3q4vX1jAa/5Ynp6mvHxcbq6utasaOo0ApJype2SlBVEQUAjbr8WpWoOWl9fT03N+hUo9dpKJ0DpxGezqj/FmiQTRRG73Z6q3G20+rNdCc/OWPra2CE8mwRVr2Oz2Thy5Ai//OUvN+21xUtPotQdA9NiqXf5lJga/rncpbjg7yOHCo/X6+XFnvM8Pipxe3vlisysbKESns0UJ4+OjuLxeDYcE7GdoGpbmpqaqKqqyum5giCkbjatra3EYjHcbjeXLl1CHwzhMIl8/fkRbtnt2HRdxMjICF6vlyNHjqx7o6uyGdhXbeH8dACNKCLLCq/ZV7ntCI+6eWltbc0560tFJuFzOglKJpOp9lghb/ybRSQyVX/StT9q5tdqAby52HpsJnZEy2tj+x2xqwC53jBVd+LW1tacbxYbRsiFONNN8qY/S/0onXio4Z9dXV1Fv1CyJTzj4+NMTU1xKuQgkpjiI7dtzJwukUgwNja2ZJS6GFBjIoCCx0RsJdT8qH379qX0ERuBwWBIaZpkWeaNC/38+0tz/PiZF6grvSJ8LubYfroj9OHDh7M6VqIgcPJAFXurLARjSSothm0jtlYRCoVSESuFOFaQeew9feS9kMLnraicpFd/0gN4R0dHV63+bNcKz05La23sEJ4iQ409yNedeKMQh58CSOl34EqF58KFC0Sj0azDPzf8XtYhPCphSCQS1LQd4FuPP8+bDtfQ5szve1P1CEePHsXtdnPx4kVisRjl5eVUVFRgt9sLtmipFTxVL3E1T2KlQ01wL2Z+1G9e38q/vzTHMNXcurcat9vNuXPnSCaTKeGz3W4v2HcqSRLnzp2jpKRkTUfojO9XENid5/lYbKjJ9AcPHizqWqNWf7Ra7ZLqT7rfT76Bp9vBHDE9gFdtxy6v/qiWDNsNOy2ttbFDeIqEdL3Oav46m3Fxi5eeQCmpQKk+mPqZLMuMj49TW1vL3r17N22BWYvwqN4nDoeDffv28effO48gCNx/S+7VneXi5EwZUtPT01y4cAGLxZLKkMq3/aTuqrcqJqJYGB8fZ3Z2tuitubpSIze0Ovhu9wzvv7mJXbt2sWvXrpR3zOTkJP39/VgslpT2J9/3oxJTp9NJQ0NDgT/J1kENNk1Ppt8MpFd/dDrdqqaH2VZ/tlvlJL0dm179mZmZwev14vF4NsX3J1vsGA+uja0/Qr+CUG/edrt9VX8ddTS8qJoFWUIcfgq59TYQFheRQCDAyMgI5eXltLZubo7RaoRHjdRQW34XZ4N8r2ea37tuFzX23Noa601iLc+QCgQCuFwuxsbG0Gg0K1yE14PX62VgYIADBw4UxyF7C6CS9VgsxpEjRzblBvTWo7Xc/+2z/GLIy6v3LOpOtFotTqcTp9OZOlZut5vu7m6A1LFaTWexHKq2pbm5+VeKmM7MzDA2NrapwaarYTXtT7bVn+1GeJZDrf4Eg0HKy8vRaDQ5aX+KjZ0Kz9rYITx5YK0TOVu9jjoaXkzCI8z0IES8yC23AlfiK5qamkgmk0V73dWQifC43W4GBgbo7OxMEYa/f2IIs17De29syunv52omKAgCNpsNm81Ga2vrChfhsrIyKisrKS0tzbgIT05OMjU1xZEjRwrqV7SVUE0SzWYzBw4c2LRF++bd5ZSb9Tx0eipFeNKRfqzUnbbb7WZ4eJhQKERpaSkVFRU4HJmFz8FgkL6+voLpkLYLxsfHcblcWYmuNxurVX/U6zRT4Ol2aGllA1W0bLPZVlR/xsbGCAaDKe1PWVnZpg0vxOPxLSe92xnb6wq5ypGLXmetxPRCQbz8JAoCUtPNXBoawufzcfz4cXw+H/Pz80V97YzvZ5knzujoKHNzcxw/fjx1kb485uPJATcfua2VspLsL9xCOCenuwirra/Z2VkGBgYwm81LWl9DQ0OEw+EtTdAuNNRR5pqamk2PVNBpRN58uJqvPjfGrD9GlW1tAqnX66mtraW2thZZlvH5fFcmv/T6lPDZZDIxPz+fItW/KrtfRVG4fPkyoVAoa9H1VmO9wFNJkkgmk1fFZGOmSlQ22p/NqP5cDefCVmGH8BQA6sRHKBTKOg9rUwjPpSeQaw7TfXEck8mUak9sxmtngpprJcsy58+fB+DYsWNL0pw/99MhKi16fvvalUZpq6EYzsnLW1/BYBCXy0V3dzfhcBiLxUJ7e/uvzOKi6pByCQAtNO7uquVfnh3jke5p/udNTVk/T72ZqOaOkUgEt9tNf38/4XAYSZJob2/fliLTfKAoSmoa8ODBg1dFRWQ5Mk1+RSIR5ubmaG1tJR6Pp36/HSIvlmO91ttq2p9iVn824v7/64IdwpMH0heYeDxOb28vpaWldHV1Zb34FJ10hL0I02cY2/VWqqqqloR/biTEcyNQCc9LL72E0+mksbFxyff11EU3L4/5eOAN7ZTo16+abJZzsiAIWK1WdDodbreblpYWNBoNly5dIhwOp1pfZWVl225hzgbz8/Op3LTN1iHN+KM8ddFDOC5xoNbKNU2lPHxmmvfe2IiY5/FUReqKouByuairq8Pj8XD58mXMZnNK+3M1lv5lWU61HLd7insuiMfjKcJdVlaWsfqT7+RXMZCr/nIzqz+/KudEMbBDeDYAVa/T1taWswiy2IQn1PcDDIqM7eibMS9LOl8rS6uYCAQChMNh2tvbVxiiSbLC5382RKPDxD1H1k9m3+yYCNWLpr29PZXSrvrIzM/P43K5uHjxIiUlJal2ytVwQ1UFr11dXUX1vcmE+XCcf31uHACDVuT7vTMcqrPxwoiP5y55eVVbfpWmdNG16odUXV2dqtS53W56enoAUhYFVqt1298oksnkEuuDXxWEw2F6e3tXeAelV38kSSKWkJATCfRacYX2Z7OxkbT0TNUfr9ebqv6oMSy5Vn92KjzrY4fw5Inp6WmGh4fz9tcpFuFRFIWxsTFs53+EbCzFvPvGFY9ZLUurmFAF0yaTKaP763/1zXBxLsTfv+XAuplKm5l0DldiIjJ50aRn8iiKQigUwuVypW6ouU4SbRYURWFkZASfz7dlgtdhd5hYQqLuFfM+nUYgnpQpK9Hx7dNTeREeNQ/OaDSuEF2rlTqr1Upzc3OqzfDi+cs8PxpA0Rq4vq2Smzsatp0AONeoiK1EMJYknpQpLdGtW6VTxeQdHR3YbLaMj1EQeOyCh1MjPhRF4ZqmUm7b40ht2pLJZKrys1nkp5DTZHq9nurq6hQpV6s/4+PjCIKQdfVnR7C8PrbXVX2VIBAIMDMzw4kTJ/JeGItRZUlpYxSZ3YE+5OZbQFxZdt3MlpYqrpyfn+f48eOcOnVqxWPiSZl/ePISHTVWXrd/bSfqzSQ7qrDa6/Vm5UUjCAIWiwWLxZK6oaZPEpWVlaV2blspdFYNHgVB4NChQ1vWItCIAgpXdqWSrKDXirzpUDX/8cIErkCMSmv202/JZJKenh4qKyuzqoDo9XpEs4MnZnwMBxIEo0meGRune2iCW5qvtL622qo/EonQ09NDW1tb3lERm4Wf9M/xzKAXUYDaUiO/eaIeiyHzGqkaJa4nJn9xdJ7nL89TV7pYgfzlsI9Km5Frmso27PuTL4o1Pp9e/QEyVn9U35/l61E4HP6V0akVC1vfDL0KYbPZOHz48IZ2gYWussRiMU6dOoXVauVABQghF3LrrRkfu1miZUmS6O3tJR6Pc+TIkVUJwzdPTTDpi/KHr2lDXCOXSJ3igCsLWrGgksdwOMzhw4fzEhaqk0SdnZ1cc801OJ1OPB4Pp06doru7m8nJSWKxWBHe/epIJpN0d3dTUlKy5aLrNqeZcrOByfkIc4EY8+EEt+2t4C1HaknKCo/0zGT9t6LRKKdPn6a+vj6ndk//TIBLriCyAk6bEYfFxPNeI1WNbYiiyMDAAM8//zwDAwN4PJ5NbwUHg0G6u7vZt2/ftic7F2eDPHXRTbXNQI3dyJQvyg/7ZjM+1uv10t/fz+HDh9ednBvxRLAatYiigCgKWIwaRj0RYHEd0Ol0GAwG9Ho9Op0utaGTJIl4PE4ymSzKcduMiq1a/eno6ODEiRPU1dURCoXo7e3l5ZdfTmXBSZK0bqzEY489xt69e2lra+Mzn/nMit/HYjHe9ra30dbWxjXXXMPIyEjqd5/+9Kdpa2tj7969PP7448X4qJuCnQpPntjoyV5I0rGwsMDZs2dT4Z+a5/4fAOSWWzI+fjMqPKrJW21t7ZqOtr5wgi8+M8x1LQ5uaM3cwthsvU4xYiLSJ4kURSEcDuNyuejr60OW5VQ1QdIa+cUlL/5IkvZqM0caSgv2eaPRKL29vTQ2Nm5+plsGmPVa7rthF2fGFogkJPZUWWgqX6ymnGgs5eHTU7z7hl3rtkXUCbO9e/em9FW5wB9LUmtbrB5oNCKKrOBPCOxLsyhYrtNSj1cx/Zd8Ph/9/f1Fj4ooFFzBOBpBTIWpOkp0jM9HVj7O5eLy5cvrptOrKDfr6Z8OUFqyuOkIx2XKzSs3IJkmv7ai+lMsrFb9+eEPf8hnP/tZ2traiMVizM/Pr7gOJEnigx/8ID/96U+pr6/n+PHj3HXXXezfvz/1mK9+9auUlZUxNDTEgw8+yJ/+6Z/yrW99i/Pnz/Pggw9y7tw5pqamuP3227l48eJVacexQ3i2CBqNhkQiseG/MzU1xejo6JLwT/Hyk8jVnWDOLKQuNuFRCdi+fftSo8LpSDcX+8f/voQ/kuDP7tid8XEDMwGmFiKUmrR01NjQFjmZWr15tra2UllZWZTXEAQBs9mM2WymqamJRCKB2+3mwtAw3+hdICnosFtN9Iz7CMYkbt698Z19IBBIHZPtZLxnMWi5cfdKonvPkVr+5JHzPD88z/UtK88hFT6fLzVhlg8pONxgx6zX4gnHMWg0SIpMXakJa1obJt2BW9Vpud3uFFlVhc82m61g5NTtdjM0NLTpUREbQVmJjqQiI8sKoijgiyTYsyx3bGZmhvHxcbq6urLWm9zQWsYlV5ApXxSA+lIT161xTqhY7vuT/h9cER5fjeQHrlR/fuu3fou3v/3tfPOb3+QrX/kKb3jDG9BoNNxxxx28/vWvp6urixdffJG2tjZaWloAuPfee3n00UeXEJ5HH32UBx54AIB77rmHD33oQyiKwqOPPsq9996LwWCgubmZtrY2XnzxRa677rqt+Ngbwg7hyQOFWNQ0Gg3RaDTv5yuKwsDAAJFIZGn4Z3QBYeIU0nUfXvW5qqNpMTA9Pc3IyMiq6euCIKQIz8BskG++NMm9x+ppr145Dv2z/jl+fG4WrSiQlBWON4Z4y5HaolV4tiomQqfTUVNTg1s2YyqdoNwIoVCYWMjPw88t0GqKbig9XL15FisAtBh4zb4K7I9peej01KqEZ25ujuHhYQ4fPpz3d1Nq0vHAnXv5wtPDJJIyNpORkx3OVVPQ03VaKllVBaaBQACbzUZFRQXl5eV5t7ynp6eZmJjYsqiIhCRzYSZILCnTUGZa1wRSxb5qC9c3O3hxxAcCVFr0nDx4pZI4OTnJzMwMXV1dOX03i5XARqZ8UQQBau3GdQcblmM5+YEr/l3p0RdXKwHSarW0tLRwzTXX8KUvfQmXy8VPfvITvvzlL/PFL36RycnJJZX2+vp6XnjhhSV/I/0xWq0Wu92Ox+NhcnKSa6+9dslzJycnN+eDFRg7hGeLsJGWlprVVVpayuHDh5cQAHHkGQRFSsVJbBYURWFoaCgVlrragqZWlwRB4K9/PIDVoOX+W1tWPC4US/LTCy5q7EZ0ooAMnBlf4Kbd5VTbCj8+vR1iItTDaDSaMBpNWO1l+ELRVLq3JEk5VxMmJiaYmZnZFjlLucCg1fCmzmq+fmoSdzBOhWXpex8fH2dubm5NbVi2OFhn4+/evB9XII7ZoMnp/NLpdCsmbFwuF6Ojo2g0GsrLy6msrKSkpCSr4zU2Nobb7c6ZFBQKCUnmX58bY8gVQhRAFETedV0Du6vWr54JgsAbO6u5vtVBQpIpN+tTxEQV/x8+fDivVoheI6banRuFSmZWq/6oG7KrjfyEw+HUhqayspJ3vvOdvPOd79zid7W9sEN48oRaqcgX+RKe5UGbyyFefhLFYEOpO5b3e8sVyWSSvr4+SkpK1jVfVAnPzwY8vDA8z8fv3LsiQkKSJKLxBCjKYgtLEBBZ/M4TUmErU6pnSzQa3ZKYCEVRCMSSyAo0lZtwmPXM+KPotSKhmMSdB6ppbCynsbGRRCKB1+tdUk1Q4y6Wv2+VgEYiEbq6urZFv129XrKt0N1zpJavvTDBoz3T3HdDY+pvqIaPqsdOIWAz6rAZN0aclmss0rPZIpHImgaV6Z9rK6MiBmaDXHKFqS81IggCgWiS7/XO8Mevacv6b5Sbr1zP6REYWzkRuBZWCzxdXv1Rr6HtZC+RjrWS0uvq6hgfH0/9e2Jigrq6uoyPqa+vJ5lMsrCwQHl5eVbPvVqwQ3i2CPmMpc/NzTE0NMTBgwczt1wUZVG/03wziJtzaCORCN3d3TQ2Ni5xc14NoigSiMT51GMXaa+28LajVy6c9IXGatTSXFHCiDtCmVlHIJrEYdbhtBauSpFMJjl79iwWi2VLLPolWeGR7mleGFnMNWuvtvA71zbw0qiPhWiC9iorh+uveJPodDqqqqqoqqpCURQWFhZwuVwMDw+j0+mWGB6eO3cOk8m0LaIHPME4Pzo3S9+kH51G5I4OJze2OtZ9X62VZo7usvPt09P83vW7QFE4f/48Op1uW3yu9ZCezaYaVKoEyGg0LhE+qzYBW/25ogk5VWlUFAWjTiQQzS9oWI3ckSRpyz9XtsgkfF4uelYr1Nst2T29wrMcx48fZ3BwkOHhYerq6njwwQf5xje+seQxd911F1/72te47rrrePjhh7n11lsRBIG77rqLd7zjHXz0ox9lamqKwcFBTpw4sRkfqeDYITxbhFzG0tO9bI4dO7Zqa0Jw9SMEpjetnTU/P8/58+fp6OjIWggriiL/9Mwoc4EY//i2TrSaKzla6ZNYoiDwzuP1/PDsHCOeEG2VZt7YWYVBW5hKhTqx1NDQsGVGbi+N+nj2sndxNw30Twepts1z54HqdZ8rCAKlpaWp7z0SieByuTh37hx+v5/S0tKiia5zwRMDLr72y3EmfVHsJi0H62x8r3uaUpOWzjr7us9/69Fa/vSRfp4bclMSGKe8fLHadbUh3aASSAmf1eNlsVhoa8u+irIcY94Ip8d9aASBE03tqzLzAAAgAElEQVRlWetulqO+zMisP8a5KT8aUcBm1PKmw+ufj8uhpJHTffv2XRVkJxPU6o9Wq02tT0NDQ9jt9hQJ2i6RF2uNpWu1Wr7whS9wxx13IEkS73rXu+jo6ODjH/84x44d46677uK+++7jt37rt2hra8PhcPDggw8C0NHRwVvf+lb279+PVqvln/7pn7ZFxTgf7BCeLUK2LS21CmE0GlPhn6tBvPwkQNaEJ31aKldMTEwwMTHB0aNHcxKMjvolvvnyNG87WsehenvqfWQyEzQbtLz16PpVo1yhxkRs9cTShC9CiU6TGru2GbWMeFaO8WYD1cF6amqKjo4OBEFgcnKS/v5+rFZrqvW1mbqQMW+EH5+dI6ko2Et0yLLCxdkQLRUlDM6FsiI8r91Xyad+PMiXn+znb39jD9XVud98tyPMZjMGgwG3201zczMmk4mpqSkuXLiQihYoLy/PSp807A7zpZ8PIwoCsqLw/PA899/SkhfpGfGE0WkETHotCUkmlpSps+c2JabmfakGnIUgO4qiMOGLEk3I1NoNmFcxMywmBEFgaGgIgL179y7J+9oOY++RSGTN6+PkyZOcPHlyyc8+8YlPpP7faDTy0EMPZXzuxz72MT72sY8V5o1uIXYIT57YDA1POBymp6eHXbt2ZdUzFS8/iVy5D6zrVyzSp6VygTodFo1GOX78eE5MX5IV/uVMkFKTlj+8vS319zYzJmJ2dpaRkZFtMbFUZTUQScip8ygQk+isy0+QrXq2HDhwAEVn5OUxH3Ghkr17mijTJnG5XIyMjKDValOtr2J//vlwHEEAs05DKJqkRK8hGEsSS0rYTdnpZZKxKNdUKTwxLqG1rD+KfLUgHo/T3d3Nrl27UjcptVUZCARwuVypYElV+Gw2mzNeH08NutFpxJR2ZsYf5cWRed7YmTs57J8OUmM3sq9m8fh4Q3GG3CGuzWIMHK6YjZaXlxcs70tWFB58aZKXRhfQiGDSafifNzVRa9+87DdFUejv70er1bJ79+7UWpVJ+6Ou65td/VlLw7ODRewQni3CeoRHdSLNul0UCyKMv4B04n1Zv36uPWjVkM9ut3Po0KGcycm3XppkaD7JJ17fjM2kS+2ONmM3pGZHzc/PF2SypxC4prmMwbkQ52eCCMJiO+E1+3JvQ6kkrquriwRa/t8nL+MJxdAIAo+fF3jPDbvY19ZGW1sb0WgUl8vFwMAAsVgsNfVlt9sLfgzKzXpkBerKjHjDCTyhOAathhq7ieta1jcIVKMH7nt1Oz/52jke6Z7mPa+6+tpZoViSF0fnCcVk9lZZqLeK9PT0sHv37lSLS4UgCNhsNmw2G62trcRiMTweT0rQXFpaSkVFBQ6HI7XZSEoKmvRJTWHRxiEflJboiM5c0RbGkjL2LMXcqot3TU1NQUWt/dNBXhzxUVdqRBQEvKE4D5+e4v5bVk53FgOq67rRaKS1tTXjupeu/dHpdCnio27oNqP6E4lEdgjPOtghPFuE1QiPoiiMj48zPT2dU7tIHP05gpzIup2laoiybXGEQiF6enpoaWnJq60w5Yvy2Z8N0lll4PbdpUvITrGrOrIs09/fjyiKWzoBsxw6jcjvXNfArD+2GG1g1efkL7I860ur1fLSJQ+eUJz60sU2hD+S4Mfn59hXsyhyNxqNNDQ00NDQgCRJeDwepqen82qlrIf6MhNvOlTNf/XOsMthQqSENx+u5lhT6bpaLNWNVzXeO944ycNnprgvC+fl7YRwXOIf/nuY2UAMrSjw2NlpTtiD/MYNB1PTXGvBYDBQW1uL3lbBnD8KiTAzLi/fenaAoKyhvbaMrhoHF2aCwGI1RJYVjuxa/29nwi17Kjg3HWDSF0UAys06bt6zfoirWrEqhou3P5p4ZUR+8bhbjVrmApsTyZLenlNN+7JBpskvdc2D4lR/1hIt72ARO4QnT2z0Jp3p+epOQlEUjh8/ntOFIF5+AkVvRqnPTj2fy5SYx+PhwoULHDx4cNVE47WgKAp/8f3zKAp86ETZppKdeDxOb28vTqeThoaGbSeeFAWBmjxK87IsMzAwgKIoS0hcQpKXEAKtRiSezHycNRoNTqcTp9O5opWS7i68kV3jjW3ldDXYicQlSkt0WRG6dO8glXi99Wgtf/zd8/zy8jw3tF49ra3+mQAzgSj1pSZisRhTPj9DJeVZkR0VZ8YX+I8XFseCE/KiVYMs29GJCj+4sMC+aR8nbDKXwwZsVjN3HGyk0ZHfja+0RMdHbm1hyBVCEARaK0sw69e+TagxMq2trUXJ+1Kvj7gkoxMF3ME4B2pzX4eWY2ohypw/hs2kpbl8pU+SLMv09fVht9tpamrK+3VWi7xIr/4oioJGo9lQ9WenpbU+dgjPNkEsFqO7u5vq6urc85sUBfHyfyM33gia7Ma2s50SGxsbY3p6mmPHjuVtyPftlyd59pKXB+7cS2OFxNDQEFVVVTidzqLuSDYjJmIroPoelZaW0tTUtORcaa+y8iNxjvlwAr1GwBtO8D8OZ6fpSm+lpHvIRKNRHA4HFRUVlJaW5rwgWwzaVROz06FOIwaDwRXeQa9pr6TUpOOh01NXFeGRZAUBgUgkgs/no8pZQULJ/tqOJ2W+/uIEdpMOo06DNxTnhZF5Xr27nBK9lgqLifFAjPfdtIew34fb7cZ1qY/wjDklVM/FcNIbihOIJdnttFCiX1+fpya555tjlg2ayku450gtj3RPI8kKrZVm7u7a2GTlqZF5/vPUJCigoHBbewV3HaxOXUuqFqmiomLNLMB8UKzqz06FZ33sEJ5tgOXhn7lC8AwiLIwjX3d/1s9ZL09LbQNJkpRztSkdE/MRPvP4INc1l3FP12IrrLKyErfbvURHUllZid1uL1gFxuPxMDg4SEdHx6bGRBQb643T19iNfOCmZn50bpZIXObVeyu4sS33cyrdQ0aSJLxeL7OzswwMDGA2m1PCZ0XU8MLwPJ5gnOaKEjrr8suTUs83jUZDZ2fnir+h14q86VA1//niBK5gjErL1rhh54rWSjNKIsbYQpiaynI8EYnXdWTOuMuEcFxCUhSMukXyoREFBLhiwPnK1ySI4pJqXTAYxOVy0dPTA5Cq1lksllWPz0/75/ivvllEAYxaDe+/uWnNSlEwGKSvr4+Ojo68Kr+54PoWB8cbS0lICiaduKF1Ip6UefDlKcpLdBi0IpKs8OQFDycay6ixG5EkiZ6eHpxOJ/X19QX8FCuxXvUnmUymfr9e9SccDl8VIbNbiR3Cs8XIFP6ZK3IdR4e1RdPxeJyenh4qKipWVBBywWIrqx+Av7pzz+J7FcUVN1M1r6W/v39N9+BsMTExwfT0dNZpzOnvd7u1vNKhBoC2t7evuZturijhgzc3Z/zd4FyInokFjDqR61scOMzr7/41Gg2VlZVUVlYuuZm+fPo037+UZDqqxWIyICHyhoNVnDyQm4ZD3U1nqlil461Ha/m358f5zplp/ueNTTm9xlYh5Jnh5C6FYbmeUFzm1e02Xp1DGKzVqKXMpMMbiuMw6xGURbsGf3QxeDgQTXKiqYwS3ZVrRRAErFYrVquVlpYW4vE4Ho+H4eFhQqEQdrs9pdVSr7GJ+Qjf753FadWj1YgsRBL863NjPHDn3ozHQ7V22Mwkd51GRFcA+5doUkKSFQzaV8iGKKARIRRfJBg9PT3U1NRkZaRaaGyk+hOJRHYqPOtgh/DkiY3eGBVFIRqNMjMzs2b2VDYQLz2BXL4H7NmXXler8KjRFW1tbTid2e9EM+HBUxP88rKX/31yN3Vlpozf2XIdSbp7sF6vT1USshFvq86usVgsp5gIXzjBvz0/ztBckHKLnt+9dhfNFdtr4VArVp2dnXn36fsmF/jnn4+i1QhIssJzl7z8yWt3U1qSvUA5/WaKrQrf5SFqbBLRaBg5nuDhF0IccYo4K8qzqgqq5Lqurm7dG0xTeQnXNJXy8Olp3nNDIxqxcOTUE4ozvRDFYtDS6Mh8ruYCNSoiEonwmuvX9s9aCxpR4L03NvLVZ8eYXohiNmj49G/sY8gVYjYQo6W8hFv2Vqz5fvV6PTU1NdTU1CDLMgsLC7jd7pRDd0VFBTOJxQko1QjUZtQy5YuRkBX0mqV/e35+noGBgW1h7ZAPLAYtRp3I00MeNIKA1aihzm6i3CRy5swZGhoatoXf02rVn9V8f0Kh0E6FZx3sEJ4tgBr+KYoinZ2dGzODi4cQxn+JdOT3cnpaJtGyy+VK3VQ3euFccgX5m58strKyTThf7h4cDodTbrSSJFFRUUFlZWXGsrxq0Gi1WtmzZ0/WNyxFUfjyL0aZ8EWoshsIRpN84alhPn7nnqy9YoqN9GDTjQSAfuvlKYKxJBaDhkqrgTl/nDPjC9yyNz+haVJS0GlErNYSrFYrsiwz5g4yO+dm+NIQJSUlS+IuliMcDtPb25txPHs1vO1YHR99+By/uOTl5t25t+oyoX86wD//YhRZVpAVhZt2l/PWLM/ZTFA9W0RR5MCBAxsmT9U2I//rdbuJJGSMOhFREDhYl18LSRRFysrKUhXCSCSC2+3GPzuOxxtETBixWUoIJQVqSg3oNSJ9kws8ft6NpCgcrdJiicxsKKF+q+EKxPFHkohAJC4Rjktc11zK4Pk+mpqaNrzRKxbWqv4oisLU1NRV64C8WdghPJuM9PDPsbGxnPO0lkMcew5BiiO33pbb89JEy6pHjdvtXjO6IltE4kk+8lAfeq3Ip36jPe/dbUlJCbt27WLXrl0kEonUrjQUCi0JYlQnsfKJiQgnJMa8YarthkXhrknH7EKMqYXolhMetUoQCoU2HGx6cXbRyyQhyWhEgQlflBqbieQGzr8Gh4nSEh1z/hhmgwZfJMmJlgoOHWhEURRCodCqOhK/35+KJclF/3Hb3goqLHq+9dJkQQiPoij82/PjlOhEzAYtsqzw9KCH442ltFTkXkmTJClFvAvlMgyLm4FsRMS5wmQypWwKTE43//LMZXpmvEiyzI27jDzRfYmHzgWwmnTEolHODIX4yOv2X7VkB+CyOwSQMlOMxZOcHpzi3v+x76oZbkiv/siyzB/+4R9uaLDk1wU7hCdP5LOQLQ//nJyc3Djhufwkiq4EpeHa3J73SktL9ZnQaDQcPXp0w54QiqLwqR8PMDAb4kv3HqTKVpiFUafTLSnL+3w+XC4XFy5cIB6P09DQkJfg26AV0WkXR7cNOg2yrCAprDuKW2zIssy5c+cwGAwZRby54jvd05SVaJlaiKHVCMyHE1gN2g2N95p0Gn7/lhYe6ZnGFYhzpMHOnQcX9TuCIGCxWFLxAvF4PEVYFxYWkCSJPXv25Nye02lE7j5cw5d/McqkL0pd6cbOr4SsEIgmqbEv3ihEUUBEyCswU9V/VFVVFV3sWgzsr7VhM5vYX2LEbtIy64/y7y/NocgJxKgCKFSW2Tk16uealsKPn28W9FoR1ZZRkiRmXG4qy2xXDdlJhyzLfOQjH6GkpITvfOc721qDuB2wQ3g2Aeq4rdfrXVJBySVAdJU/vKjf2XUDaHNb+DUaDbFYjFOnTlFTU1MQG3hJkvhB7wzfPj3Nu6/fxc17irMoiqKIw+EgkUgwPz/PwYMHCQQC9PT0IAhCqvWVzc1UK4q841gdX3thHIHkYkujrZyGsvxupIqicGZ8gRFvmEqLgWuby3IyE4Qrjtaqd1AhMDAbZC4QBwV84SRmvcjJjqq8PIDS4TDrue/69d2P9Xp9SqMTjUZpbGzE5/MxNjaG0WhMtb6y2aHec6SWf3l2lIdPT/H7t27MbVevEWmpKGFsPkKlRU8kISOK5BxbEIvF6OnpKYrx3mZh1BNBUhSqX9mk1DvMnBlL4DAY0GoSmM1mZnxhZqaDnDsXSQmfNzOfrRA4WGujubyEobkAgYAfq8XCO69bKvKPJCS+3zPDoCtEjd3Amw/XUFayscp3oSFJEh/5yEewWCx8/vOf3zaGqtsZV9eZehVC1ZYYDIYVFZRsA0RXgzDTi+AbQb72Qzk/NxaLMTExQWdnZ16VkXSoGTKXXEEe+NFFjjTYuf/WzFNChUB6TMTRo0dTwsvm5mZisdgS/xg1OqG0tHTV3c/xpjJqS01ML0SxGbXsdmbOLMoGj/bO8IO+WfSvVI26xxf4wM3NWQtsVV1LIb2DPKE4/sjiVI/NpKVEVgjHJY405ufGmw8URWF4eBi/38/Ro0fRaDSp7KhwOIzL5aKvrw9ZllOtL6vViqQoPDXgYWAuSJXVwOs6nNSVGrl5dzkPn5nm/Tc3oc+RUC7HfTfs4ivPjjHsCVOi0/DeVzVSac2+NaB60ezZsweH4+rxCFoOg05EVq5MK8aSEjadjKDIJHRW/EkBm83Ou29tplS72GIeHR0tmEnlZkGvFXnPtTV87+ezlO9rpLPJSVP5FfG1oih89dkxeicXsJt0TPqijHgi/MXrd6/rEL5ZUMmO1Wrlc5/73A7ZyRI7hKeIiEQidHd309DQkLHEvVHCI557GEWjR26/K6fnzczMMDU1RW1tbcHITiiW4A+/cx6DVuSzd+9HW6QLUHWj1mq1GWMiDAYDdXV11NXVpfxj0qMTVksNrys1brg9EklIPHbORbXdiFYU8EcSPDXopq7UxMkDzpSXympQs6MK7WsSjCWpthkpLdEx649h1GqoshpwbNKOVVEULly4gKIodHZ2LjlmgiBgNpsxm800NTWltFqjo6MEg0GendPS64FSs4HeST/nZwL82Wt387ajdfz3xV6euODm9Tn42mRCWYmeP35NG/GkjE6Tm/u3ahWwGV40+SIUS/KtlycZnAtRYzfy9mN1GQndbqeZA7VWeif9iEAoHOLONiO3HNnPqTEfsgxHdpWmrhN1uGC5SWVZWRkVFRWUlZVt6Y14fD7CkwMukpLCDa3ltFcvDmKEw2EGzvfx5lcdyOh4HYxJ9E35qbEbF89Pg5ZZf4zx+ShtlVtP6CRJ4g/+4A+w2+189rOf3SE7OWCH8OSJ9RbFbMI/N0R45CSa899FbnsNmLIIF+WKCHZhYYHdu3cTDofze+20vydJEglJ5o++28/gXIh/fkdnqiReaKTHRGTTglvuH+P3+1Op4TqdLvW7QgkwJXlR56ARwB2McW46SDwh8dDpSc5PB/jj17auukOcm5tjeHg4lR1VSDitBswGDQatyK4yE95wAotBS1kO4+j5QpIk+vr6sNlsWYl4Va2Ws6qa75ye5NHBYfSiQjIWxmHScmkmyoWpeV7V5qC+1MiDL01umPCo0Gtzu3Go49kbsQooNhRF4UvPjHJxLkhZiZb+mSCf/dklHnjDXkzLCLhWFHnfjY30TPjpHxymzm7n1Uf3IwgCdx5YfUx7ua/W/Px8auLTZDKlqj+bKaid9C0ansrKYrDqCyM+7r+lmWa7ht7eXg4cOLCqIalq7igroBFe2dQpi5EeWw1Jkvj93/99ysrK+Lu/+7sdspMjdghPEaDGMawX/rkRwiMMP4MQciF33JPV49Ubj9Fo5MiRI7jd7g0JptNHIj/xo4s8Pejh4yf35OXqmw2CwSBnz56lra0tr7weQRCw2+3Y7Xba2tqIRCK4XK7UyLvq9my1WvNuZ5n1Gg7U2uib9DPsCSPLCjaTjuYKMyPeMD0Tfk40LTUMVBSFsbExPB5P0VLcTToN99/Swr/8YpRpf4z6UiPvvqExZ21RrlA9dmpra3NOz37s3Cw/OudCFEU0GoHpqEJFmQUlFOHSpUtEZy5xe5ORf+v2cXE2wJ6qzXXTTg833c4TS4FYkotzQaptegRBwKjTMOuPMTEfZbdzJUkTAZ1vjOuabLS0tOR8LaS3t9LblWfPnkWSJBwOB5WVldhs+TlyZ4tnL3mRZIUq2yLJ8oUT/LBnkptKfeuaJZboNdzWXslPzs+90ppWOFhnpaGssBuRXCFJEvfffz8VFRX8zd/8zQ7ZyQM7hKeASI9jOHbs2LpjxBshPJpzD6EYS5Fbb1/3sdFolO7u7tQubKOvrRpfCYLAF54e5bvdM7z/pibuPZbbTS1bqKZ7Bw4cKJixlslkWjLy7vF4Um2U0tJSKisrcTgcOS0qgiBw3w27+F7PNJefC1NaoqPGZiCWlBGA2LIQT0VRGBgYQJKkoqe4N5SZ+MQb20nKctHajekIhsJ85+kzWMqrsWhs5HpmvDjqo8KiJ56UmfJHkWSFMV+MI7vKuPPG3QiKROnUHF/v9fH3PzjDh6+rWOEeXCxMTU0xOTlZNIKaC4bdYX457EUjCtzYVr5CbK3TiAgCSApoU9UK0GtXkg3V8drhcNDYuL4QfT1kald6vV4mJibw+/1YrdbUMSv096gs+3cymWTONU/nTUezqsbd01VDk8PEsCeC06rn+lZHQY0uc4UkSXz4wx/G6XTymc98Zofs5IkdwpMnlu9O1CkNp9NJY2NjVruXXBLLlyAeRLz4Y+QD94B27TKxz+fj3Llz7N+/f0kcwXpZWpmg6nXUpPNvnJrk//5ilLccqeFDNzfl/jmywPj4eCo5O90faHohyiPd0/giSboabLx2nzPvBUmn01FdXU11dfWSkfehoSFMJtOa5nnLYdJpePuxemb9cb798iS+UBxJVqiwGmhNc2/OtdVTKGwG2Vnw+/nM97uZiJvQeQL8cMDPvcfqeO3+7FtPZr0WbyhBS2UJJr3IuC/KkV12Pnpb6yutJ5E9jXX8xqEAP+ib5c8dThYW5lPuweoxK3R7UBXLb9QXqRAYnAvytz8ZAgEUBZ6+6OFjr9+zRItm0mm480AV3++ZQSNCUoZjjaUrqhWbMVKv0+moqqpKidX9fj9ut5uxsTFEUVwifN7o9XBds4OnBz24g3FkKYnbF+CP7mjPuvUoCALHm8o43lScQNRcIEkSH/rQh6iurubTn/70DtnZAHYITwGghn/u3bs3p3aLKIqpcLhcIPY/ipAIIx14y5qPU3O6jhw5smLhz7XCs5zsPN7v4lOPDXLLngr+8mT2zsa5vN7FixeJx+Mrbi6+cIJPPz5INCFh0Gq4OBskGJN4y5GNZ9+oI+8OhyOjeZ6q+1lr4VQUhVFPmCqrgWBcQisuthLCiUWCqZLjfIwStzs8Hg/PdA8wkzTTUL4Y0ZCQZB46M8Wr91ZkPVF1d1cNn/vZJWb8MRAEjjeW8tHbWlekrr/zRD0Pn5nmZ5fDvOv63QCpdmV/fz+JRCI1qbeRcFpFURgaGiIWi3Ho0KFtcdP50dk5tBohlYc254/z9KCbdxxfSljeeLCKpvISxryLo/dHG+2Iad9DIpFIDVdsVqRCeou5tbU1NV2pxnGUlpamhM/5EMtdDhN/fHsb/3VmjOnZBe57/T6OtWxPB+W1IEkSH/zgB6mtreVTn/rUtjjvrmbsEJ4NQBAEJicn8w7/1Gq1xOPxnF9Xc+bfkSv2otSdyPh7lSyEw+FVc7pyqfCoeh11XPXUqI8/feQ8XQ12PleEiaxkMpmqfmSKieifCRCKSan+vFEn8uSAuyCEJx2ZzPNUMWY0Gk3pEex2+5KFSFIUfJEE7dVXIjDmAjF84UQqYXrv3r0FH2GOJSX80SSlJl3R9TmZMD09zfj4OK2729HNjKU+u1YUkBVIJOWsCU9rpZm/PLmHCzMB9FoNh+ttmA0rz+O9VRaON5byjVOT/M61DWhEYUm7MplMrginzdU/Rm1Va7VaOjo6to25W1KWl1Q1BUEhKS1v5iyex511NjozxFHEYjG6u7tpaWnZUuO99OlKWZaZn5/H7XYzNDSEwWDIKVNPhV2McsLq4/CNx7e1zmo1SJLEBz7wAerr6/nrv/7rHbJTAOwQnjyh6i+CwWDe4Z/5GA8KM32I02dI3v7XkGHhTSaT9Pb2YrVaOXz48KqLc7bttOVkZ2A2xIe+1ccuh4kv3Htw3VHrXBGJROjt7aWxsXHV3abmlRuoCllhU/rrer0+65H3pvISJn0RKiyGlHbHpEQ5e3Yko2gylpQY8UQQhcWQzFwJy0tjPr7881GSsoLFoOGjt7Uu8RYpJhRFYXR0NNXqiUqLwk9PKI7VoMUbTrDXac45GqHGbszKGPE3T9Tz+w+d5b8vurm9felNW6vVrmijpE/qqSaVq7W+1Naj3W5fM8l9K3DzngrOPTUMLF4DsgLXtWRPorerf5AoipSXl6csM9RMvfPnz5NIJJZsNFY7Hmq1qKur66qMW0gmk3zgAx+gsbGRT37ykztkp0AQFGXljiANa/7y1xmKojA+Po7T6cx7EfR4PLhcLtrb27N+jvaxP0Hse5D4h3pXjKOHw2F6enpoampat1WiTtAcP3581ccoipJquYmiyKQvwtv/9TRaUeDrv3dkwy69y6H60Ozbt2/VUX6AUDzJJ390kVl/HJ1GIJ6U+c1r6lfc7DYL6TdSj8eDTqdDNJfxzXMhPOEkGkHgDXtKqMZHZ2fnigV4IbLYopv1x1AUaKks4Y9f07ZibHg1eEJx/uS757EYNBh1GhYiCQxaDZ+/pyNnIhiIJhdTw43arNyG04XX+/btSy3Mk74o//7COLP+GHurLPzmiXqsxuLsr5KyzB3/+Dy7ykz8f7/dteS9zQZiSDJU2wwrvotoNIrL5cLtdhOLxVaYVKqO18XUtTw/7OXBl6aIJWVubHPwliO1a5JddzDOj87O4oskaC4vYXohwvmZELV2A2/srGZfdXbTaqFQiN7eXvbv35/Ri2a7IplM4vV6cbvdLCwsYLFYUtofVfjscrlSFg8bzQXcCiSTSd7//vfT3NzMJz/5yW1Fsq8SrPqF7VR48oQgCFRXV7MOYVwTOU9KxYOI5x5eNBpcRnZU358DBzKbaS3HWi2t5XodQRCYD8d5z9d7iCdlvvq7hSc7MzMzjI6OZuVDY9Zr+V+v282TF9x4w4lFwhFJ0DfpzztFeiPINPLudrt5S2MMfySBSSeiJU5XV1fGSuB3u6eZXohRZTOgKAqDc0bUZDQAACAASURBVCEePz/Hmw5lp++Z9cdQUFLVNrtJx1wgRiCapDQHr51LrhB/99MhYkkZWYE7DzjXTLpXgzItFgt79+5d8ri6UiN/fsfurF97I1DjQT73xGUuzgbZU2UhIcl88ZkRTo8tIADNFSX80e2tS9piRqMxFZwpSRIejydVsSspKSEQCNDa2lo0ndXAbJAvPj2C5pUpqu/1zKDXitzTlbk1uxBJ8MkfDbAQSZKQZb7+4gQVFj0Osx6TTmSXIzuBtt/v59y5c+uOZ29HaLVanE4nTqcTRVEIBAK43W66u7sRBAGDwZAK271ayc773vc+Wltbd8hOEbBTJ9sANnoy5kp4xP5HEeJBpK7fXvLz8fFxLl68yNGjR7Pera322irZSUoSCouf0RWMcd9/9jC9EOOL9x7M6N+RL9ScMdW3KNupGptRx50Hq5j2R3lywMP3emb4m58M8ti5uYK9t3yhJlAf6eqiwlaCUa/DaDRy6tQpzp8/j8vlWvLdj89HMOkWL0VBEDBoRWYWYlm/XrlZj6JAQloksOG4hEErYjbk1kL6wtPDKECFxUC5Wc8P+mYZcmU2p0wkEpw5c4by8nJaW1u3fGG+u6sWg1bkP16YoHt8gS//fJRfXvZSadFTYdFzyRXi4TPTqz5fo9HgdDrZv38/nZ2dKXuC8fFxXn75ZUZHRwmFQgV9z2en/LiCcQZdYYY9YcbnI/ywb3aNxweYjyRw2gx4Qwn0WpFQXKLaZmR8PsovL3nXfU2fz8f58+c5dOjQVUd2lkMQBGy2Rb+g48ePU1VVhd/vx2Qy8fLLL9Pf37/iWtvOUMlOW1vbDtkpEnYqPFuIXAnPoli5HaVusQ0lyzIDAwPE43GOHz+e0zRDpotJURSSksQ3T03w+HkXCHCkwc73e2dYiCT5x7ce4Miu7Fyds4EaE6HT6fKafLk4G2JgJkiNXZ+aBvrWy5O8dn/lkimUrYDaDqmsrEy5QsuyzMLCAi6Xi0uXLiFrDfxgBF6ejjIfTtBeZcZpNRJNyDmRyiqbgXccr+MbpyYRBQGNKHD/Lc056YCSsow7GKfqlcgBjSggCgLeUBxY+l6i0Sg9PT1FEbomJJlHe2bomfBTbtHxtqN1WVUTS0t0nOxw8kjPNEPuEO5AjGBcwmHWY9ZrMRu0jLjXdxZXoyIOHjyYiopYHp3gcDhSra+NaCtiSXlR52TULtbgkzIjnjDxpJzR9VlRlJTIICHJaBBS/xYFCMTWXks8Hg9DQ0Pb3iwxH0xOTjI3N8c111yDVqtN2UuoWh69Xl80q4JCIJlM8t73vpc9e/bwV3/1Vztkp0jYITxbiFx8eFSxcuI1n4JX9AU9PT2UlZXR3t6+4QtEFSf/tH+OH56do9JqwBWI8ZVnx7AYNPzH7x5hf03h3GzVmIiqqqq8E8FjSSnVcoPFaSBJVkjKCnrN1i0YqvC6ubkZp/PKKKwoipSVlVFWVoaiKPzt4wMMur1U6RMk4jLnpwOEYkne0FnNq3NMmn/NPieHG+z4wgmcVgN2U25GblpxMXZixh/DYV40/FNQVpANlRCsp7PKF//xwgQ/u+DCZtQyNh9mYDbEZ960L6vP015t4ZEeiMQlnDYD/rkQl10hDtTaCMWSNDWv7amyWlTE8ugEr9fL7OwsAwMDmM3m1I00V/O8vU4LRq1ILCGjsBhjUGk1EI5LGQnPgTpbql1ZotMwHYnSXG4mHF8kOh1rXJ9zc3OMjIzQ1dV1VbZ61sLExARzc3McPnw4telLt5cAUm3m/v5+4vF4wUhrIZBMJnnPe95De3s7DzzwwA7ZKSJ2CM8GsJktLU3Pf6Jojcgd9xAMBlOJ2lVVVRt6D7BUnNw3FaBEJzIxH6F/JohZv2hcVkiys9GYCBWtleZXpoESmPUivkiSY7tKN5yevRGowuv1xKCCIDDkjlLrsKLViDjKJMa9IW6vF9gnTDM0GKWysjKnBbnSYqDSkv9EyodvaeZzP7uEKxBDEOD3rtu1RBfi9Xq5ePFi0bKjZEXhqYtunNZFgbHZoGUuEGNgNrgikiMTLAYtFr2GsfkIN7U5mA8lWIgkcQfjtDnN3NO1uhYnPctsvTiY9Hy2YDCIy+VKaUhyMc9rc5rZ7bQQjCXRawUkGepLTdhMmZflUpOOj5/cw3/1zeINxQlEk8z4o+g0iy7LX3xmhIQk89p9ldzVWZ16/ampKaampujq6tpyZ+hCY2xsDK/Xy6FDh9ascKttZlWvtZy0qsdts8lgIpHgPe95Dx0dHXz84x/fITtFxg7h2ULkMpaevPFPENruwB1KMjBwjs7OzlXD73KBmoelVkocZj0XXWHcwThOq55au5FGR+HGm1VvjULERNhNOj72ut38xwsTuIIxbtlTwduPFyfeIhvkGgBabtHjDsaxm0REUcSo13Oso4UjDTbm5+dTC7LFYkmNvK93wxpyheib9FOi1/CqVkdG75rVUG0z8pk37Wc+nMBs0CyZEpuZmWFsbKyoY74CquWAstiuYZGMq9NVnldu8tU2Q0Y7hD1OC06bgcvuMK5AfLHNdcDJm7tqqbKunNJSMTk5yfT0dM5REYIgYLVasVqttLS0LDHPC4fDqSrCaqnhdpOOP7ujjX96egR3KE5rRQkfvqV5zXZspdXAu65fGpzbM7HAZ34yhNWgRRTgmy9NYtBpeN1+J+Pj47hcLrq6urbcGbrQGBkZYWFhgc7OzpyqNJlIq9vtTpmLqtN6G8nVywaJRIJ3v/vdHDx4kL/8y7/cITubgJ2x9A0gmUxuWBD33HPPcf3116/7ONXrRC3dbnQnoigKzz77LB0dHVgsFoJxiUd7ZvjPFycYn49SZdVTX2aiwqLnf5/cm9O0z2oYHx9ndnaWzs7OX7my+tjYGC6Xi87OzqxvmpfdIT792CAxaVEofqyxlA+/umXJjVmdRFFH3tMX6+Wk6uUxH59/4jKSrKCgUGs38n/e2J4T6cmE0dFRPB4PnZ2deflN5YIf9M3yjVMT6DQiCUlml8PEA3fu5Qd9s3y3expRELAatfz5HbszTiX9pH+OP/nueQxakd++toH7rt+1pleUGhXR2dlZUEKgmue5XC7m5+fXrSJsJOPsK8+O8vSgh/JXHJeDsSR1diO/e8CA3+/n4MGDW962KSTUQYdwOExHR0dBP1s8Hsfj8eB2uwkGg9jtdioqKnA4HAU99xOJBPfddx+HDh3iL/7iL3bITmGx6pe5Q3g2gM0iPKq4F2D//v0bvsDVSSyXy8Uv+8f48WCI52dkYpLCoTor7zhen9Ju7KuxYNZv7EKXZZmLFy+STCYL8v63E1RX60Qikddnmw/HGfFEMOk07Kkyryu2Vr1jXC5XKjZBTZ/+6HfOEYwmUwRneiHK+25s4ta9+bUNV/ts8aTMjD9GiV5DhaWwxFVRFE6N+jg3HcBRouf29gomfFEe+MEADrMerSgwH07gtOr57N0dGf/GV34xwuefHOZ77zvOnqrMVURFURgcHCQejxf9nEyPKHG73QApw8NC5EY9+NIk3++dwfmK4NwbilNnknhnh+lX8nq7dOkSsViM/fv3F5UoKIqSGjLwer0po8qKioqcXfXTkUgkeNe73kVXVxcf+9jHdshO4bHjw1MMbMaJGo/H6e7uzimUdC0oikI0nuBnF1x886UpXh7zY9CK3La7lJvrBCrEMFbRTaVxUYi50V2vGhNht9tXeLVc7fj/2Tvv+LbK8+1fR9tDtmXLilc84p3EIzsEAgRIAknsMJxJCDQJtJRCWC2ldIS2lFJ+wAsUCmWWltGW2AlhQygplJAB8YzteG9bkiVZ1j4653n/cM7BdjxkWzPo+wefD5Gt88hH0rnO/dz3dQ33oRkrAsMVFKESKEJdFw3DvWO42ISOjo6hKpCOhVQqASFCfovSTk9PkLMsi+rqaoSEhIyIU+gz2vH7D86g3+zgvXp2LE1y23mlKApLUxUjenb6jEM9RaKzla+oEBE6DTbe/Xs0JYsS8ex/2/D6iU48uOFcU0/uBkIikXglKmKsiBKtVovm5maYzWYoFAq+ijAdcbImNxb/bexHr9EGACC0HavnRfpVDIY74AQ4wzAeFzvA0HmLiorim/O5ab36+nrY7XYoFIop99lxYmfhwoX4xS9+cV6dn0AgKHj8mMHBQVRVVSEzM9Mt47+9Aza8daIDb5/qgcbkQFKUDPdekY5rC+P5LavhrsEtLS18jk1sbOyUezdciYkIVOx2OyorK5GYmIiEBPdmeLnK6NiEakcD3q1Sw2Qyg6WEEAjFyIqd+vgxN1KvUqnOmaB79r8t6Dc7EBMmAcMSvFvVh/zECBQkfdegTQhBeacR6kE7EiJlmJ8ws16IuAgpCAGcDAuRUACDjUayQjbuc0aFiFGUPwuHKvtw1+XpiBo24cVFRURFRSE1NXXaa5oJEokECQkJSEhIOCc3KiQkhK8iuPp5iw6T4A/FuTjeqkNrWzvyE2OwLO/8urkghKCurg4CgQC5ubk+eW2jp/X0ej3UajXq6+sRGho66XlzOBzYtWsXFi9ejPvvv/+8Oj+BQnBLawYwDDOttPPhfPXVV7jgggvOefOr1Wo0NjYiPz9/Rs29hBCcbNPjH2fHfZ0swcqMaGxfnIiLMmImjR6wWCxQq9XQarUghLiUFg4MGZzV1tYGnHW9K5jNZl6Icnk/LVoLeo02xEXIkKb0TobVaGiGxf5TPfiqSQepEFibJkEUGQQhxOUtFM5jZ/RIPcdNfzs15Bx9dhKub9COXSuSceXcoZ8lhOCVo+34sEZz1rgSKFkQj82LZtZMfqC8B//6tnuoh0cqxF2XpyM9Nmzc9++ZPhOufv4E7rkiHbvPNvlyVg7x8fFITPRdc/t4EEJgsVj4rS+WZfnzFh4ePuF58wch5ykIIaitrYVYLEZGRobfCQVuy1Kr1fLnLSYmBgqFApGRkRAKhXA4HPjBD36AZcuW4b777vO713CeEezh8QQsy4Km6Rk9x9GjR7Fs2TK+JMo15On1ehQUFEx7jNRsd+JQZS9eP96JM2oTImQiXFMYh62LE6c9dcWlhWs0GthsNr5/ZHSIHxcTkZ+f75cmXzOBG80ePmV2qLIXrx3rhEAAsCywc1kSivL9p6LFbaFoNBp+emisUjxnF5CdnQ2FYuwx8N+8W4dGtRnRZys8/WYHfnFlJl/h6Rmw4a63qxEVIoFQQMHJEgxYHHju+oIRlZbxsDgYiATUmD40eosDLVoLXjnagV6jHTKxAHdcmoYl44ys3/S3U+gwWPHR7cvBnBU7qampYwo5d8KwBEcatGjWWpAUFYLLc5TTSq+naZq/iHLOz9zW1/CtZqfTiYqKCo9mfvkKbvsxJCQEc+bMCQihQNM0+vv78dVXX+HXv/415s6dC5PJhFWrVgVHz71DUPB4AncInuPHj/P+GFxPiEQiQXZ29rT281u0ZrxxohNl5T0YtDmRExeOrYsSsCFvFkJn2Hw8HC57SKPRwGg0IjIyErGxsTAYDDCZTMjLy/P4RI+36enpQUdHBwoKCviytd7iwI/eqESETMRPFhltTjy3PX9KvTnupkNvRbPGjIgQMQqSIvhm6NHTQ9zIu1AoRFNT06R2AX1GO373fj30VhoMe24PT5PGjF8eqkP0sNeuMzvwWMk8JETKoDM70DNgR0y4GHER32232WgGT37WjBNtBlAUhRVzFMhPjECsXIq8s1tihBDc9XYNeo02RIdKYKUZWGkWT26aj1kR524jfFqnwR3/qsajGzMRY+2cUMi5C0IInjnSgs/O9PNGmEtTovCzNTOrTAx3DtbpdPxWc1RUFGpra5GUlOSxzC9X6dRb8fTnLeg02JARG4qfXJo2I18oro9MLpcjLS3NjSv1HhaLBbt27YLNZoPRaERYWBjWrVuH9evXn3c9jX5EsGnZX+HMBxmGQUVFBRISEqbsPMywQ4ZtbxzvwJdNOoiFFNbkqrB1cQIKE+UQCARu/2Bx2UNciJ9Op0NdXR1omoZCoYBarUZsbOx5YXRGCEFLSwsGBgawcOHCEUJuwOqEgKL4O3ixUACKGvp3XwmeYy06PHa4GSwZWvvyNAXuuSIdAoqCQCBATEwMYmJieA+SlpYWaLVayOVy6HQ6CIXCcStzsyKkeLxkPnqNdoRIBOdc0BKiZIiQiaC3OCCXiWG00oiVSxAbLsHJNj0e+7QZLCFgCXDj8iRsyBuqhL1+ohPH2wyIDZegXWfFK1+1IyJEBGW4FBsL4vCDC5JhoRl0GWyIPTsZFiIWwkoz6NBbxxQ8l2bFIE4uwYv/bcJrNy10i2/VZOgsNI40DGV4Cc6KtG/aB9Cht7kc7jkWo52DzWYzent7cfz4cUilUlgsFgwMDCAiIsInF1GLg8Fv3q2H2cEgXCpEbc8gfvf+GTxeMm9a4/Ysy6KyshIKhQIpKSkeWLHnsdvt2LVrF1auXIl7770XFEWhu7sb77//Pu6//3689NJL/PkM4h2CgsfHCIVCGAwGNDU1ITc3d0ofAJ3Zgbe/7cZbJzvRZbBhVoQUey+bg5IFCVCEfGex7mkcDgeam5uRnJyMpKQkfgT31KlTEAgEUKlUY/rGBAIsy6K2thZCoRCFhYXnXExmRUgRIhHCaKMhl4owaHciVCwa8wLsDQgh+PORVoSIBQgRC0EIwbEWPaq6jCMai4GhKRS9Xg+aprFy5UowDAOtVou6ujo4HI4RI+/DX7dENH4yd4hYiF+vy8Kfj7SiU2dFpioMP7k0DYQAT3zWDImIQohYBJph8bevO7E4JQpxETJUdQ1CLhXBaHOiXW8FIUPZUAyx452KHqzJVSE+UooQsQBWmkGIWAiGJWBYjOsRZTQYsDKOxb8bWHRbKGR7Xu+AZlhQ1He3mEPTckM+O+5EIBBAo9GgsLAQcrl8xLQe5x0TExPjNbPBTr0VJrsTirPnIjpMgl6jHf0mesqfBYZhUFlZCaVSOe3YGV9jt9tx44034uKLL8Y999zDf34SEhKwZ88e7Nmzx8cr/H4SFDwzwB13Una7HY2NjVi4cKHL3g6VXQN443gn3qvug8PJYmmqAvetzcSqLCWEFEY4J3saru9jeAPv8BFczjemtrYWNE3zTZiedjF1BzRNo6qqCjExMUhOTh5zvSFiIX51VRb+9EkjNIN2xMol+OnqjBEuxd6EIQQWBwNl2NCFh6IoCAQUTKOCJQkhaGxshM1mw4IFCyAQCCAWi/kpFKfTCZ1Oh87OThiNRkRERPBuz5NdRBOjQvDwxtwR/6Y1OUAzBPKzHkFioQACwVBgaVyEDPGRUnQP2KA2DqXECwSARCiAkyEYtDMw250QUDLsvWwOHvu0CVaaBUsI1s9XIX2MJnEuO+q2qxbg3dZv8LevO/CHUWvyBCq5FBmxYTjTZ0K4VASzw4nEqBAkKdwn9s1mMyorK0cMBMTFxSEuLm6Ed0xLSwvEYrFXQjNDJUKwZCgeREAN9W4RAoRIpnbDxVW6Z82a5ZeN5a5gt9uxc+dOXHrppbj77rv9/nvu+0Swh2cGEELgcDim/buNjY3o7u7G3LlzJx077zc5cOub5egy2KA1ORAqEeLqgnhsX5qETFU4byboTbHDjdLm5eW5lK3kdDr55lmTycT7WIxnve9LuJH61NRUl/LKCCFwMCwkQvdvH06VXx2qQ23PIGLCxNCaHOgasCMtJhQXZ8Zg14rZEAso3ocmMzNz0vUOv4j29/dPy6qAZlj88PVK2J0M5DIRbDQDs4PBT1dnICM2DA6Gxa8O1aO6awCDdgYCikK4VAg7zUIZLkHpj5bwBpjqQTs69FZEhYgxRxl6zvq5qAiu6f/3H5zBv77pxuG9FyBW7vnK26DNideOdaBBbUZqdAhuvGC227Y3ufDW+fPnu7RFZ7Va+akvzqhSqVSeM2gwUwgheO6LNnxapwEhQ+ntmxYmYMti10WL0+lEeXk5EhMTfd6PNF3sdjtuuOEGXHbZZbjrrrt8/l3wPSXYtOwJpit4ODO+0NBQftSbq46Mh8PJ4pbXy5EYJcO8+AgU58chXCbi1+FtsdPe3g61Wj3tmIjxmmeVSqXPm52NRiNqamrcmgjerrOi3zzkfeTpi67BQuOJz5pwqmMAPQN2xEVIoQgVY8DmxOVZMbgoagAxMTHT7o3gRnA1Gs2URqcbNWb84cMGmGxO2JwMnAxBqFQIQoAfX5KK5akKvHK0He9U9sHiYGCjGQgFAvy2KBtr504+WUUI4fOV8vLy+EpUu86Kdc98jd0rknHX5enTes3u5kiDFvtP9YAQ4OqCOFyWrZz0c2swGFBXV+fyDcZoOKNKrVbLV+24rS93fOa4fiWNach/KT/R9X4imqZRXl6O5ORktwQi+wKbzYYbbrgBV1xxBe68886g2PEdQcHjCaYjeKxWK8rLy5GSkoKEhAQ0NDQgMjJy2qOyhBAwDMO7znr6Q+aJmIjheVFarZYvw8fGxk6YXO0JNBoNmpqakJ+fPyP7+OH885suvHWiCwIBBQrAvavTsTzN882KH9T04fkv2vj4B4eTgW7AhBe3ZLvNCJIbndZoNLxr8ERVO5ph0WO04Z63ayAWDvUZOZwsLDSD57cXIDpMjNJTPfi4VgOxkML2JYm4MH3imwHgOxdep9OJ3Nzcc45957+r8XWLHof3XjDjbLGZ8nWLDn/8qBEy8VBEqsXB4N7V6ViZMf7r7O/vR0NDw6Rp7q4y3GC0v7+fj03wRa8d5ybvDcsAT2Gz2bBjxw6sWbMGe/fuDYod3xKc0vIEU31T6/V6nD59GvPmzeMrB9yU1nQghPDGh97YEuJ6WhQKhVtHKimKQkREBCIiIpCens6X4WtqasAwDJRKJVQqlVtyhyaCCzddtGiR26bLOvRWvHWyG/IQMUQCCjaaweOfNuMfu6IgmYY3y1QIHdZHxDAMDMZBKORhbnW9FovFiI+PR3x8/Iiq3ZkzZxAWFsZX7bi/p1gogFggAEvA9zlJREONyOpBO5ThEpQsTEDJQtfdqzmvFqlUOm7kwA8umI2PazXYf6oHO5f7thH287Mj62GSodfvZAk+q9eOK3i4fqSFCxe6LXSXoihERkYiMjISGRkZfK9dXV0d7Hb7uB5b7sbhcODUqVNIT0+HUjm9zDdfY7PZcP311+PKK6/EHXfcERQ7fkxQ8MwQzh9kMjo7O9HZ2YmFCxeOuIOajuDxxRbWVHtaZkJISAiSk5ORnJzMVxCamppgtVqhUCigUqkQFRXlttfNBUna7XYsXLjQreKx3+SAYFgOlEwshJ52wGRzIjrMfWPrTRoz9BYaydEhfIjksjQFUmNC0agehN1uR1iIDLdeMsdtxxzNWCPvw6f1uKpddJgUUpEAFgeDUIkQdpoBRQ1FSEwVbqJHoVBM6DBckBSJxcmRePXrDmxdkuhxsTkRIWIhmGHfGQzLIlQydiN4T08POjs7ea8uYMjV+7FPm9BttCFLFYZ7Lk+f1japjWbgYFjIpaIRGW2cx1Z3dzdqa2shl8v5rS932kzY7XaUl5cjIyNj0i19f4UTO1dddRVuv/32oNjxc4JbWjPE4XBMKHgIIaivr4fNZhvRV8DR2dkJhmFc7qfwhdjxl5gIhmGg0+mg0Wh4zxFXJ4cmes7q6mqEhYUhPT3d7X9PjcmOW9+shEQogEwshNFKI0Imwgs7CieN9XAFQghe/qodByv7IBQAFCj84soMLE4ZMthr7+rFoW+aoIxPwoLkmHHTwz0NF7yo0Whgt9uhgxyvVprAQAABReGuy+dgxZypbfNxfR+u5pn9r0mHm1+vwG83ZE+pguRu2nQW3FdWC4tjqDobIhbi4atzMUc5si+no6MDGo0G+fn5fI+Nye7ELa9XwOZgECYVYcDmRGKUDH/ekufy+4kQgn8c78S/v+0GATAvPgK/vCoT4WNs9Q3fbu7v74dQKOS3vmay5Wuz2VBeXu4VM0hPYbVacf3112PDhg247bbbgmLHfwj28HiKiQQPF8IYGRk57sW0p6cHVqsVc+ZMfuftC7HDuQvn5+d7vZ9mIkZPDslkMr6C4GrZ3+Fw8NlKnrTkP9Gqx6OfNoF2slCEivHr9dlIjXFPf9CZPhPuLa1BhEwM4dktMwLgrd2L0N3Vhd7e3hlFlHgCroLQ2aNGp3YACTERSE6YNSXhymV+zZkzx+VgXUIItr70DQxWGu/dtmxahnjuostgxZGGfhBCcHGmErNHja1zRpejb5Kqu4341aE6RMq+O58GK40Xri9wucpztFmHhz5sQFSIGAIK0FtoXJqlxD1XTN7QPVq4RkdHQ6lUTikx3Gq1oqKiAjk5OW4bCvA2VqsV27dvR3FxMX784x8HxY5/Eezh8TZms5n/Qp6oZ8LVLS1vNydzmV6Dg4PnuAv7AxRFISoqClFRUcjMzOTNDisqKgBg0pDTsQJAPcWSVAVe/8FCmOxOXpi4C63ZAQFF8c8pEwvRb3aguq4BoIc8djxpPtdlsOHRTxrRrLVgtkKGn67OmFTMDXfpXjBMuDY3N/Mj70qlclyBrR8YREVVNQrm5UypOkBRFH64MhU/+WcV3q9Wo9iHeWeJUSHYvuRckc3ZVdjtduTn558jIsIkIrDscL8bFoRg3C2xsajvMwEA/54Jk4pQ3W106XdHJ4brdDr09fWhvr4e4eHhfGL4eAKb8xCaN28eIiIiXF6zP2G1WrFt2zZcffXVuPXWW4NiJ4Dwr6tYADJWD09/fz8/PjrZh1ooFIKdxIXV283JDMOgpqYGMpkMBQUFAfGBDgsLQ1hYGFJTU2G326HVanHmzBm+AVOlUvGOwXq9HnV1dS57mbgDsVDgkagJLgjW7mQgFQlhsDogFzohBoOcvLxJzx3DErz1TRe+bNQhXCrErhXJyI1z7W9CMyweeKcW/SYH5FIROvVW/OJgLV7cUejyBXi0cOXSwoc3rHMj7wDw3OcN+Pc33ZBIJVhmQCkhiwAAIABJREFU6MPP10ZMavJIMyze/rYbp3tNSIySISM2FH/9sg0b8mbxGWP+ALf9TQjBvHnzxjx3qTEhuCxbicP1Q343FEVh5/KkKU2exUVIQc7GjlDUUFVwzhjmjZMhFAr5G4vhPVvl5eWgKGrE1hdFUTCZTKiqqvLq587dBMVOYBPc0pohNE2PECzt7e3o6elBYWGhS6Zser0ePT09mDt37jmP+WILy263o7Ky0uPbPN6C2z5Rq9UYHByERCLh3YXdNXbua75s6scTh5vhcLIIpRy4e2Ucls5zLazylaPt+Nc33QiVCEEzBAIKeHpL3jlbLGPRqbfitreqIJd9d7E12Z340zVz3dIrNHrkvXZAiNcqzVBGhkIqFkFnobF+/iz85NLxgyUJIXj4owZ82aiDRCQY+htJhTjdY8ITJfNc8vfxBsMnzTIyJj53hBCcaDNAPehASnQI8hKnVilxMCx++149qrqMoCgKcqkIf7wmF4lR7htH5246tFotLBYLwsPDYTAYUFBQELCVHYvFgm3btuG6667DD3/4Q7d+H3d0dGDnzp3o6+sDRVG45ZZbsHfvXrc9//eMYA+Pp+AED8uyqKurg9PpxPz5812uxBiNRrS1tSEvL2/Ev/tC7HAurtnZ2eddqB0XAMqFZBoMBoSGhkKlUk1Ygg8UzFYbjn9bgay02Uh0oYGXY+tL34AlhJ9a6jc5cMvKFFxTOLnTrcFCY8er30IuFUEooMCyBEa7E89vL0BilHv7vbq7u3Fn6RnU6odEWYiIQmy4GHFRoXhhx4Jxf2/ASmP7y98iKkTEV2ONdiesDhZymQiltyz2+V06y7KoqqpCRESE11LBGZagvs8Eu5NFpipszIZld2EwGFBVVYWoqCiYTCaEhYXxW1/uGrP3NBaLBVu3bsWmTZtwyy23uP0909PTg56eHixcuBCDg4NYtGgRDhw4MOaNcJBJCfbweBKu+VWpVCI1NXVKH4axenh8IXaGG+5Nx8XVn+HEKAAsXrwYAoHgnLHp4eX5QAs5tVgsqKqsRH7O1PuRJEIKFgcLnN0VoihAKnJNrEeFirF1cSLeOtk1tD0CCuvzVG4XO52dnThc04VumwhCgRNCAWBjgD4TjdmhJpw8eZLfPhn93iXD/jucawvj8OcjrTjS0I9Ls3zn/8JlR8XGxno1KFMooDA33vPbSgMDA6irq8PixYsREhICQsg5/XbDz52vxedYmM1mbN26FVu2bMHNN9/skTVyXlYAIJfLkZubi66urqDgcTNBwTNDTCYT7yUxHZfQ0YLHF83J3PirO43N/AWn04nKykpER0cjJSWF/3tSFAW5XA65XI45c+aMGXKqUqkmjUvwNQMDAzh9+vS0+yJuumA2Hvu0mQ/jVIZLsCLd9erejqVJyEuQo9NgQ1yEFAtnz8y2gCUEB8p7cbheg3CpCKuTBYgV2WEPVSFM2geWEFhpFgABKAF+ed0SxMgoaLVaNDQ0wGazjTDNi5SJsGJONP7XdHZLi2GREh2KG5fPxoGKXjz3RRsuyYzxyTnuH7Tit6Un0WERIVk5gDtDY9w2vecP6PV61NfXj3CHpihqRLiww+GAVqtFc3Mz79StVCoRHR3tF/l6ZrMZW7ZswbZt27Bnzx6vvE9aW1tx6tQpLFu2zOPH+r4R3NKaIc3NzYiIiJh2Ex5N0zh16hSWLl3q9eZklmVRX18PlmXHtOMPdGw2GyorK5GSkjIls0Sapvm+H+5LmDM79Ke/ETfZlJ+fP6Oq1KmOAXzdooNcKsb6PJVHmqtd5Y0Tnfjb1x2QCgWw2OwQCoDndyxCZfcgnj3SiqgQEaw0C5PdiYKkCDxeMh8NajNqewcRFSLGstRIGA163qtJLpcjKlqJ/7Q7UNtnRrIiBNcvTYJcJsK/vunGvvfq8eKOgil7AM0Uu92OH/7tGDotAkSESGCjh3qLXtpRiMiQwN5eBQCdTsdHYbgaMMs5dWu1Wuj1eoSEhPBbX64+hzvhxM727duxe/dur4gdk8mESy65BA888ACuvfZajx/vPCXYw+MpnE7ntKMhgKEP+bFjx7B06VKvbmENj4mY6jbcVDHaaLT2W6EIFbvUDOsOuH6kmQaAcl/CarUaBoMB4eHhUKlUbgtcnC6jE8HPF7a//A2sDgYMbQcloGBlhibHrimMw/0HalHfZ4aAGhrDfvTaeWjSmvGnjxvBEgIKQ47Kf9iYC6GAGjMvanhGm8PJYu3TXyM5OgR/u3H8PiB3Y7PZcPTkKfzhGxaKUAn/2TPbGfx6fRaWpgamER8HV7EpLCycdsWYEMJP7Gm12imF1LoDTuxcf/312L17t0ePxUHTNDZs2IC1a9fi7rvv9soxz1OCPTyewh0fPKfTCZqmIRKJvCJ2LBYLqqqqvBITcbpnEPcfrIWTYcGwwDWFcbjlohSPvk6tVovGxkYUFBTMeBJrdFzC4OAgn20kFouhUqkQGxvrtTtQzh/JZDJ53GPHF4gEFMxWK8KkYkgkElgtNJo0Zlz/yimY7TSyZ4XjmsJ4FCQNbVfd8a8qSEQCSEVDfVkVnUacaDNgeZrinLyo0RltMTEx2L5QhSeOdOBkmwGLUzxvgmexWIZ8aHKyISo/A5YAQups3x4IZJOM2Ps73GdjJmIHGPpeHW41wU3stba2wmQyISoqit/6cvdnwGQyYevWrdixYwd27drl1uceD0IIdu/ejdzc3KDY8SDCffv2TfT4hA8G+a7BeLq/yyWuNzQ0QKfTgRACmUzmsQuZXq9HTU0N5s6d65X8mjv+XQ2rg0GoRASxgEJllxEFSZGYNY3cJFfgMsvclSo9HIqiIJVKER0djaSkJERGRsJkMqGlpQVdXV1wOBwQi8UQi8UeEXRc8zXLspg3b55fba+5A5qmoelux2k9BRYC2JwspCIBGjVmUAAkQgE69DaIhBRW56rAEuDVox0Ikwj5yqidYbE4JeqcmAZgKOg0MjISCQkJUKlUcDqdCKMNONxqRV2XDpekhkImk3lMjA8ODvI+NNGKKFAATrYNwEozsDMsChIjsW1xol95A02Fvr4+tLe3Y8GCBW7vBRQKhZDL5Zg1axYSExMhEomg0+nQ1NQEjUYDhmEgkUhmXHU1mUzYsmULdu7c6TWxAwD/+9//cOedd8JiseD555/Hc889h+TkZGRmZnptDecRD473QHBLa4YwDMP33UyF0c3JwFAZVa1WQ6vVQiQSITY2FiqVym3Vg+7ubnR2dnotJoJhCdY+fRRRId8JAJPdibsvT8fqXNfiAFyFc6i1Wq2YN2+e1ysfXPOlRqOB1WpFdHQ0YmNj3RZyyjAMqqqqEBkZ6fEtSHfSM2DDe9V9sNIsLstSYl7C2L1uw6MiWswifHHWCFEooPDWyS5EyMToGbDBbHcCFIUfrkzBrRen4udltSjvHECETAS7kwVLgL9enz8lT5kXv2zF45+14E9XKBFDmRAaGsq7Pbvrws01lw+fgiSE4HirAfV9JqgipLgsW+nTUNOZ0NPTg66uLhQWFnp9q9dsNvOeP1zlTqlU8kajrmIymbB582bcdNNNuOmmmzy34CCeJtjD4ymmI3hcaU7myu9qtRqEkEmjEiY7XlNTE0wmE+bPn+/VL6Rdfy9H94ANcqkIToaFlWbx5Ob5yHZjiCXnDB0SEjKpaZs34Cz31Wo1jEbjjENOOdsDV0My/YWeARt+9GYlBm00AApiAYXfFeec06PCxXyMla30fnUfnvisGTaHE0YbA5xNno8Ok+DeK9KxLE2BP33ciFMdA1CEinHPFelYlDy1rSmz3YnLnzyKxSlReHrzfH5sWqvVApg8pmQydDodzpw5g4KCgoCzPHCFrrOZbYWFhT7fYuUGDrRaLQYHBxEZGcknvU+0tsHBQWzevBm7du3CjTfe6MUVB/EAQcHjKViWBU3TLv3sdP11HA4HL34cDgcflSCXyyePDvCxGGjXWfHzA6dhsNBgAfzwItdM7VzF4XCgsrIScXFxfukMPVbIKWd26Er1gAtazMjIgFI5Pb+YPqMdj37aiBatBenKMNy7Oh0qF4MmZ8KL/2vDGyc6ERky9DotDgZpyhA8t62A/xmu8pGXl8fHRwzHSjO489/VONaiB0uGfILiI2VwsgTr5qpwtwuBl67w7JEW/PlIK8p+uGSEGOc+exqNBjabja/cRUZGurSlyE3STWVaKZDo6OiAVqtFfn6+z8XOaEZ/9iQSCV+5Gy48ObGze/du7Ny504crDuImgoLHU7gqeNxlJuh0OvmRaZPJNOHINBcTkZCQgMTExGkdzx3QDAuNyYEImcitjq5cA+hMxIC3Gb5tSVEUXz0Yq7naaDSipqZmRkGLDieLm147hT6jHTLxUF9MfIQML+8s9Pj2yTNHWrD/VA8/Zm2jGcRHSPHyzqGJqP7+fjQ0NExa+bDRDG59sxJn+sxQhIkhFlIYtDmx58IUbF3snvf1gJXGFU8exUUZ0XiiZP6YP8NV7oaPvHOVu7Gqpr29vejo6EBhYeF5NUnH0dbWBr1eP2bIqT9isVj4ra8XXngBUqkUq1evxlNPPYWbb745KHbOH8a9uAablmeIK03L7nROFggECA8P55v3BAIB1Go1mpqaYDQOJR7LZDI+rT0zM9Pjk1iTIRRQkMtEkLjo4OsKBoMB1dXVmD9//pQSs32NRCKBQqFAYmIiYmJiYLVa0d7ejra2NthsNgiFQkilUuh0OtTX16OgoGDMyoertPRb8PapboSdjX+QigQYsNG4JEMJRahnL8JhEhE+qdXAyRIwLAHNsNi2JAlz4+Xo6+tDS0sLFixYMGk/mUgowNJUBb5q1sFKs6AZFlmqcOxdNQciN4k2mVgIO83grW+6cXFGzJhN9QKBAGFhYYiNjUVSUhJkMhn0ej2ampqgVqvhdDohlUohEonQ2dnJZ+qdj2KnpaUFRqMReXl5ASF2gO+a1uPj43HhhRdCq9XiqaeeQm9vLyiKAsuySEpKOi8rcd8zgk3LnoKbsprocW84J3PlW7VaDbVaDZqmkZaWhsTExPPuC7evrw+tra0oKCjwSvO1N+AqdxqNhp/Wy87OhkqlmtEFpctgxY1/K0eoRAABRYElBBYHi7/ftADxkZ7/251o1ePlox2w0wzWzZ+FaxfEo6uzE2q1GgUFBVPqJzPZnajtGYRYKMC8BDnEbq5Qme1OrH36a6THhuHVnYVT+qxyPXdarRYmkwlCoRBz5851W9O6v8DZIlgsloCeFDQajdi0aRN+9KMfYdu2bThx4gQOHTqETz75BMuXL8eTTz7p6yUGmT7BLS1PMZHg8bZzMiEE7e3t0Gg0yMjIgE6nGzHxxRmuBSqEELS1tUGn0yE/P9+nxn+egBCC1tZW6PV6JCcno7+/Hzqdjq8qTCfklBCCP3zUgM/qtWBZAoGAwprcWPxstff7uYZ7CPlrZeDNE1343Qdn8MyWPKzKnto2KTccYDaboVKp0N/fj8HBQY96xngTbhLS4XBg7ty5ASvkBgYGsHnzZtx6663Yvn37OY9bLJYZ+3cF8SlBweMpxhM8DMN41TmZ82ghhJwTE8HdfWo0GrAsO+OpE1/AxWAQQpCTk+OXF8uZQAjhz9/w18eFnKrVavT390MoFPJmh66KV5YQfFavRVu/BSkxobgsW+l1rxdCyIgYE3+9WNIMi43PHYeAonDgR0sgcvF9Nt7rY1kWBoMBGo2Gj0tw98i7NyCE4MyZM2BZFjk5OX57/iZjYGAAmzZtwm233YZt27b5ejlBPENQ8HiK0YLHF0nnNE2jsrISMTExIwIyx4Lzi1Gr1bDZbHxIpisTX77C6XSiqqoKUVFRAeVB4yoMw6C6uhrh4eGYM2fOhK9vuHjlPEf8PeSUZVlUV1cjNDQU6enpfrtOjk/rNLjjX9X4zfosbFk0eVM0y7Kora2FRCKZcBJyeFyCRqMB4P9J4cB3YlwgECArK8tv1zkZAwMDKCkpwU9+8pOg2Dm/CQoeT2K32wH4Ruxwk0pz5syZclr7VCa+fAUXADp79mzEx7tvnN1foGkaFRUViI+Pn/IkHWe3r9FoYDabR5gd+sv549LqlUolkpOTfb0clyCE4IZXT6FNZ8WHP1mGsAkmC1mWRVVVFSIiIsYU42aHEwcreqEedGBRciRWZnznbj7arFKhUPjd+SOE4PTp05OKOX/HYDBg06ZNuOOOO7BlyxZfLyeIZwkKHk9it9u91pw8HL1ej7q6uhmNLXOMDsmcqVmeO+ACQHNycgJqEstVrFYrL1ZjY2fmPM2yLD8ybTAYJh2Z9gacYWJSUlLAidWKzgFse/lb3HpxKm6/NG3Mn2EYBhUVFeOKORvN4ObXK9DWbwELQERR2H1hMm5YNnvM59Lr9fz5Cw8P58+fr4YOWJZFTU0NQkNDJ608+jOc2Nm7dy82b97s6+UE8TxBweNJ7HY778XjrTszT8ZEjDbsCgkJ4c3yvPXly3m05OXlBVSvkatwYm7u3LmIjIx063OPTgnnDNe8GXLKRUWkp6cHjEfSaO5+uwZHGrT44CfLzzFq5CpzCQkJ47pfHzmjxb73zkAiGroBYlgCJ0Nw+M4LJuyh4kJqufMnFAr58+ctp2ZuG1IulyMtbWzBFwjo9Xps2rQJd911FzZt2uTr5QTxDkHB4ykqKyvx8MMPo6ioCKtXr/b4xZmblLBYLJg/f77Hqy+EkBFmedNpmp0qXV1d6O7uRkFBQUA1droKFzXgLTFnsVj480cI4fu2PHVsk8nEV+ZGR0UEEu06KzY8ewxXF8Tht0U5/L87HA6Ul5cjJSVlQo+rj2vVePjDRkjF3zWgWxws/nPXBS43QwND4pHr+6FpGjExMYiNjZ1yVpSrsCyLyspKKBQKpKSkuP35vYVer0dJSQnuvvvuoNj5fhEUPJ6CEIKvv/4aZWVl+Pjjj5GSkoINGzZg3bp1bt+G4ZpbQ0NDfbafPnriy50Xz+Fjvd4Qc76gp6cHHR0dKCgo8InB2eimde7iGRkZ6Zb302RREYHGwx814B/HOlGQFAGd2YF0ZQiKEqxYMj8LMTExE/6uZtCOG149BSvNQCSkQDsJVmZE46GNudNez3C/Ji4rKjY21m0j7wzD8D1Xs2efu/UWKHBi55577kFJSYmvlxPEuwQFjzcghKCmpgb79+/He++9h8jISGzYsAFFRUWYNWvWjC4odrud74fwlwDJsSa+pnvnyfULSKVSZGZmBmy/wHj4o4cQwzD8xdNoNM744jleVMSgzYlBuxMquWRKlQ1/oMtgxZqnvoZIQEERKoLFTiMlJhRv7hk5su5wsvjrl2042WZAfKQUt6+ag4RIGRrUZjxxuAlqkx1LUqKwd9UcyMTuEfIsy/JbzzqdDjKZjB95n46YZhgG5eXliIuL82kUzUzR6XQoKSnBT3/6U1x33XW+Xk4Q7xMUPN6GM1krKyvDwYMHQQjB+vXrUVRUhLS0tCld0Ll+j+zsbERHR3tw1dOHYRh+4mRwcHBKE1/cWL1KpQrou8rx4DxMnE7nOR5J/gIhhPeL0el0U/aL6e3tRXt7OwoLC0f8/KtH2/HiV+0QgEJMuAR/3jIfiVGBkxhe3jGAW96ogMnOIEIChEjEYEHhzd2LkDDMqfqBd2px5Ew/KApgWAJFqARv7FrI54i5Qofeioc+OIM2nRXZs8Lxy6uyoAx3fUt3eMo7t3Xp6si70+lEeXk5EhMTA67BfDic2PnZz36Ga6+91tfLCeIbgoLHlxBC0NvbiwMHDqCsrAx6vR5XXnklioqKMHfu3AkvgGq1Gs3NzQHVvDt64ksul0OlUo058cWN1aenp894Uskf4dLqA8WDBviub4u7eHIhpyqVasym2Y6ODmg0mnMqV6c6BnDHv6ogpCgIBBRsNIMMVTheu3GBy2vRDNqhs9BIUsgQJvF+VexMnwm7/n4KeosTQgEFZbgYNENw6NZliDqbRWZ3Mlj1xFHIxN9NZzIMwb4N2bg0y7WGbbPDic0vfAO9xQGxUACaYZESHYq//2DBtKpiw0feLRbLhJYFNE2jvLwcycnJPs/dmwmc2LnvvvtwzTXX+Ho5QXzHuF+yvq+rfw+gKArx8fG49dZbceutt0Kv1+PQoUN4+OGH0dLSglWrVqG4uBiLFy/mBQHLsvj8888RGRmJRYsWBVQelkAgQExMDGJiYviJIU64cZWD2NhYWCwWnD592i1j9f5IoFauKIpCeHg4wsPDkZaWBpvNBq1Wi9raWr5pljM7bGlpgdlsRmFh4TkX0kaNGSwhfOaVVCRAk8bs8jpe/qodL3/VDpGQglgowFOb5yM3Tu7W1zoZMSI7ciIJKp1CmBwMTHYG2xYn8mIHwFkbiqG7Q+6blmAoNNdVGtVmmB1OfrtLQAnQNWBDn9E+rYqYRCLhJ8g4y4K+vj7U19ePGHknhKC8vBxpaWkBfcPR39+PkpIS3H///bj66qt9vZwgfkqwwuNjzGYzPvroI5SVleHUqVNYsWIF1q1bh1dffRVSqRQvvfSSX26BTBeTyQSNRoPu7m7Y7XakpKQgMTExoDO+xoIby05LS5uyIaQ/M9yskht5z8rKQnR09Dnv0y8b+/GLg7UQCoYqH3aaQVykDPtvWTLpcWq6B/GjNysgwFB1yO5kERMmxqEfL5v22k12J75u0YMQYFlaFCJkE99EaDSaoepqfgE+bxrAnz5uAM0SHN57AWTikfeKj33aiAMVvWAIAQUKCZEyvHbTAoS42K/ToDZh9z8qIKSGBBRLyNlK0lJEh7lvUnH4yDtX/YmLi0NaWprXRt7dTX9/P6677jo88MAD2Lhxo0eOsWvXLrz77rtQqVSorq72yDGCuI1x7zSE+/btm+gXJ3wwyMyRSCTIzc3Ftddeiz179sDpdGLv3r1gGAYqlQpCoRCzZ88OqArPRIjFYhiNRtA0jby8PDgcDrS2tqKzsxMOhwMSiSTgR9FNJhMqKiqQk5Mz6SRPoCEQCBAaGgq1Wo2YmBgkJSVBq9WisbERer0ehBDIZDIIBALMVoSgy2BDg8YMAUVBIhLi0WvnIlYuBSEE+0/14Pkv2vBNmwHZs8IRPszR+GSbAf9r0vNVEiEFDNicuHHZ7ClVTjg0pqGJqQ9r1DjS0I+DlX1YnRM74pjDGd6TJJNJkakKR06cHP/8phvhMjEWzh7pnbQ8TYGoEDGkIiGWpynw63VZ4z73WChCxajtHUSbzgq7kwVFAcX5cbgi171VF4qiIJVKERoait7eXmRmZkIkEqGtrQ1tbW2w2WwQCoWQSqUBsf2q1WpRUlKCX/7ylx4TOwCgUCiwa9culJWV4cc//rHHjhPELTw43gPBCo8f0djYiC1btuA3v/kN1q9fj6NHj6K0tBSffvopMjIyUFRUhCuvvNLtRnXeggtYZBjmnObdscalVSqVx7xGPIW3PXa8DRcVoYhRYlAUBYYlyI0Lh1Qk4CsHWq0WYrGYb3ruHGQwYHUiQxWGqLNNvM8eacE/jneCYQECgqgQMf61ZzG/VVTdbcStb1ZCQFEQUEMVHkWoGO/dNr0Kz0MfnsE7lX2Qiobec3YngzW5KvxumL8OR1dXF3p7e1FQUHDONN0P36hAeYcR7922bEoNxa7gZFl8UKNGu86KLFU4rshReuS9b7VaUVFRgezs7BHWGU6nk3fr5qb2lEqlT93WJ0Kr1eK6667Dr371KxQXF3v8eK2trdiwYUOwwuP/BJuW/R21Wo21a9filVdeQWFh4YjHOCOw/fv344MPPkBMTAyKioqwYcMGxMbGBoQgYBiGzxyabEqNG5dWq9X8xFdsbCwUCoVfb+/19fWhra3NZx47noaLilDGJeI3h3vRrLWAooCYMAle3FE4QgCMDjkd7de08rH/gRBAcLZaw7Asfr42E8X5cfxzvPBlG/72dQdEQgoiwVAPz9z46fXw3P7PKpxoM0ByVvA4nCzmJ8jx4o6Rn7Xh1gFjXeRbtBZsfO441s+fhYevnr6fjq/gxE5ubu6EN06j3dalUqnX3bonQqPRoKSkBL/5zW+wYcMGrxwzKHgChqDgCQRMJtOkZm2EEDQ0NKC0tBSHDh2CUCjE+vXrsXHjRsyePdsvxQ/nITSdANCpTHz5kvb2dmi1Wr/x2HE33IUyMzMT/6w24rVjnRAJhrZIHE6CK3KVeKh4bAHAhZyq1WpYLBYoFAr84B01BAIKAmpIgDAsi5+tycDVBSPfH31GO3QWB5IVIROGeE7G68c78cyRFggEFCgMjY7vWpGMPRcOOQlzNhKc6eVEwvqJw0144X/teO3GBVicEjhO0mazGZWVldMaEjCbzfzUF2c4Ghsbi/DwcK9/53BiZ9++fVi/fr3XjhsUPAFDUPCcjxBC0NXVhbKyMhw4cAAmkwlXXnkliouLkZOT4xfix2Qyoaqqyi0eQsMnvvr7+yGTyfiYC1/1OHEC1OFwTGoxEKhw55DL/fppaQ2ONPTz20M0w2KOMgxv7Fo06XMxDAOdTofHDzfj02bL0FcTJUCETIy39ixCbLhnqgcMS/B/nzairLwXBMCG+Sr8fG0mxEIB75PEbbVO9rmxOBgU/eUYwiQi7L9lMT+F5s9w53D+/PmQy2c26eZwOHjDSrPZ7NUKrFqtRklJCR588EGvih0gKHgCiKDg+T7Q39+Pd955B2VlZejo6MAVV1yB4uJiLFiwwCcXYq6fZf78+R6JGeAmvjQaDR+wqFKpvDbxxblDy2Qyn0V9eBqDwYDa2toRURGvfd2Bv3zRCuHZl+tkgY0Fcbh/babLz8uwBH8/1oHP6tQIEzhx1WwWsxUhvID1VOM6zbAAwIsUQghOnz4NsVg8JYfvw/Ua3P7Patx52RzccpF/501xxqWeiPvgKrAajQZ6vR5hYWF875a7b0I4sfPb3/4W69atc+tzu0JQ8AQMQcHzfWNwcBAffPABSktLUVNTg5UrV6K4uBgrVqyz8Kc4AAAgAElEQVTwypZLd3c3urq6kJ+f75U9f5vNBrVazfeMcOLHU43DTqcTFRUViI2NRXJyskeO4Wu0Wi2amppQUFAwQkTSDIsHDtbhi8YhZ+G58XI8uWn+jLacgO+cgjUaDQDwPSOeOodcIjjnNzRVwXrnv6vxnzNa/GvPYmTP8s/csIGBAdTW1iI/Px+hoaEePRYhhL8J4YKGua2vmR67r68PJSUl+P3vf4+rrrrKTSt2nW3btuHzzz+HVqvFrFmz8OCDD2L37t1eX0cQlwgKnu8zdrsdhw8fRmlpKb7++mssXrwYRUVFWLVqldurIVwvxODgIPLy8nzSZ0PTNDQajccmvmw2GyorKydNyw5kenp60NnZOWFivcZkB8sCKrnE7dUth8PBn0O73e72kFMuJDMmJmbaglVndmDjc8ehDJfin3sWQeJnW1sGgwF1dXXnZJt5C86wUqPRzOgccmLnoYcewpVXXunBFQc5TwgKniBDOJ1OfPnllygtLcXnn3+O7OxsFBcXY82aNTPe22dZlt8eyMrK8ostHndPfJlMJj7XbPhI73TpM9rxy0N1aFCbkKwIwW+LcpAa49k78cnwtwbs0edwpiGnXG5UfHz8jEMyP6vX4if/rMItF6XgzsvmzOi53Iler0d9ff1ZHyHfm3qODqqNiIjg3Z4nOoec2PnDH/6AtWvXenHFQQKYoOAJci4sy+Lbb79FaWkpPvzwQ8THx6OoqAjr1q2DUulaBhAHF6Pgz1s8o/sNpjrxNVY/y0ygGRbX/fUEugw2UBTAskMGdO/8eKlPcqMIIWhqaoLFYpl0UslXcAnharUaOp0OoaGhUKlULveMOBwOlJeXu7U698t36nCgogf/uGkhCmf73iOrv78fjY2NKCws9IsR8tGMN/KuVCpHiLPe3l6UlJTgj3/8I9asWePDFQcJMIKCJ8jEEEJQV1eH0tJSvPfee5DJZFi/fj2Ki4uRkJAwYbXGarWisrIyoGIUpjrxpVar0dLSck4/y0xo7bdg20vfwMmy/N9XJBDg2a15Xr9wEkJQW1sLgUCA7Oxsv6jOTQYXcqpWq/meEa7vZ6wtHC7uIz09fcqCfiJMdieufu4EREIKpbcsQajEd3YJGo0GLS0t56TW+zMWi4Xv+3nkkUeQmpqKVatW4fe//z0eeeSRoNgJMlWCgieI6xBC0N7ejrKyMhw8eBA2mw3r1q1DUVHROZMsLS0t6O3t5UeWA5XhF06BQDBi4qujowNqtRr5+flunTzRDNqx7pljAAgoigIhBEKBAK/duABZXmyCZVkWVVVVkMvl02re9RdsNhvf9EzTNN8wK5fLebHjrq3I0Rxv1eOm18qxfUkifnlVltuf3xXUajVaW1uxYMGCgI2i0Wg0+Mc//oG///3voGma/9659NJLA0bABfE5QcETZHoQQqDRaHDw4EGUlZWhr68Pq1evRnFxMWpqavD444/js88+C2ixMxruwqlWq2E2myEWi93iXzIWv3v/DN6t7oOdZiAVCXHBHAWeKJnnNdHBTZsFWqL7ZNA0PaJnhKZppKenIzEx0WNbdY981IC/HevEC9cX4ML0mXlOTZXe3l50dHSgsLAwYMUOMNQsv2nTJvzpT3/CxRdfjC+++ALvvPMOPv/8c2zevBkPPPCAr5cYxP8JCp4g7mFgYADvvfceHn30UfT392PDhg245pprsHz5cr9yPp4pXAO2QCBAVFQUNBoNrFar2ye+CCH4qFaDul4T0mJCsSFv1rTCMaeDJ/pZ/A2j0Yjq6mokJyfDZDJBr9cjPDyc791yZ1O2jWZQ8sJJmO0MDvxoCSJDvCM8enp60N3dPWb2VyDBiZ1HH30Ul19++YjHuL6fqKjAcbYO4jOCgieIe2AYBvfeey+0Wi2efvpp/Pe//0VpaSlOnjyJ5cuXo6ioCBdffLFfNku6CheQGRMTg5SU70zlRk8LRUVFQaVS+X3G11gMj4o43xLdObhJpeEeNIQQDA4O8r1bXMhpbGysW3qzqruN2PbSt1g3X4VHrpk74+ebjK6uLvT19aGgoCCgbzg4sfN///d/uOyyy3y9nCCBTVDwBJk5hBBs2bIFubm52Ldv34gKB03T+OKLL7B//37897//xbx581BcXIzVq1cHVGo4l/uVnJyMuLi4cX+OZVkYDAao1Wp+4oubNPH3C8/oqIjzkfFME0djtVr53i3OsJIzO5xuBe+ZIy145kgr/t+meViT67km/o6ODt4+wN/fcxPR3d2NTZs24fHHH8eqVat8vZwggU9Q8Pgrv/rVr3Dw4EEIBAKoVCq8+uqrSEhI8PWyxqW+vh7Z2dkT/gzLsjhx4gT279+PTz75BLNnz+bH3T3RMOouzGYzqqqqkJWVNaXcL27ii5s04Sa+lEql3zVacmZ0eXl5ASVEpwKXWj/VSSWHw8Eb5VmtVkRHRyM2NhZRUVFTEj80w+L6V75Fp96Gg7cu8Ug+WFtbGwwGA/Ly8gKuujicrq4ubN68OSh2griToODxVzgTLgB46qmncPr0aTz33HM+XpX7IISgpqYG+/fvx/vvvw+5XI6ioiIUFRVh1qxZfjMRNDAwgNOnT7ulOXmsia/xRqW9iUajQXNzs1tH6/2N7u5udHd3o7CwcEb9LFzIqUajwcDAgMtGeRxNGjOu++tJXJiuwJ+35Ln1fd7S0oLBwUG/9UpyFU7sPPHEE7j00kt9vZwg5w9BwRMIPPzww2hvb8df/vIXXy/FI3CxE9y4O8uyWL9+PYqKijBnzhyfiR9OCOTn57tdlAyf+GIYBkqlks/48ubr5aIi3D3F43CyaNSYIRMLkBYT6lMB297ejv7+frdv8Yw2ypPJZLyInaiC9NrXHfjjx434XVEOrlsQ75Z1NDU1wWazYe7cuQEtdjo7O7F582Y8+eSTuOSSS3y9nCDnF0HB48888MADeO211xAZGYn//Oc/iI2N9fWSPA4hBL29vThw4AAOHDgAnU6HtWvXori42Ktf5p2dnejt7UVBQYHHx3lpmoZWq4VareYnvtyZDzUebW1t0Ol0bhcCvUYbrn/lWxitTjCEYHmqAk9tmQ+Rly/EhBC0tLTAZDJ5peoxvIJHURQvYkcHZLKEYNdr5ajpGcSBHy1BYtT0xTQhBI2NjaBpGrm5uX5TGZ0OnZ2d2LJlC5588klcfPHFvl5OkPOPoODxJVdccQV6e3vP+feHHnoIGzdu5P//4Ycfhs1mw4MPPujN5fkFer0ehw4dwoEDB9Dc3IxVq1ahuLgYixcv9khDJldt4i6S3m769MbEF3eRtNlsmDdvntuFwK6/l+NEqwHM2e8QmViAn63OwNbFM8unmgqEEDQ0NICmacydO9frQsBut/Nmh3a7nTc75GwLugw2XP3ccVyeo8Qfr57e1BYhBPX19QAQMC7Y49HR0YEtW7bg6aefxsqVK329nCDnJ0HBEwi0t7dj3bp1qK6u9vVSfIrFYsFHH32E0tJSnDp1CitWrMDGjRtx0UUXuaUKw7IsamtrIRQK/eICMnrii/OJmcnEF8uyqKurg1Ao9FiQ6yWP/w8ak2PEv21aGI8HN+S4/VhjwcVhePI1TgWn08mbHXIiNjY2Fq0mIXLj5QiTTr2nyN9e40xob2/H1q1bg2IniKcJCh5/paGhAZmZmQCAp59+GkeOHMHbb7/t41X5Dw6HA59//jlKS0vx5ZdforCwEEVFRbj88svP2UJwBYZhUFlZCYVCgZSUFL+7gIye+JJKpXzGl6sTRwzDoLq6GhEREUhNTfXYa9z993Icb9WDOfst4c0KD8uyqK6uRlhYmE/7v8aDE7EajQY6nQ5hYWG8bYGrop0QgtOnT0MqlSI9Pd3vXuNUaG9vx5YtW/DMM8/goosu8vVygpzfBAWPv3Ldddehvr4eAoEAKSkpeO6555CY6L0tgUCCYRgcPXoUpaWlOHz4MNLT07FhwwZcddVVLvnJOBwOVFRUICkpCfHxM28i9QZTnfjioiJmzZqFpKQkj66tz2jHjle+hcFKg2EJVqQr8OSmPI87RXOiNTo6eoQxpL9CCIHJZOJF7GQhp8CQYKqpqeEFXSDT1taGrVu34tlnn8WFF17o6+UEOf8JCp4g5xcsy6KyshL79+/Hhx9+iOjoaBQVFWH9+vVQqVTn3A1bLBZUVlYGtLPw8HBMp9N5zsQXZ5rozagIh5NFs9YCmViAlOgQj1chvCnoPMXoyT0uriQ8PBwURfFhrpGRkUhNTfX1cmcEJ3b+8pe/YMWKFb5eTpDvB0HBE+T8hWvOLS0txTvvvAOhUIj169dj48aNmD17Nr744gs888wzeOGFF3jPo0Bn9MRXREQE9Ho9cnJyAlbQTQZN0ygvL8fs2bMndMEOJLjzqNFoYDabERUVBaPRiLi4uICoXk1Ea2srtm3bhueffx7Lly/3yDE+/PBD7N27FwzDYM+ePfj5z3/ukeMECSiCgifI9wNCCLq7u1FWVoYDBw6gp6cHVqsVjz32GNasWRPQfRDjMTAwgMrKSoSHh8NmswV0xtd42O12lJeXY86cOeetbQNN0/jmm28gFArhdDr5uBJ3h5x6A2+IHYZhkJWVhU8++QRJSUlYsmQJ3nzzTcyd6/kMsyB+zbhf8sJ9+/ZN9IsTPhgkiL9BURQiIiKwdOlSMAyDmpoa3Hzzzdi/fz/+3//7f2hvb4dcLkdcXNx5IX70ej3q6upQWFiI5ORkJCYmQiQSQaPRoLGxEQaDAQAgk8kCVvxYrVaUl5cjKysLSqXS18vxCFxgbVJSEnJycpCUlASZTAa9Xo+mpiZoNBowDAOpVOr34qelpQXbt2/HX//6V4+JHQA4duwYKisrcccdd0AoFMJgMKC+vj44ARZkXF8X//7kBAkyDQgheOihh3Dy5El8+umnCA0Nxe23347BwUF88MEHePbZZ1FTU4OVK1eiuLgYK1as8PuLyFhwDtGFhYV8VIRAIEB0dDSio6NHJIO3tLRMa+LL15jNZlRWVp7XQadOpxPl5eVITEzkm+kpikJkZCQiIyORkZEBi8UCjUaDqqoqEEJG9G/5E83Nzdi+fTtefPFFLF261KPH6urqwuzZs/n/T0pKwrFjxzx6zCCBTeB9ywcJMgkWiwUA8Pbbb48QMnK5HJs3b8bmzZtht9tx+PBh7N+/H/feey8WLVqE4uJirFq1KiByprjMqIULF4475sxVuyIiIpCRkQGz2QyNRoOKigpQFMWLH19nfI2H0WhETU0N8vLyEB4e7uvleASuLyk5OXnCRvPQ0FCkpKQgJSWFDzltaGiAzWZDdHQ0VCqVxx27J8ObYidIkOkQ7OEJ4hI//elPcejQIUgkEqSnp+OVV15BVFSUr5flFpxOJ7788kuUlZXhP//5D7KysrBx40asWbNmxkGinqC1tRV6vX5GURGTTXz5Gi7VPT8/f1p+S4GAw+FAeXk50tLSpt2XxDl2azQaPohYpVIhOjraq+7hTU1N2LFjB1588UUsWbLEK8c8evQo9u3bh48++gjAkFM9ANx///1eOX4QvyXYtBxkZnz88ce47LLLIBKJcN999wEAHnnkER+vyv2wLItTp05h//79+OijjzBr1iwUFxdj3bp1Pu8f4abR7Ha7W/PGRk98+bpi0N/fj8bGxvM61Z1rws7IyHDbVB0XcqpWq6HT6RASEsKbHXpyC7OxsRE7duzAyy+/jMWLF3vsOKNxOp3IysrC4cOHkZiYiCVLluCNN97AvHnzvLaGIH5JUPAEcR9lZWV4++238frrr/t6KR6FEIK6ujqUlpbi3XffhUwmw4YNG1BcXIyEhASvigEuDkMkEnk0YoBhGOh0OqjVahiNRkRGRvIVA280PavVarS2tqKwsDBg+oymis1m45uwo6OjPXIMQgi/hcmFnHJmh+6smDU0NOCGG27AK6+8gkWLFrnteV3l/fffx5133gmGYbBr1y488MADXl9DEL8jKHiCuI+ioiJs2bIFO3bs8PVSvAYhBO3t7SgrK8PBgwdhs9mwbt06FBUVITMz06Pih2GYEUZ03hJao+MRuIwvT41Jc31J3kiu9xVWqxUVFRXIycnx6pYwF3KqVqtB0zRiYmJGhJxOhzNnzmDnzp0+EztBgoxDUPAEmRxXUt256afS0lK/6PXwBYQQaDQaHDx4EAcOHEBvby9Wr16N4uJi5Ofnu7USQtM0KioqEB8f79PIkeETX9PN+JqIjo4OaDQaFBQUeD253ltwbt+5ubk+nTjjQk7VajVMJtO0fJs4sfPqq69i4cKFHl5xkCBTIih4gsycV199Fc8//zwOHz583jaSToeBgQG8//77KC0tRX19PS655BIUFxdj+fLlM7p4c1ERqampUKlUblzxzOG2SzQaDb9dolKppjXx1dLSAqPRiLy8vID1CpoMbrx+3rx5fuX2zVXx1Go19Ho9wsLC+CreeFW2/9/encZEdXdhAH9wwaWiCDJigVoRQQXBpQQ1qBVEw3JnkqpNjIkWbaW2Wq21cam2mi62TdPapB/sEmtja0uVe0dABVFURFGxsgjiUkSFOrJpUFSGZe77oZmJvoplnTtzeX6fXOeexihP7/9/zrl06RIWLlzIsEO2ioGH2iclJQWrVq3CsWPHVDvptiPU1dUhLS0NCQkJOHv2LEJCQqDVajF16lT06tWrxZ9jfhvQmfc8Osr/H5eYO77Mu6Ga01mXsG1NbW0tzp8/b/Pt9eYlp+a3eD179rQce5nfSJnDzi+//IJx48YpXDHRUzHwUPv4+PjAaDRaOkomTpyIbdu2KVyVbWtoaMDx48eRkJCAjIwM+Pv7Q6vVIiIi4pkD4+7du4eCggKbexvQEi3t+DJfCHdwcICfn59qj0fNf5aBgYE2NyTwvzx8+BCVlZXYvHkz8vPzERISgszMTMTHxzPskC1j4CFSkslkQnZ2NhISEpCWlgYvLy/ExMQgKirqsTc4x48fBwBMmDDB7o8Nm+v4cnZ2RlFREfr06YPhw4erNuzU1NSgqKhIFbOEsrKysH79egwYMAAVFRWYPn06dDodQkND7XJKOakaAw+RrZBlGYWFhRBFEfv27YOTkxNiYmIgyzJ++OEHJCYmKnpBuTOY74qUl5fDYDCgT58+GDZsGAYNGqTKL5jmwYlBQUE2O8m6pYqKivDaa6/h119/RVBQEIxGI44cOQK9Xo+KigqIoqh0iUSPYuAhskWyLKOkpATr1q1DRkYGfHx8EBkZCUEQ4O3traq3H42NjcjLy7MccVVUVKC6uhqOjo6WS89qmL1z+/ZtXL58+bEdZ/bqwoULiI2NxW+//YbAwEClyyFqiWb/0VTf/1oR2REHBwfs2bMHdXV1KC4uxt27d6HX67F69Wrcvn0bM2fOhE6ns/tLveadUZ6enpYFmeYdXw8ePEBFRYVlx1d7Or6UZp4SPW7cuFZdUrdFFy5cwKJFi7Br1y6MGTNG6XKI2o1veIgU9OWXX6KoqAg//vjjE0c7d+7cQXJyMiRJQnFxMcLCwiAIAoKDg+1qVo15jYK3t/d/dvi1tePLFlRWVqKkpEQVU6IfDTsBAQFKl0PUGjzSIvXbvXs3Nm3ahKKiIpw5c8aqe33aqqKiAm5ubv/5xfzBgwdITU2FKIrIycnB5MmTodVqERoaatNfXM2ThdvSXm/u+KqsrMT9+/ct04GdnZ1tLvyYV2KMGzfO7qdEFxYWYvHixQw7ZK8YeEj9ioqK0K1bN8TFxeGrr76yi8DTFvX19Th69ChEUURmZibGjh0LQRAQHh5uU91A5mF7o0ePbvdkYaV3fD3LrVu3UFpairFjx9p92CkoKMDixYvxxx9/cAkn2SsGHuo6Xn75ZVUHnkc1NTUhKysLkiTh0KFD8Pb2hiAIiIyMVHR9gXn+TEBAAJycnDr0s2VZtkwHvn37tmU6sBIdXzdv3oTBYEBQUJDdd5sx7JBK8NIykRp1794doaGhCA0NhclkQn5+PkRRhFarhYuLCwRBQHR0NDQajdWOgcwt2Z01bM/BwQEDBw7EwIEDH5sOfP36dUvHl5ubW6dfGi4rK0NFRQXGjh1rV3eqnub8+fN44403EB8fj9GjRytdDlGn4BsesistWXDald7wNMe8tkEURSQmJqJ79+6Ijo6GTqeDl5dXp4Wf6upqXLlyRbGWbHPHV2VlJQBAo9F0SsfXjRs3UF1djcDAQLsPO/n5+ViyZAni4+MxatQopcshai8eaVHXwcDzOFmWcfPmTUiSBL1ej7t371pm/YwaNarDwo/54q6tdCl1VsfXtWvXUFNTo4plp+aw8+eff2LkyJFKl0PUERh4qOtg4Hm26upqJCYmQq/X48aNGwgPD4dWq8X48ePb/AXcYDCgrKzMZi/uNjY2WnZ83b9/37Ljq7UdX1evXkVtbS0CAgLsPuzk5eUhLi6OYYfUhoGH1E+SJCxfvhyVlZVwdnbG2LFjkZqaqnRZNu3evXs4cOAAJElCQUEBQkNDodPpMHny5BZfwi0tLUVlZSUCAwPt4uLu0zq+3Nzc4Orq2myIkWUZxcXFqKurg7+/v821xbdWbm4u3nzzTezevRt+fn5Kl0PUkRh4iOjZjEYj0tPTIYoiTp48iZdeeglarRbTp09v9j5OSUmJ5XjHHu+ytKTjS5ZlXLlyBY2NjR16BKiUnJwcLF26lGGH1IqBh4harrGxESdOnIAoikhPT4efnx90Oh1mzpwJJycnmEwmbNiwAbNmzcKUKVPs/ngHwGMdX1VVVejZsyc0Gg1qamrQvXt3+Pn5qSbs7NmzB76+vp3+PHscBkp2j4GHiNrGZDIhJycHCQkJSE1NhUajQWNjI5ycnLBjxw67OMZqi/v376OgoABGoxF9+vSx7PiypeGOrXHu3Dm8/fbb2LNnD0aMGGGVZ3aVYaBkUxh4iKj9GhoaMHfuXNTU1KCurg69e/dGdHQ0tFotPDw87P4NiJksyygsLETv3r0xfPhw1NfX2+2OLwD466+/sGzZMquGnUexkYCsiIMHiah9jEYj5s2bh0mTJmHNmjWQZRk3btyAXq9HXFwc6urqEBkZCa1WixEjRthFEHgak8mEgoIC9OvXD97e3gCAXr16wdPTE56enpaOr5KSknZ1fFnL2bNnsWzZMoiiCB8fH6XLIVIM3/AQUYts2bIFzs7OWLp06RM/J8syqqqqsHfvXkiSBIPBgIiICOh0OgQGBtrNHR+TyYTz589jwIABePHFF1v066urq1FZWYmamhr079/fsuPLFi5xnz17FsuXL0dCQkKnhR0OAyUbwyMtIqWlpKRgxYoVaGpqwuuvv461a9cqXVKryLLc4jcYNTU12L9/P0RRxKVLlzBt2jRotVpMnDjRJoLA0zQ1NSE/Px+urq544YUXWv37n9bx5ebmhkGDBikymyg7OxvvvPMORFHE8OHDrf78RzHwkBUx8BApqampCb6+vkhLS4OnpyeCg4Px+++/d4m9RXV1dUhLS0NCQgLOnj2LkJAQCIKAadOmdfq+q5ZqampCXl4eNBoNPD092/15zXV8WWPHFwCcOXMGK1asgCRJlmM5JTHwkBUx8BApKSsrC5s2bbIMQtyyZQsAYN26dUqWZXUNDQ04fvw4RFHEsWPH4O/vD0EQEBERgX79+ilSU2NjI/Ly8jBkyBA8//zznfKMBw8eWC49A+jUjq8zZ85g5cqVkCQJw4YN6/DPbw0OAyUFMPAQKWnPnj1ISUnBTz/9BADYuXMnTp8+je+++07hypRjMpmQnZ0NURRx8OBBeHl5ISYmBlFRUXBxcbFKDQ0NDcjNzYWXlxfc3d2t8sz6+nrLglOj0Wjp+HJycmr3pefTp0/j3XffhV6vb9EdJCIVYpcWEdmWbt26ISQkBCEhIfj8889RWFgIURQxZ84cPPfccxAEAYIgwN3dvVO6n8xhZ+jQodBoNB3++c1xdHR8ouPr2rVr7e74OnXqFFatWsWwQ9QMBh4iK/Dw8EBpaanl+2VlZfDw8FCwItvi4OCAgIAABAQEYOPGjSgpKYEkSYiNjUVTUxOio6MhCAK8vb07JPzU19cjNzcXw4YNg5ubWwf8F7RNjx494O7uDnd3d5hMJty+fRsGgwEXL15sVcdXVlYW3nvvPezduxdDhw61UvVE9oVHWkRW0NjYCF9fXxw+fBgeHh4IDg7Grl274O/vr3RpNk2WZZSXl0Ov10OSJFRXV2PWrFnQarXw9/dvU7u70WhEbm4ufHx84Orq2glVt5+546uyshLV1dXP7Pg6efIkVq9ezbBD9C/e4SFS2v79+7Fy5Uo0NTVh0aJF+OCDD5Quye7cuXMHycnJkCQJxcXFCAsLgyAICA4OblG7e11dHXJzc+Hr62u1e0Lt9f8dX1evXsU///yDV199FWVlZVi9ejUSExPb1EpPpEIMPESkLg8ePEBqaipEUUROTg4mTZoEnU6H0NBQODo6PvHrHz58iLy8PIwcORLOzs4KVNwxSkpKsHPnTuzbtw8GgwFxcXGIjY3lFGWifzHwEJF61dfX4+jRoxBFEZmZmQgKCoJWq0V4eDj69u2LgoICfP311/jmm28wYMAApcttt8zMTKxZswbbt2/HuXPnIEkSysvLERkZibfeestqHWdENoiBh4i6hqamJpw6dQqiKOLQoUNwd3fH5cuX8e2332LGjBlKl9dux48fx9q1a5GYmAgvLy/Lj9+7dw8pKSkIDQ3FkCFDFKyQSFEMPETU9eTn52Pu3LkIDw9HdnY2XFxcIAgCoqOjodFobHLZ57NkZGRg3bp1SEpK6pCJ0EQqxMBDRF1LTk4OYmNjER8fDz8/P8iyjL///huiKCIpKQndunVDVFQUtFothg4davPhJyMjA+vXr0diYiLDDlHzGHiIqOuQZRlz5szBl19++dTFmbIs4+bNm5AkCXq9Hnfv3kVkZCQEQcCoUaNsLvyYw05SUhLnNxE9GwMPEd/asJUAAASFSURBVLXcokWLkJycDI1Gg4KCAqXL6XTV1dVISkqCJEm4fv06ZsyYAa1Wi/Hjx7dp1k9HOnbsGDZs2ICkpKRO2/VFpCIMPETUchkZGejXrx8WLFjQJQLPo2pra3HgwAFIkoT8/HxMmTIFOp0OkydPRo8e1h1Of/ToUWzcuJFhh6jlGHiIqHWuXbuGmJiYLhd4HmU0GpGeng5RFJGVlYUJEyZAEASEhYWhd+/enfrsI0eO4MMPP0RycjK7rohajoGHiFqHgedxjY2NOHHiBERRxJEjR+Dr6wtBEDBr1iz079+/Q5+Vnp6Ojz76iGGHqPUYeIiodRh4mmcymZCTkwNRFJGSkgKNRgOtVouoqCgMGjSoXZee09PTsWnTJiQlJTHsELUeAw8RtQ4DT8vIsoxLly5BFEUkJyfD0dERMTEx0Gq18PDwaFX4OXz4MDZv3ozk5GROSyZqGwYeImodBp7Wk2UZpaWllnb3hw8fIioqCoIgwNfX95nh59ChQ/j444+RnJyMwYMHW7FqIlVh4CGilps3bx6OHj2KqqoqDB48GJs3b8bixYuVLsuuyLKMqqoq7N27F5IkwWAwICIiAlqtFkFBQY+1u6elpeGTTz5h2CFqPwYeIiIl3b17F/v27YMkSbh48SKmTZsGQRBQW1uLLVu2MOwQdQwGHiIiW1FXV4e0tDTEx8cjPT0dubm50Gg0nf7c999/H0lJSXB0dMTw4cPx888/w9nZudOfS2RFDDxERLZIlmWrrbI4ePAgwsLC0KNHD6xZswYA8MUXX1jl2URW0uxfJmVnphMRdXHW3Ns1c+ZMy7ToiRMnoqyszGrPJlIaAw8RURe0fft2REZGKl0GkdVYdzEMERF1qhkzZuDWrVtP/Pinn34KnU5n+XaPHj0wf/58a5dHpBje4SEiu1ZaWooFCxagvLwcDg4OWLJkCVasWKF0WTZrx44d+P7773H48GH07dtX6XKIOhovLROROhkMBhgMBowfPx737t3DhAkToNfrMXr0aKVLszkpKSlYtWoVjh07Bjc3N6XLIeoMDDxE1DXodDosW7YMERERSpdic3x8fGA0GuHq6grg34vL27ZtU7gqog7FwENE6nft2jVMnToVBQUFHb7BnIjsAtvSiUjdamtrMXv2bGzdupVhh4iewMBDRHavoaEBs2fPxvz58/HKK68oXQ4R2SAeaRGRXZNlGQsXLoSLiwu2bt2qdDlEpCze4SEidcrMzMSUKVMwZswYywbyzz77DFFRUQpXRkQKYOAhIiIi1eOlZSIiIuq6GHiIiIhI9Rh4iIiISPUYeIiIiEj1GHiIiIhI9Rh4iIiISPUYeIiIiEj1GHiIiIhI9Rh4iIiISPUYeIiIiEj1GHiIiIhI9Rh4iIiISPUYeIiIiEj1GHiIiIhI9Rh4iIiISPUYeIiIiEj1GHiIiIhI9Rh4iIiISPUYeIiIiEj1GHiIiIhI9Xr8x887WKUKIiIiok7ENzxERESkegw8REREpHoMPERERKR6DDxERESkegw8REREpHoMPERERKR6/wNMto32yV4exgAAAABJRU5ErkJggg==\n"
                },
                "metadata": {
                  "needs_background": "light"
                }
              }
            ]
          }
        },
        "f256e07f93b14eb48c928012b754ba45": {
          "model_module": "@jupyter-widgets/base",
          "model_name": "LayoutModel",
          "model_module_version": "1.2.0",
          "state": {
            "_model_module": "@jupyter-widgets/base",
            "_model_module_version": "1.2.0",
            "_model_name": "LayoutModel",
            "_view_count": null,
            "_view_module": "@jupyter-widgets/base",
            "_view_module_version": "1.2.0",
            "_view_name": "LayoutView",
            "align_content": null,
            "align_items": null,
            "align_self": null,
            "border": null,
            "bottom": null,
            "display": null,
            "flex": null,
            "flex_flow": null,
            "grid_area": null,
            "grid_auto_columns": null,
            "grid_auto_flow": null,
            "grid_auto_rows": null,
            "grid_column": null,
            "grid_gap": null,
            "grid_row": null,
            "grid_template_areas": null,
            "grid_template_columns": null,
            "grid_template_rows": null,
            "height": null,
            "justify_content": null,
            "justify_items": null,
            "left": null,
            "margin": null,
            "max_height": null,
            "max_width": null,
            "min_height": null,
            "min_width": null,
            "object_fit": null,
            "object_position": null,
            "order": null,
            "overflow": null,
            "overflow_x": null,
            "overflow_y": null,
            "padding": null,
            "right": null,
            "top": null,
            "visibility": null,
            "width": null
          }
        },
        "e7241da0e96345e7a15b6ecbfb35fa31": {
          "model_module": "@jupyter-widgets/base",
          "model_name": "LayoutModel",
          "model_module_version": "1.2.0",
          "state": {
            "_model_module": "@jupyter-widgets/base",
            "_model_module_version": "1.2.0",
            "_model_name": "LayoutModel",
            "_view_count": null,
            "_view_module": "@jupyter-widgets/base",
            "_view_module_version": "1.2.0",
            "_view_name": "LayoutView",
            "align_content": null,
            "align_items": null,
            "align_self": null,
            "border": null,
            "bottom": null,
            "display": null,
            "flex": null,
            "flex_flow": null,
            "grid_area": null,
            "grid_auto_columns": null,
            "grid_auto_flow": null,
            "grid_auto_rows": null,
            "grid_column": null,
            "grid_gap": null,
            "grid_row": null,
            "grid_template_areas": null,
            "grid_template_columns": null,
            "grid_template_rows": null,
            "height": null,
            "justify_content": null,
            "justify_items": null,
            "left": null,
            "margin": null,
            "max_height": null,
            "max_width": null,
            "min_height": null,
            "min_width": null,
            "object_fit": null,
            "object_position": null,
            "order": null,
            "overflow": null,
            "overflow_x": null,
            "overflow_y": null,
            "padding": null,
            "right": null,
            "top": null,
            "visibility": null,
            "width": null
          }
        },
        "aa6f5730b39941e9aa9031c6606e1a8d": {
          "model_module": "@jupyter-widgets/controls",
          "model_name": "SliderStyleModel",
          "model_module_version": "1.5.0",
          "state": {
            "_model_module": "@jupyter-widgets/controls",
            "_model_module_version": "1.5.0",
            "_model_name": "SliderStyleModel",
            "_view_count": null,
            "_view_module": "@jupyter-widgets/base",
            "_view_module_version": "1.2.0",
            "_view_name": "StyleView",
            "description_width": "",
            "handle_color": null
          }
        },
        "7c9c44b88cf24d949469028c6a1bad24": {
          "model_module": "@jupyter-widgets/base",
          "model_name": "LayoutModel",
          "model_module_version": "1.2.0",
          "state": {
            "_model_module": "@jupyter-widgets/base",
            "_model_module_version": "1.2.0",
            "_model_name": "LayoutModel",
            "_view_count": null,
            "_view_module": "@jupyter-widgets/base",
            "_view_module_version": "1.2.0",
            "_view_name": "LayoutView",
            "align_content": null,
            "align_items": null,
            "align_self": null,
            "border": null,
            "bottom": null,
            "display": null,
            "flex": null,
            "flex_flow": null,
            "grid_area": null,
            "grid_auto_columns": null,
            "grid_auto_flow": null,
            "grid_auto_rows": null,
            "grid_column": null,
            "grid_gap": null,
            "grid_row": null,
            "grid_template_areas": null,
            "grid_template_columns": null,
            "grid_template_rows": null,
            "height": null,
            "justify_content": null,
            "justify_items": null,
            "left": null,
            "margin": null,
            "max_height": null,
            "max_width": null,
            "min_height": null,
            "min_width": null,
            "object_fit": null,
            "object_position": null,
            "order": null,
            "overflow": null,
            "overflow_x": null,
            "overflow_y": null,
            "padding": null,
            "right": null,
            "top": null,
            "visibility": null,
            "width": null
          }
        },
        "5142b704f2f2477bbed13970bb428755": {
          "model_module": "@jupyter-widgets/controls",
          "model_name": "SliderStyleModel",
          "model_module_version": "1.5.0",
          "state": {
            "_model_module": "@jupyter-widgets/controls",
            "_model_module_version": "1.5.0",
            "_model_name": "SliderStyleModel",
            "_view_count": null,
            "_view_module": "@jupyter-widgets/base",
            "_view_module_version": "1.2.0",
            "_view_name": "StyleView",
            "description_width": "",
            "handle_color": null
          }
        },
        "05f4b77338f54c0eba0b0b193ea50d05": {
          "model_module": "@jupyter-widgets/base",
          "model_name": "LayoutModel",
          "model_module_version": "1.2.0",
          "state": {
            "_model_module": "@jupyter-widgets/base",
            "_model_module_version": "1.2.0",
            "_model_name": "LayoutModel",
            "_view_count": null,
            "_view_module": "@jupyter-widgets/base",
            "_view_module_version": "1.2.0",
            "_view_name": "LayoutView",
            "align_content": null,
            "align_items": null,
            "align_self": null,
            "border": null,
            "bottom": null,
            "display": null,
            "flex": null,
            "flex_flow": null,
            "grid_area": null,
            "grid_auto_columns": null,
            "grid_auto_flow": null,
            "grid_auto_rows": null,
            "grid_column": null,
            "grid_gap": null,
            "grid_row": null,
            "grid_template_areas": null,
            "grid_template_columns": null,
            "grid_template_rows": null,
            "height": null,
            "justify_content": null,
            "justify_items": null,
            "left": null,
            "margin": null,
            "max_height": null,
            "max_width": null,
            "min_height": null,
            "min_width": null,
            "object_fit": null,
            "object_position": null,
            "order": null,
            "overflow": null,
            "overflow_x": null,
            "overflow_y": null,
            "padding": null,
            "right": null,
            "top": null,
            "visibility": null,
            "width": null
          }
        },
        "2a0df4e19b0d4c1f9d402e24503d6cc9": {
          "model_module": "@jupyter-widgets/controls",
          "model_name": "SliderStyleModel",
          "model_module_version": "1.5.0",
          "state": {
            "_model_module": "@jupyter-widgets/controls",
            "_model_module_version": "1.5.0",
            "_model_name": "SliderStyleModel",
            "_view_count": null,
            "_view_module": "@jupyter-widgets/base",
            "_view_module_version": "1.2.0",
            "_view_name": "StyleView",
            "description_width": "",
            "handle_color": null
          }
        },
        "c62c030e99fb4645a4bc1363f2b6c6a9": {
          "model_module": "@jupyter-widgets/base",
          "model_name": "LayoutModel",
          "model_module_version": "1.2.0",
          "state": {
            "_model_module": "@jupyter-widgets/base",
            "_model_module_version": "1.2.0",
            "_model_name": "LayoutModel",
            "_view_count": null,
            "_view_module": "@jupyter-widgets/base",
            "_view_module_version": "1.2.0",
            "_view_name": "LayoutView",
            "align_content": null,
            "align_items": null,
            "align_self": null,
            "border": null,
            "bottom": null,
            "display": null,
            "flex": null,
            "flex_flow": null,
            "grid_area": null,
            "grid_auto_columns": null,
            "grid_auto_flow": null,
            "grid_auto_rows": null,
            "grid_column": null,
            "grid_gap": null,
            "grid_row": null,
            "grid_template_areas": null,
            "grid_template_columns": null,
            "grid_template_rows": null,
            "height": null,
            "justify_content": null,
            "justify_items": null,
            "left": null,
            "margin": null,
            "max_height": null,
            "max_width": null,
            "min_height": null,
            "min_width": null,
            "object_fit": null,
            "object_position": null,
            "order": null,
            "overflow": null,
            "overflow_x": null,
            "overflow_y": null,
            "padding": null,
            "right": null,
            "top": null,
            "visibility": null,
            "width": null
          }
        },
        "ca45280a95184fbbb06296c9351a41f9": {
          "model_module": "@jupyter-widgets/controls",
          "model_name": "SliderStyleModel",
          "model_module_version": "1.5.0",
          "state": {
            "_model_module": "@jupyter-widgets/controls",
            "_model_module_version": "1.5.0",
            "_model_name": "SliderStyleModel",
            "_view_count": null,
            "_view_module": "@jupyter-widgets/base",
            "_view_module_version": "1.2.0",
            "_view_name": "StyleView",
            "description_width": "",
            "handle_color": null
          }
        },
        "427c75b1584242a8886cbab3f29c700d": {
          "model_module": "@jupyter-widgets/base",
          "model_name": "LayoutModel",
          "model_module_version": "1.2.0",
          "state": {
            "_model_module": "@jupyter-widgets/base",
            "_model_module_version": "1.2.0",
            "_model_name": "LayoutModel",
            "_view_count": null,
            "_view_module": "@jupyter-widgets/base",
            "_view_module_version": "1.2.0",
            "_view_name": "LayoutView",
            "align_content": null,
            "align_items": null,
            "align_self": null,
            "border": null,
            "bottom": null,
            "display": null,
            "flex": null,
            "flex_flow": null,
            "grid_area": null,
            "grid_auto_columns": null,
            "grid_auto_flow": null,
            "grid_auto_rows": null,
            "grid_column": null,
            "grid_gap": null,
            "grid_row": null,
            "grid_template_areas": null,
            "grid_template_columns": null,
            "grid_template_rows": null,
            "height": null,
            "justify_content": null,
            "justify_items": null,
            "left": null,
            "margin": null,
            "max_height": null,
            "max_width": null,
            "min_height": null,
            "min_width": null,
            "object_fit": null,
            "object_position": null,
            "order": null,
            "overflow": null,
            "overflow_x": null,
            "overflow_y": null,
            "padding": null,
            "right": null,
            "top": null,
            "visibility": null,
            "width": null
          }
        },
        "9a5da0bea7cd48d5a99943a2858043df": {
          "model_module": "@jupyter-widgets/controls",
          "model_name": "SliderStyleModel",
          "model_module_version": "1.5.0",
          "state": {
            "_model_module": "@jupyter-widgets/controls",
            "_model_module_version": "1.5.0",
            "_model_name": "SliderStyleModel",
            "_view_count": null,
            "_view_module": "@jupyter-widgets/base",
            "_view_module_version": "1.2.0",
            "_view_name": "StyleView",
            "description_width": "",
            "handle_color": null
          }
        },
        "8401f7fc71434cedbf5d88ce1f544f4d": {
          "model_module": "@jupyter-widgets/base",
          "model_name": "LayoutModel",
          "model_module_version": "1.2.0",
          "state": {
            "_model_module": "@jupyter-widgets/base",
            "_model_module_version": "1.2.0",
            "_model_name": "LayoutModel",
            "_view_count": null,
            "_view_module": "@jupyter-widgets/base",
            "_view_module_version": "1.2.0",
            "_view_name": "LayoutView",
            "align_content": null,
            "align_items": null,
            "align_self": null,
            "border": null,
            "bottom": null,
            "display": null,
            "flex": null,
            "flex_flow": null,
            "grid_area": null,
            "grid_auto_columns": null,
            "grid_auto_flow": null,
            "grid_auto_rows": null,
            "grid_column": null,
            "grid_gap": null,
            "grid_row": null,
            "grid_template_areas": null,
            "grid_template_columns": null,
            "grid_template_rows": null,
            "height": null,
            "justify_content": null,
            "justify_items": null,
            "left": null,
            "margin": null,
            "max_height": null,
            "max_width": null,
            "min_height": null,
            "min_width": null,
            "object_fit": null,
            "object_position": null,
            "order": null,
            "overflow": null,
            "overflow_x": null,
            "overflow_y": null,
            "padding": null,
            "right": null,
            "top": null,
            "visibility": null,
            "width": null
          }
        },
        "554f80dce80e4fc691a537bdf2018b41": {
          "model_module": "@jupyter-widgets/controls",
          "model_name": "SliderStyleModel",
          "model_module_version": "1.5.0",
          "state": {
            "_model_module": "@jupyter-widgets/controls",
            "_model_module_version": "1.5.0",
            "_model_name": "SliderStyleModel",
            "_view_count": null,
            "_view_module": "@jupyter-widgets/base",
            "_view_module_version": "1.2.0",
            "_view_name": "StyleView",
            "description_width": "",
            "handle_color": null
          }
        },
        "abb4b89dea644c9998c669ea6f12636a": {
          "model_module": "@jupyter-widgets/base",
          "model_name": "LayoutModel",
          "model_module_version": "1.2.0",
          "state": {
            "_model_module": "@jupyter-widgets/base",
            "_model_module_version": "1.2.0",
            "_model_name": "LayoutModel",
            "_view_count": null,
            "_view_module": "@jupyter-widgets/base",
            "_view_module_version": "1.2.0",
            "_view_name": "LayoutView",
            "align_content": null,
            "align_items": null,
            "align_self": null,
            "border": null,
            "bottom": null,
            "display": null,
            "flex": null,
            "flex_flow": null,
            "grid_area": null,
            "grid_auto_columns": null,
            "grid_auto_flow": null,
            "grid_auto_rows": null,
            "grid_column": null,
            "grid_gap": null,
            "grid_row": null,
            "grid_template_areas": null,
            "grid_template_columns": null,
            "grid_template_rows": null,
            "height": null,
            "justify_content": null,
            "justify_items": null,
            "left": null,
            "margin": null,
            "max_height": null,
            "max_width": null,
            "min_height": null,
            "min_width": null,
            "object_fit": null,
            "object_position": null,
            "order": null,
            "overflow": null,
            "overflow_x": null,
            "overflow_y": null,
            "padding": null,
            "right": null,
            "top": null,
            "visibility": null,
            "width": null
          }
        }
      }
    }
  },
  "nbformat": 4,
  "nbformat_minor": 0
}
