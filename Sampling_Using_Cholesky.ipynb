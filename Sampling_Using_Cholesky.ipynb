{
  "cells": [
    {
      "cell_type": "code",
      "execution_count": 323,
      "metadata": {
        "id": "UNrWHq361BvT"
      },
      "outputs": [],
      "source": [
        "import jax.numpy as jnp\n",
        "from jax.numpy import linalg as JLA\n",
        "import jax\n",
        "import numpy as np\n",
        "import plotly.graph_objects as go\n",
        "from numpy import linalg as LA"
      ]
    },
    {
      "cell_type": "markdown",
      "metadata": {
        "id": "boltlLCoztiS"
      },
      "source": [
        "## Declare Dimension, Means , Covariance Matrix"
      ]
    },
    {
      "cell_type": "code",
      "execution_count": 324,
      "metadata": {
        "id": "geGiwyg20nFn"
      },
      "outputs": [],
      "source": [
        "d = 10\n",
        "mean = jax.random.uniform(jax.random.PRNGKey(0), shape=(d,1), minval=0, maxval=10, dtype=jnp.float32)\n",
        "mat = jax.random.uniform(jax.random.PRNGKey(2), shape=(d,d), minval=0, maxval=2, dtype=jnp.float32)\n",
        "sym_mat = (mat+mat.T)/2\n",
        "cov = jnp.dot(sym_mat,sym_mat.T)\n",
        "cov = cov + d*jnp.identity(d)"
      ]
    },
    {
      "cell_type": "markdown",
      "metadata": {
        "id": "BUJTPcdeAFP7"
      },
      "source": [
        "### Verify if Covariance MAtrix is Positive Semidefinite"
      ]
    },
    {
      "cell_type": "code",
      "execution_count": 325,
      "metadata": {
        "id": "c7YVQ8D5-Vwg"
      },
      "outputs": [],
      "source": [
        "cov_eignvals = JLA.eigvals(cov)\n",
        "if(np.any(cov_eignvals < 0)):\n",
        "  print(\"The covariance matrix is not positive semidefinite, generate again\")"
      ]
    },
    {
      "cell_type": "code",
      "execution_count": 326,
      "metadata": {
        "id": "g09stjT_KVwZ"
      },
      "outputs": [],
      "source": [
        "def Chol_decomp(mat):\n",
        "\n",
        "    shape = cov.shape[0]\n",
        " \n",
        "    L = jnp.zeros((d,d))\n",
        "\n",
        "    for i in range(shape):\n",
        "        for j in range(i + 1):\n",
        "            sum = 0\n",
        " \n",
        "            # For Variance\n",
        "            if (j == i):\n",
        "                for k in range(j):\n",
        "                    sum += (L[j][k])**2 \n",
        "                L = L.at[i,j].set(jnp.sqrt(mat[i][j] - sum))\n",
        "            # For covariace\n",
        "            else:\n",
        "                for k in range(j):\n",
        "                    sum += L[i][k] * L[j][k]\n",
        "                if(L[j][j] > 0):\n",
        "                    L = L.at[i,j].set((mat[i][j] - sum) / (L[j][j]))\n",
        "\n",
        " \n",
        "    return L"
      ]
    },
    {
      "cell_type": "markdown",
      "metadata": {
        "id": "8AV03SbD05lG"
      },
      "source": [
        "### Validate Cholsky Decomposition"
      ]
    },
    {
      "cell_type": "code",
      "execution_count": 327,
      "metadata": {
        "colab": {
          "base_uri": "https://localhost:8080/"
        },
        "id": "NSffipzBLImQ",
        "outputId": "ef744b94-ea46-4459-cc61-2d745e8240b1"
      },
      "outputs": [
        {
          "output_type": "stream",
          "name": "stdout",
          "text": [
            "Decomposition worked Correctly\n"
          ]
        }
      ],
      "source": [
        "L = Chol_decomp(cov)\n",
        "\n",
        "decomp_val = jnp.round(cov,4) == jnp.round(jnp.dot(L,L.T),4)\n",
        "if(jnp.any(decomp_val == False)):\n",
        "  print(\"Seems like the Decomposition did not work correctly. Check if you have rounded of the values\")\n",
        "else:\n",
        "  print(\"Decomposition worked Correctly\")"
      ]
    },
    {
      "cell_type": "code",
      "execution_count": 688,
      "metadata": {
        "id": "kp93bGPA4Ubq"
      },
      "outputs": [],
      "source": [
        "def gen_std_MVN(sample_size=10000,d=10):\n",
        "\n",
        "  std_MVN = jnp.zeros((sample_size,d))\n",
        "  for i in range(d):\n",
        "\n",
        "    unf = jax.random.uniform(jax.random.PRNGKey(i), shape=(d,sample_size), minval=0, maxval=100, dtype=jnp.float32)\n",
        "    normal = jnp.sum(unf,axis=0)\n",
        "    std_normal = (normal - jnp.mean(normal))/ jnp.sqrt(jnp.var(normal))\n",
        "    std_MVN = std_MVN.at[:,i].set(std_normal)\n",
        "    # print(std_normal)\n",
        "    # print(samples)\n",
        "    # print('----------------------------------------------')\n",
        "    # print(jnp.mean(samples[:,i]),jnp.var(samples[:,i]))\n",
        "    # print(\"______________________________________________\")\n",
        "\n",
        "  return std_MVN.T\n",
        "\n",
        "\n",
        "def gen_std_MVN_1(sample_size=10000,d=10):\n",
        "\n",
        "  std_MVN = jnp.zeros((d,sample_size))\n",
        "  for i in range(d):\n",
        "\n",
        "    unf = jax.random.uniform(jax.random.PRNGKey(i), shape=(sample_size,d), minval=0, maxval=100, dtype=jnp.float32)\n",
        "    normal = jnp.sum(unf,axis=1)\n",
        "    std_normal = (normal - jnp.mean(normal))/ jnp.sqrt(jnp.var(normal))\n",
        "    std_MVN = std_MVN.at[i,:].set(std_normal)\n",
        "    # print(std_normal)\n",
        "    # print(samples)\n",
        "    # print('----------------------------------------------')\n",
        "    # print(jnp.mean(samples[i,:]),jnp.var(samples[i,:]))\n",
        "    # print(\"______________________________________________\")\n",
        "\n",
        "\n",
        "  return std_MVN\n",
        "\n"
      ]
    },
    {
      "cell_type": "code",
      "source": [
        "std_MVN= gen_std_MVN()\n",
        "samples = mean + jnp.dot(L,std_MVN)\n",
        "\n",
        "\n",
        "std_MVN_1= gen_std_MVN_1()\n",
        "samples_1 = mean + jnp.dot(L,std_MVN_1)\n",
        "\n",
        "n = 10000\n",
        "u = np.random.normal(loc=0, scale=1, size=10*n).reshape(10, n)\n",
        "samples_2 = mean + jnp.dot(L,u)"
      ],
      "metadata": {
        "id": "RXH41e6VdSs-"
      },
      "execution_count": 715,
      "outputs": []
    },
    {
      "cell_type": "code",
      "source": [
        "mean"
      ],
      "metadata": {
        "colab": {
          "base_uri": "https://localhost:8080/"
        },
        "id": "7FjMlDsHDtIw",
        "outputId": "44927de5-e936-4786-be73-df306df14bce"
      },
      "execution_count": 690,
      "outputs": [
        {
          "output_type": "execute_result",
          "data": {
            "text/plain": [
              "DeviceArray([[3.5490513],\n",
              "             [6.0419903],\n",
              "             [4.2758427],\n",
              "             [2.3061597],\n",
              "             [3.2985854],\n",
              "             [4.3953657],\n",
              "             [2.5099766],\n",
              "             [2.7730572],\n",
              "             [7.6782074],\n",
              "             [7.147456 ]], dtype=float32)"
            ]
          },
          "metadata": {},
          "execution_count": 690
        }
      ]
    },
    {
      "cell_type": "code",
      "source": [
        "jnp.sum(jnp.abs(jnp.mean(samples,axis=1) - mean.squeeze()))"
      ],
      "metadata": {
        "colab": {
          "base_uri": "https://localhost:8080/"
        },
        "id": "SLr310JLFlA1",
        "outputId": "9ed8256b-3b9b-4e9b-8e50-863f53b7b8da"
      },
      "execution_count": 707,
      "outputs": [
        {
          "output_type": "execute_result",
          "data": {
            "text/plain": [
              "DeviceArray(5.9604645e-06, dtype=float32)"
            ]
          },
          "metadata": {},
          "execution_count": 707
        }
      ]
    },
    {
      "cell_type": "code",
      "source": [
        "jnp.sum(jnp.abs(jnp.mean(samples_1,axis=1) - mean.squeeze()))"
      ],
      "metadata": {
        "colab": {
          "base_uri": "https://localhost:8080/"
        },
        "id": "1xXz5jDCGnZU",
        "outputId": "ee2eda5e-7ebf-4611-f461-fefe3b672305"
      },
      "execution_count": 708,
      "outputs": [
        {
          "output_type": "execute_result",
          "data": {
            "text/plain": [
              "DeviceArray(5.722046e-06, dtype=float32)"
            ]
          },
          "metadata": {},
          "execution_count": 708
        }
      ]
    },
    {
      "cell_type": "code",
      "source": [
        "jnp.sum(jnp.abs(jnp.cov(samples) - cov)) "
      ],
      "metadata": {
        "colab": {
          "base_uri": "https://localhost:8080/"
        },
        "id": "c9hu1CvbF0tk",
        "outputId": "5c9bf580-9f6f-40c0-ecb0-2ad1e01d0feb"
      },
      "execution_count": 714,
      "outputs": [
        {
          "output_type": "execute_result",
          "data": {
            "text/plain": [
              "DeviceArray(10.808604, dtype=float32)"
            ]
          },
          "metadata": {},
          "execution_count": 714
        }
      ]
    },
    {
      "cell_type": "code",
      "source": [
        "jnp.sum(jnp.abs(jnp.cov(samples_1) - cov)) "
      ],
      "metadata": {
        "colab": {
          "base_uri": "https://localhost:8080/"
        },
        "id": "ixXavP5ZDkML",
        "outputId": "eeec1763-0363-46d4-96dd-e7e5158dc466"
      },
      "execution_count": 713,
      "outputs": [
        {
          "output_type": "execute_result",
          "data": {
            "text/plain": [
              "DeviceArray(14.157106, dtype=float32)"
            ]
          },
          "metadata": {},
          "execution_count": 713
        }
      ]
    },
    {
      "cell_type": "code",
      "source": [
        "jnp.sum(jnp.abs(jnp.cov(samples_2) - cov)) "
      ],
      "metadata": {
        "colab": {
          "base_uri": "https://localhost:8080/"
        },
        "id": "sd3CkMj3JPL0",
        "outputId": "14335ff9-f116-4004-8d2b-433edf176b6d"
      },
      "execution_count": 716,
      "outputs": [
        {
          "output_type": "execute_result",
          "data": {
            "text/plain": [
              "DeviceArray(22.32653, dtype=float32)"
            ]
          },
          "metadata": {},
          "execution_count": 716
        }
      ]
    },
    {
      "cell_type": "code",
      "source": [
        ""
      ],
      "metadata": {
        "id": "Mqr3yjLQKb7t"
      },
      "execution_count": null,
      "outputs": []
    }
  ],
  "metadata": {
    "colab": {
      "collapsed_sections": [],
      "name": "Sampling Using Cholesky.ipynb",
      "provenance": []
    },
    "kernelspec": {
      "display_name": "Python 3",
      "name": "python3"
    },
    "language_info": {
      "name": "python"
    }
  },
  "nbformat": 4,
  "nbformat_minor": 0
}